{
  "nbformat": 4,
  "nbformat_minor": 0,
  "metadata": {
    "kernelspec": {
      "display_name": "Python 3",
      "language": "python",
      "name": "python3"
    },
    "language_info": {
      "codemirror_mode": {
        "name": "ipython",
        "version": 3
      },
      "file_extension": ".py",
      "mimetype": "text/x-python",
      "name": "python",
      "nbconvert_exporter": "python",
      "pygments_lexer": "ipython3",
      "version": "3.7.4"
    },
    "colab": {
      "name": "Readmission_Prediction.ipynb",
      "provenance": [],
      "collapsed_sections": []
    }
  },
  "cells": [
    {
      "cell_type": "markdown",
      "metadata": {
        "id": "mTGFN2tDKIct",
        "colab_type": "text"
      },
      "source": [
        "# Target - Readmission"
      ]
    },
    {
      "cell_type": "markdown",
      "metadata": {
        "id": "B92nit2JLNu-",
        "colab_type": "text"
      },
      "source": [
        "## Google Drive"
      ]
    },
    {
      "cell_type": "code",
      "metadata": {
        "id": "gDjDwDxoLQrz",
        "colab_type": "code",
        "outputId": "fc5f7fca-4c18-4c54-a558-262a18bc8b03",
        "colab": {
          "base_uri": "https://localhost:8080/",
          "height": 34
        }
      },
      "source": [
        "# Mount Google Drive\n",
        "from google.colab import drive\n",
        "drive.mount('/content/drive')\n",
        "\n",
        "# Set working directory\n",
        "abspath = '/content/drive/My Drive/Colab Notebooks/ML1/Final Project/'"
      ],
      "execution_count": 6,
      "outputs": [
        {
          "output_type": "stream",
          "text": [
            "Drive already mounted at /content/drive; to attempt to forcibly remount, call drive.mount(\"/content/drive\", force_remount=True).\n"
          ],
          "name": "stdout"
        }
      ]
    },
    {
      "cell_type": "markdown",
      "metadata": {
        "id": "Zw4ttBADKIct",
        "colab_type": "text"
      },
      "source": [
        "# Import Packages"
      ]
    },
    {
      "cell_type": "code",
      "metadata": {
        "id": "8u9aql00KIcu",
        "colab_type": "code",
        "colab": {}
      },
      "source": [
        "import warnings\n",
        "warnings.filterwarnings('ignore')"
      ],
      "execution_count": 0,
      "outputs": []
    },
    {
      "cell_type": "code",
      "metadata": {
        "id": "71MTmQUdKIcx",
        "colab_type": "code",
        "colab": {}
      },
      "source": [
        "import pandas as pd\n",
        "import numpy as np"
      ],
      "execution_count": 0,
      "outputs": []
    },
    {
      "cell_type": "markdown",
      "metadata": {
        "id": "fZRmeF54KIcz",
        "colab_type": "text"
      },
      "source": [
        "# Load Data"
      ]
    },
    {
      "cell_type": "code",
      "metadata": {
        "id": "OzFAeOOIKIcz",
        "colab_type": "code",
        "colab": {}
      },
      "source": [
        "# data = pd.read_csv('./diabetic_data.csv')\n",
        "data = pd.read_csv(abspath + 'diabetic_data.csv', header = 0)"
      ],
      "execution_count": 0,
      "outputs": []
    },
    {
      "cell_type": "markdown",
      "metadata": {
        "id": "XDloxN3HKIc2",
        "colab_type": "text"
      },
      "source": [
        "##### In the next step we filter out those instances where the medicines/treatments given are for Diabetes. This allows us to work with only those patients who actually have diabetes."
      ]
    },
    {
      "cell_type": "code",
      "metadata": {
        "id": "YyJmPcjXKIc2",
        "colab_type": "code",
        "colab": {}
      },
      "source": [
        "data_diabetic = data[data['diabetesMed']=='Yes']"
      ],
      "execution_count": 0,
      "outputs": []
    },
    {
      "cell_type": "code",
      "metadata": {
        "id": "QOmzOcLuKIc4",
        "colab_type": "code",
        "outputId": "f48bdc8f-dbb6-4310-87e6-eb8e438e1bba",
        "colab": {
          "base_uri": "https://localhost:8080/",
          "height": 316
        }
      },
      "source": [
        "# Create a copy of the final usable dataframe\n",
        "df = data_diabetic.copy(deep=True)\n",
        "\n",
        "# Display the first 5 instances\n",
        "df.head()"
      ],
      "execution_count": 9,
      "outputs": [
        {
          "output_type": "execute_result",
          "data": {
            "text/html": [
              "<div>\n",
              "<style scoped>\n",
              "    .dataframe tbody tr th:only-of-type {\n",
              "        vertical-align: middle;\n",
              "    }\n",
              "\n",
              "    .dataframe tbody tr th {\n",
              "        vertical-align: top;\n",
              "    }\n",
              "\n",
              "    .dataframe thead th {\n",
              "        text-align: right;\n",
              "    }\n",
              "</style>\n",
              "<table border=\"1\" class=\"dataframe\">\n",
              "  <thead>\n",
              "    <tr style=\"text-align: right;\">\n",
              "      <th></th>\n",
              "      <th>encounter_id</th>\n",
              "      <th>patient_nbr</th>\n",
              "      <th>race</th>\n",
              "      <th>gender</th>\n",
              "      <th>age</th>\n",
              "      <th>weight</th>\n",
              "      <th>admission_type_id</th>\n",
              "      <th>discharge_disposition_id</th>\n",
              "      <th>admission_source_id</th>\n",
              "      <th>time_in_hospital</th>\n",
              "      <th>payer_code</th>\n",
              "      <th>medical_specialty</th>\n",
              "      <th>num_lab_procedures</th>\n",
              "      <th>num_procedures</th>\n",
              "      <th>num_medications</th>\n",
              "      <th>number_outpatient</th>\n",
              "      <th>number_emergency</th>\n",
              "      <th>number_inpatient</th>\n",
              "      <th>diag_1</th>\n",
              "      <th>diag_2</th>\n",
              "      <th>diag_3</th>\n",
              "      <th>number_diagnoses</th>\n",
              "      <th>max_glu_serum</th>\n",
              "      <th>A1Cresult</th>\n",
              "      <th>metformin</th>\n",
              "      <th>repaglinide</th>\n",
              "      <th>nateglinide</th>\n",
              "      <th>chlorpropamide</th>\n",
              "      <th>glimepiride</th>\n",
              "      <th>acetohexamide</th>\n",
              "      <th>glipizide</th>\n",
              "      <th>glyburide</th>\n",
              "      <th>tolbutamide</th>\n",
              "      <th>pioglitazone</th>\n",
              "      <th>rosiglitazone</th>\n",
              "      <th>acarbose</th>\n",
              "      <th>miglitol</th>\n",
              "      <th>troglitazone</th>\n",
              "      <th>tolazamide</th>\n",
              "      <th>examide</th>\n",
              "      <th>citoglipton</th>\n",
              "      <th>insulin</th>\n",
              "      <th>glyburide-metformin</th>\n",
              "      <th>glipizide-metformin</th>\n",
              "      <th>glimepiride-pioglitazone</th>\n",
              "      <th>metformin-rosiglitazone</th>\n",
              "      <th>metformin-pioglitazone</th>\n",
              "      <th>change</th>\n",
              "      <th>diabetesMed</th>\n",
              "      <th>readmitted</th>\n",
              "    </tr>\n",
              "  </thead>\n",
              "  <tbody>\n",
              "    <tr>\n",
              "      <th>1</th>\n",
              "      <td>149190</td>\n",
              "      <td>55629189</td>\n",
              "      <td>Caucasian</td>\n",
              "      <td>Female</td>\n",
              "      <td>[10-20)</td>\n",
              "      <td>?</td>\n",
              "      <td>1</td>\n",
              "      <td>1</td>\n",
              "      <td>7</td>\n",
              "      <td>3</td>\n",
              "      <td>?</td>\n",
              "      <td>?</td>\n",
              "      <td>59</td>\n",
              "      <td>0</td>\n",
              "      <td>18</td>\n",
              "      <td>0</td>\n",
              "      <td>0</td>\n",
              "      <td>0</td>\n",
              "      <td>276</td>\n",
              "      <td>250.01</td>\n",
              "      <td>255</td>\n",
              "      <td>9</td>\n",
              "      <td>None</td>\n",
              "      <td>None</td>\n",
              "      <td>No</td>\n",
              "      <td>No</td>\n",
              "      <td>No</td>\n",
              "      <td>No</td>\n",
              "      <td>No</td>\n",
              "      <td>No</td>\n",
              "      <td>No</td>\n",
              "      <td>No</td>\n",
              "      <td>No</td>\n",
              "      <td>No</td>\n",
              "      <td>No</td>\n",
              "      <td>No</td>\n",
              "      <td>No</td>\n",
              "      <td>No</td>\n",
              "      <td>No</td>\n",
              "      <td>No</td>\n",
              "      <td>No</td>\n",
              "      <td>Up</td>\n",
              "      <td>No</td>\n",
              "      <td>No</td>\n",
              "      <td>No</td>\n",
              "      <td>No</td>\n",
              "      <td>No</td>\n",
              "      <td>Ch</td>\n",
              "      <td>Yes</td>\n",
              "      <td>&gt;30</td>\n",
              "    </tr>\n",
              "    <tr>\n",
              "      <th>2</th>\n",
              "      <td>64410</td>\n",
              "      <td>86047875</td>\n",
              "      <td>AfricanAmerican</td>\n",
              "      <td>Female</td>\n",
              "      <td>[20-30)</td>\n",
              "      <td>?</td>\n",
              "      <td>1</td>\n",
              "      <td>1</td>\n",
              "      <td>7</td>\n",
              "      <td>2</td>\n",
              "      <td>?</td>\n",
              "      <td>?</td>\n",
              "      <td>11</td>\n",
              "      <td>5</td>\n",
              "      <td>13</td>\n",
              "      <td>2</td>\n",
              "      <td>0</td>\n",
              "      <td>1</td>\n",
              "      <td>648</td>\n",
              "      <td>250</td>\n",
              "      <td>V27</td>\n",
              "      <td>6</td>\n",
              "      <td>None</td>\n",
              "      <td>None</td>\n",
              "      <td>No</td>\n",
              "      <td>No</td>\n",
              "      <td>No</td>\n",
              "      <td>No</td>\n",
              "      <td>No</td>\n",
              "      <td>No</td>\n",
              "      <td>Steady</td>\n",
              "      <td>No</td>\n",
              "      <td>No</td>\n",
              "      <td>No</td>\n",
              "      <td>No</td>\n",
              "      <td>No</td>\n",
              "      <td>No</td>\n",
              "      <td>No</td>\n",
              "      <td>No</td>\n",
              "      <td>No</td>\n",
              "      <td>No</td>\n",
              "      <td>No</td>\n",
              "      <td>No</td>\n",
              "      <td>No</td>\n",
              "      <td>No</td>\n",
              "      <td>No</td>\n",
              "      <td>No</td>\n",
              "      <td>No</td>\n",
              "      <td>Yes</td>\n",
              "      <td>NO</td>\n",
              "    </tr>\n",
              "    <tr>\n",
              "      <th>3</th>\n",
              "      <td>500364</td>\n",
              "      <td>82442376</td>\n",
              "      <td>Caucasian</td>\n",
              "      <td>Male</td>\n",
              "      <td>[30-40)</td>\n",
              "      <td>?</td>\n",
              "      <td>1</td>\n",
              "      <td>1</td>\n",
              "      <td>7</td>\n",
              "      <td>2</td>\n",
              "      <td>?</td>\n",
              "      <td>?</td>\n",
              "      <td>44</td>\n",
              "      <td>1</td>\n",
              "      <td>16</td>\n",
              "      <td>0</td>\n",
              "      <td>0</td>\n",
              "      <td>0</td>\n",
              "      <td>8</td>\n",
              "      <td>250.43</td>\n",
              "      <td>403</td>\n",
              "      <td>7</td>\n",
              "      <td>None</td>\n",
              "      <td>None</td>\n",
              "      <td>No</td>\n",
              "      <td>No</td>\n",
              "      <td>No</td>\n",
              "      <td>No</td>\n",
              "      <td>No</td>\n",
              "      <td>No</td>\n",
              "      <td>No</td>\n",
              "      <td>No</td>\n",
              "      <td>No</td>\n",
              "      <td>No</td>\n",
              "      <td>No</td>\n",
              "      <td>No</td>\n",
              "      <td>No</td>\n",
              "      <td>No</td>\n",
              "      <td>No</td>\n",
              "      <td>No</td>\n",
              "      <td>No</td>\n",
              "      <td>Up</td>\n",
              "      <td>No</td>\n",
              "      <td>No</td>\n",
              "      <td>No</td>\n",
              "      <td>No</td>\n",
              "      <td>No</td>\n",
              "      <td>Ch</td>\n",
              "      <td>Yes</td>\n",
              "      <td>NO</td>\n",
              "    </tr>\n",
              "    <tr>\n",
              "      <th>4</th>\n",
              "      <td>16680</td>\n",
              "      <td>42519267</td>\n",
              "      <td>Caucasian</td>\n",
              "      <td>Male</td>\n",
              "      <td>[40-50)</td>\n",
              "      <td>?</td>\n",
              "      <td>1</td>\n",
              "      <td>1</td>\n",
              "      <td>7</td>\n",
              "      <td>1</td>\n",
              "      <td>?</td>\n",
              "      <td>?</td>\n",
              "      <td>51</td>\n",
              "      <td>0</td>\n",
              "      <td>8</td>\n",
              "      <td>0</td>\n",
              "      <td>0</td>\n",
              "      <td>0</td>\n",
              "      <td>197</td>\n",
              "      <td>157</td>\n",
              "      <td>250</td>\n",
              "      <td>5</td>\n",
              "      <td>None</td>\n",
              "      <td>None</td>\n",
              "      <td>No</td>\n",
              "      <td>No</td>\n",
              "      <td>No</td>\n",
              "      <td>No</td>\n",
              "      <td>No</td>\n",
              "      <td>No</td>\n",
              "      <td>Steady</td>\n",
              "      <td>No</td>\n",
              "      <td>No</td>\n",
              "      <td>No</td>\n",
              "      <td>No</td>\n",
              "      <td>No</td>\n",
              "      <td>No</td>\n",
              "      <td>No</td>\n",
              "      <td>No</td>\n",
              "      <td>No</td>\n",
              "      <td>No</td>\n",
              "      <td>Steady</td>\n",
              "      <td>No</td>\n",
              "      <td>No</td>\n",
              "      <td>No</td>\n",
              "      <td>No</td>\n",
              "      <td>No</td>\n",
              "      <td>Ch</td>\n",
              "      <td>Yes</td>\n",
              "      <td>NO</td>\n",
              "    </tr>\n",
              "    <tr>\n",
              "      <th>5</th>\n",
              "      <td>35754</td>\n",
              "      <td>82637451</td>\n",
              "      <td>Caucasian</td>\n",
              "      <td>Male</td>\n",
              "      <td>[50-60)</td>\n",
              "      <td>?</td>\n",
              "      <td>2</td>\n",
              "      <td>1</td>\n",
              "      <td>2</td>\n",
              "      <td>3</td>\n",
              "      <td>?</td>\n",
              "      <td>?</td>\n",
              "      <td>31</td>\n",
              "      <td>6</td>\n",
              "      <td>16</td>\n",
              "      <td>0</td>\n",
              "      <td>0</td>\n",
              "      <td>0</td>\n",
              "      <td>414</td>\n",
              "      <td>411</td>\n",
              "      <td>250</td>\n",
              "      <td>9</td>\n",
              "      <td>None</td>\n",
              "      <td>None</td>\n",
              "      <td>No</td>\n",
              "      <td>No</td>\n",
              "      <td>No</td>\n",
              "      <td>No</td>\n",
              "      <td>No</td>\n",
              "      <td>No</td>\n",
              "      <td>No</td>\n",
              "      <td>No</td>\n",
              "      <td>No</td>\n",
              "      <td>No</td>\n",
              "      <td>No</td>\n",
              "      <td>No</td>\n",
              "      <td>No</td>\n",
              "      <td>No</td>\n",
              "      <td>No</td>\n",
              "      <td>No</td>\n",
              "      <td>No</td>\n",
              "      <td>Steady</td>\n",
              "      <td>No</td>\n",
              "      <td>No</td>\n",
              "      <td>No</td>\n",
              "      <td>No</td>\n",
              "      <td>No</td>\n",
              "      <td>No</td>\n",
              "      <td>Yes</td>\n",
              "      <td>&gt;30</td>\n",
              "    </tr>\n",
              "  </tbody>\n",
              "</table>\n",
              "</div>"
            ],
            "text/plain": [
              "   encounter_id  patient_nbr             race  ... change diabetesMed readmitted\n",
              "1        149190     55629189        Caucasian  ...     Ch         Yes        >30\n",
              "2         64410     86047875  AfricanAmerican  ...     No         Yes         NO\n",
              "3        500364     82442376        Caucasian  ...     Ch         Yes         NO\n",
              "4         16680     42519267        Caucasian  ...     Ch         Yes         NO\n",
              "5         35754     82637451        Caucasian  ...     No         Yes        >30\n",
              "\n",
              "[5 rows x 50 columns]"
            ]
          },
          "metadata": {
            "tags": []
          },
          "execution_count": 9
        }
      ]
    },
    {
      "cell_type": "code",
      "metadata": {
        "id": "d3sh14XmKIc6",
        "colab_type": "code",
        "outputId": "40b88e9f-b4f8-4889-9f7b-97f4f33e0c9b",
        "colab": {
          "base_uri": "https://localhost:8080/",
          "height": 77
        }
      },
      "source": [
        "# Display the rows and columns in df\n",
        "pd.DataFrame([[df.shape[0], df.shape[1]]], columns=['# rows', '# columns'])"
      ],
      "execution_count": 10,
      "outputs": [
        {
          "output_type": "execute_result",
          "data": {
            "text/html": [
              "<div>\n",
              "<style scoped>\n",
              "    .dataframe tbody tr th:only-of-type {\n",
              "        vertical-align: middle;\n",
              "    }\n",
              "\n",
              "    .dataframe tbody tr th {\n",
              "        vertical-align: top;\n",
              "    }\n",
              "\n",
              "    .dataframe thead th {\n",
              "        text-align: right;\n",
              "    }\n",
              "</style>\n",
              "<table border=\"1\" class=\"dataframe\">\n",
              "  <thead>\n",
              "    <tr style=\"text-align: right;\">\n",
              "      <th></th>\n",
              "      <th># rows</th>\n",
              "      <th># columns</th>\n",
              "    </tr>\n",
              "  </thead>\n",
              "  <tbody>\n",
              "    <tr>\n",
              "      <th>0</th>\n",
              "      <td>78363</td>\n",
              "      <td>50</td>\n",
              "    </tr>\n",
              "  </tbody>\n",
              "</table>\n",
              "</div>"
            ],
            "text/plain": [
              "   # rows  # columns\n",
              "0   78363         50"
            ]
          },
          "metadata": {
            "tags": []
          },
          "execution_count": 10
        }
      ]
    },
    {
      "cell_type": "code",
      "metadata": {
        "id": "9ukDQ9rtKIdA",
        "colab_type": "code",
        "outputId": "48d59aef-86a4-4d1d-c95f-42eb4d055a62",
        "colab": {
          "base_uri": "https://localhost:8080/",
          "height": 252
        }
      },
      "source": [
        "# List the columns to understand the data\n",
        "df.columns"
      ],
      "execution_count": 11,
      "outputs": [
        {
          "output_type": "execute_result",
          "data": {
            "text/plain": [
              "Index(['encounter_id', 'patient_nbr', 'race', 'gender', 'age', 'weight',\n",
              "       'admission_type_id', 'discharge_disposition_id', 'admission_source_id',\n",
              "       'time_in_hospital', 'payer_code', 'medical_specialty',\n",
              "       'num_lab_procedures', 'num_procedures', 'num_medications',\n",
              "       'number_outpatient', 'number_emergency', 'number_inpatient', 'diag_1',\n",
              "       'diag_2', 'diag_3', 'number_diagnoses', 'max_glu_serum', 'A1Cresult',\n",
              "       'metformin', 'repaglinide', 'nateglinide', 'chlorpropamide',\n",
              "       'glimepiride', 'acetohexamide', 'glipizide', 'glyburide', 'tolbutamide',\n",
              "       'pioglitazone', 'rosiglitazone', 'acarbose', 'miglitol', 'troglitazone',\n",
              "       'tolazamide', 'examide', 'citoglipton', 'insulin',\n",
              "       'glyburide-metformin', 'glipizide-metformin',\n",
              "       'glimepiride-pioglitazone', 'metformin-rosiglitazone',\n",
              "       'metformin-pioglitazone', 'change', 'diabetesMed', 'readmitted'],\n",
              "      dtype='object')"
            ]
          },
          "metadata": {
            "tags": []
          },
          "execution_count": 11
        }
      ]
    },
    {
      "cell_type": "code",
      "metadata": {
        "id": "OBpNAbLbKIdC",
        "colab_type": "code",
        "outputId": "a91e9dea-1319-49dc-93e2-6e84ef65f54d",
        "colab": {
          "base_uri": "https://localhost:8080/",
          "height": 974
        }
      },
      "source": [
        "# Understand the description of the data and the data type of each column\n",
        "df.info()"
      ],
      "execution_count": 12,
      "outputs": [
        {
          "output_type": "stream",
          "text": [
            "<class 'pandas.core.frame.DataFrame'>\n",
            "Int64Index: 78363 entries, 1 to 101764\n",
            "Data columns (total 50 columns):\n",
            " #   Column                    Non-Null Count  Dtype \n",
            "---  ------                    --------------  ----- \n",
            " 0   encounter_id              78363 non-null  int64 \n",
            " 1   patient_nbr               78363 non-null  int64 \n",
            " 2   race                      78363 non-null  object\n",
            " 3   gender                    78363 non-null  object\n",
            " 4   age                       78363 non-null  object\n",
            " 5   weight                    78363 non-null  object\n",
            " 6   admission_type_id         78363 non-null  int64 \n",
            " 7   discharge_disposition_id  78363 non-null  int64 \n",
            " 8   admission_source_id       78363 non-null  int64 \n",
            " 9   time_in_hospital          78363 non-null  int64 \n",
            " 10  payer_code                78363 non-null  object\n",
            " 11  medical_specialty         78363 non-null  object\n",
            " 12  num_lab_procedures        78363 non-null  int64 \n",
            " 13  num_procedures            78363 non-null  int64 \n",
            " 14  num_medications           78363 non-null  int64 \n",
            " 15  number_outpatient         78363 non-null  int64 \n",
            " 16  number_emergency          78363 non-null  int64 \n",
            " 17  number_inpatient          78363 non-null  int64 \n",
            " 18  diag_1                    78363 non-null  object\n",
            " 19  diag_2                    78363 non-null  object\n",
            " 20  diag_3                    78363 non-null  object\n",
            " 21  number_diagnoses          78363 non-null  int64 \n",
            " 22  max_glu_serum             78363 non-null  object\n",
            " 23  A1Cresult                 78363 non-null  object\n",
            " 24  metformin                 78363 non-null  object\n",
            " 25  repaglinide               78363 non-null  object\n",
            " 26  nateglinide               78363 non-null  object\n",
            " 27  chlorpropamide            78363 non-null  object\n",
            " 28  glimepiride               78363 non-null  object\n",
            " 29  acetohexamide             78363 non-null  object\n",
            " 30  glipizide                 78363 non-null  object\n",
            " 31  glyburide                 78363 non-null  object\n",
            " 32  tolbutamide               78363 non-null  object\n",
            " 33  pioglitazone              78363 non-null  object\n",
            " 34  rosiglitazone             78363 non-null  object\n",
            " 35  acarbose                  78363 non-null  object\n",
            " 36  miglitol                  78363 non-null  object\n",
            " 37  troglitazone              78363 non-null  object\n",
            " 38  tolazamide                78363 non-null  object\n",
            " 39  examide                   78363 non-null  object\n",
            " 40  citoglipton               78363 non-null  object\n",
            " 41  insulin                   78363 non-null  object\n",
            " 42  glyburide-metformin       78363 non-null  object\n",
            " 43  glipizide-metformin       78363 non-null  object\n",
            " 44  glimepiride-pioglitazone  78363 non-null  object\n",
            " 45  metformin-rosiglitazone   78363 non-null  object\n",
            " 46  metformin-pioglitazone    78363 non-null  object\n",
            " 47  change                    78363 non-null  object\n",
            " 48  diabetesMed               78363 non-null  object\n",
            " 49  readmitted                78363 non-null  object\n",
            "dtypes: int64(13), object(37)\n",
            "memory usage: 30.5+ MB\n"
          ],
          "name": "stdout"
        }
      ]
    },
    {
      "cell_type": "markdown",
      "metadata": {
        "id": "Jy1ALHcJKIdE",
        "colab_type": "text"
      },
      "source": [
        "# Modify the DataFrame\n",
        "- As we can see through the EDA, the columns that we drop in the next cell, either had the maximum missing values or were, as per the problem statement, not relevant features for prediction purposes."
      ]
    },
    {
      "cell_type": "code",
      "metadata": {
        "id": "HozVqXCOKIdE",
        "colab_type": "code",
        "colab": {}
      },
      "source": [
        "df = df.drop(columns=['patient_nbr', 'weight', 'medical_specialty', 'payer_code', \n",
        "                      'diag_1', 'diag_2', 'diag_3']).reset_index(drop=True)"
      ],
      "execution_count": 0,
      "outputs": []
    },
    {
      "cell_type": "code",
      "metadata": {
        "id": "3hGddBnfKIdG",
        "colab_type": "code",
        "outputId": "3c570cbd-01cf-421e-970e-63a87a744da5",
        "colab": {
          "base_uri": "https://localhost:8080/",
          "height": 538
        }
      },
      "source": [
        "# Check for missing values in the remaning columns\n",
        "for col in df.columns:\n",
        "    if df[col].dtype == object:\n",
        "         print(col,df[col][df[col] == '?'].count())"
      ],
      "execution_count": 14,
      "outputs": [
        {
          "output_type": "stream",
          "text": [
            "race 1871\n",
            "gender 0\n",
            "age 0\n",
            "max_glu_serum 0\n",
            "A1Cresult 0\n",
            "metformin 0\n",
            "repaglinide 0\n",
            "nateglinide 0\n",
            "chlorpropamide 0\n",
            "glimepiride 0\n",
            "acetohexamide 0\n",
            "glipizide 0\n",
            "glyburide 0\n",
            "tolbutamide 0\n",
            "pioglitazone 0\n",
            "rosiglitazone 0\n",
            "acarbose 0\n",
            "miglitol 0\n",
            "troglitazone 0\n",
            "tolazamide 0\n",
            "examide 0\n",
            "citoglipton 0\n",
            "insulin 0\n",
            "glyburide-metformin 0\n",
            "glipizide-metformin 0\n",
            "glimepiride-pioglitazone 0\n",
            "metformin-rosiglitazone 0\n",
            "metformin-pioglitazone 0\n",
            "change 0\n",
            "diabetesMed 0\n",
            "readmitted 0\n"
          ],
          "name": "stdout"
        }
      ]
    },
    {
      "cell_type": "markdown",
      "metadata": {
        "id": "F0QvVZlZKIdI",
        "colab_type": "text"
      },
      "source": [
        "# Feature Engineering"
      ]
    },
    {
      "cell_type": "markdown",
      "metadata": {
        "id": "dz4dZeWqKIdJ",
        "colab_type": "text"
      },
      "source": [
        "## Race\n",
        "### Replace and Impute Missing Values is column 'race'\n",
        "- From the columns displayed above, we can see that the column 'race' has the most missing values. Since race is a relevant feature, we replace and impute missing values in column 'race'. Missing values in the data are expressed as '?', which are replaced by 'nan'."
      ]
    },
    {
      "cell_type": "code",
      "metadata": {
        "id": "Mcl4Q08fKIdK",
        "colab_type": "code",
        "outputId": "7abf7005-b62c-497f-a8c2-b7b574db2c70",
        "colab": {
          "base_uri": "https://localhost:8080/",
          "height": 50
        }
      },
      "source": [
        "# Unique values in column 'race'\n",
        "df['race'].unique()"
      ],
      "execution_count": 15,
      "outputs": [
        {
          "output_type": "execute_result",
          "data": {
            "text/plain": [
              "array(['Caucasian', 'AfricanAmerican', '?', 'Other', 'Hispanic', 'Asian'],\n",
              "      dtype=object)"
            ]
          },
          "metadata": {
            "tags": []
          },
          "execution_count": 15
        }
      ]
    },
    {
      "cell_type": "code",
      "metadata": {
        "id": "yFNcj7jeKIdM",
        "colab_type": "code",
        "colab": {}
      },
      "source": [
        "# Replace '?' with 'nan' using replace()\n",
        "df['race'] = df['race'].replace('?', np.nan)"
      ],
      "execution_count": 0,
      "outputs": []
    },
    {
      "cell_type": "code",
      "metadata": {
        "id": "KmZ_iU9TKIdO",
        "colab_type": "code",
        "outputId": "46b6f298-a250-4730-fa31-ebbaeed64a70",
        "colab": {
          "base_uri": "https://localhost:8080/",
          "height": 50
        }
      },
      "source": [
        "# Verify the unique values\n",
        "df['race'].unique()"
      ],
      "execution_count": 17,
      "outputs": [
        {
          "output_type": "execute_result",
          "data": {
            "text/plain": [
              "array(['Caucasian', 'AfricanAmerican', nan, 'Other', 'Hispanic', 'Asian'],\n",
              "      dtype=object)"
            ]
          },
          "metadata": {
            "tags": []
          },
          "execution_count": 17
        }
      ]
    },
    {
      "cell_type": "code",
      "metadata": {
        "id": "6W7k0e8_KIdQ",
        "colab_type": "code",
        "colab": {}
      },
      "source": [
        "# Categorical Imputer is used to impute the missing values in column 'race' represented by 'nan'\n",
        "from sklearn_pandas import CategoricalImputer\n",
        "\n",
        "ci = CategoricalImputer()\n",
        "\n",
        "df['race'] = ci.fit_transform(df['race'])"
      ],
      "execution_count": 0,
      "outputs": []
    },
    {
      "cell_type": "code",
      "metadata": {
        "id": "Pyxd2U2_KIdS",
        "colab_type": "code",
        "outputId": "607f3f6e-43ef-42bf-8031-3e4062026d9f",
        "colab": {
          "base_uri": "https://localhost:8080/",
          "height": 50
        }
      },
      "source": [
        "# Verify the unique values again\n",
        "df['race'].unique()"
      ],
      "execution_count": 19,
      "outputs": [
        {
          "output_type": "execute_result",
          "data": {
            "text/plain": [
              "array(['Caucasian', 'AfricanAmerican', 'Other', 'Hispanic', 'Asian'],\n",
              "      dtype=object)"
            ]
          },
          "metadata": {
            "tags": []
          },
          "execution_count": 19
        }
      ]
    },
    {
      "cell_type": "code",
      "metadata": {
        "id": "r8wgQvZ5KIdU",
        "colab_type": "code",
        "outputId": "1f10c8d4-8b69-4566-8ac8-a2dd807bd34c",
        "colab": {
          "base_uri": "https://localhost:8080/",
          "height": 316
        }
      },
      "source": [
        "# Display the first 5 instances\n",
        "df.head()"
      ],
      "execution_count": 20,
      "outputs": [
        {
          "output_type": "execute_result",
          "data": {
            "text/html": [
              "<div>\n",
              "<style scoped>\n",
              "    .dataframe tbody tr th:only-of-type {\n",
              "        vertical-align: middle;\n",
              "    }\n",
              "\n",
              "    .dataframe tbody tr th {\n",
              "        vertical-align: top;\n",
              "    }\n",
              "\n",
              "    .dataframe thead th {\n",
              "        text-align: right;\n",
              "    }\n",
              "</style>\n",
              "<table border=\"1\" class=\"dataframe\">\n",
              "  <thead>\n",
              "    <tr style=\"text-align: right;\">\n",
              "      <th></th>\n",
              "      <th>encounter_id</th>\n",
              "      <th>race</th>\n",
              "      <th>gender</th>\n",
              "      <th>age</th>\n",
              "      <th>admission_type_id</th>\n",
              "      <th>discharge_disposition_id</th>\n",
              "      <th>admission_source_id</th>\n",
              "      <th>time_in_hospital</th>\n",
              "      <th>num_lab_procedures</th>\n",
              "      <th>num_procedures</th>\n",
              "      <th>num_medications</th>\n",
              "      <th>number_outpatient</th>\n",
              "      <th>number_emergency</th>\n",
              "      <th>number_inpatient</th>\n",
              "      <th>number_diagnoses</th>\n",
              "      <th>max_glu_serum</th>\n",
              "      <th>A1Cresult</th>\n",
              "      <th>metformin</th>\n",
              "      <th>repaglinide</th>\n",
              "      <th>nateglinide</th>\n",
              "      <th>chlorpropamide</th>\n",
              "      <th>glimepiride</th>\n",
              "      <th>acetohexamide</th>\n",
              "      <th>glipizide</th>\n",
              "      <th>glyburide</th>\n",
              "      <th>tolbutamide</th>\n",
              "      <th>pioglitazone</th>\n",
              "      <th>rosiglitazone</th>\n",
              "      <th>acarbose</th>\n",
              "      <th>miglitol</th>\n",
              "      <th>troglitazone</th>\n",
              "      <th>tolazamide</th>\n",
              "      <th>examide</th>\n",
              "      <th>citoglipton</th>\n",
              "      <th>insulin</th>\n",
              "      <th>glyburide-metformin</th>\n",
              "      <th>glipizide-metformin</th>\n",
              "      <th>glimepiride-pioglitazone</th>\n",
              "      <th>metformin-rosiglitazone</th>\n",
              "      <th>metformin-pioglitazone</th>\n",
              "      <th>change</th>\n",
              "      <th>diabetesMed</th>\n",
              "      <th>readmitted</th>\n",
              "    </tr>\n",
              "  </thead>\n",
              "  <tbody>\n",
              "    <tr>\n",
              "      <th>0</th>\n",
              "      <td>149190</td>\n",
              "      <td>Caucasian</td>\n",
              "      <td>Female</td>\n",
              "      <td>[10-20)</td>\n",
              "      <td>1</td>\n",
              "      <td>1</td>\n",
              "      <td>7</td>\n",
              "      <td>3</td>\n",
              "      <td>59</td>\n",
              "      <td>0</td>\n",
              "      <td>18</td>\n",
              "      <td>0</td>\n",
              "      <td>0</td>\n",
              "      <td>0</td>\n",
              "      <td>9</td>\n",
              "      <td>None</td>\n",
              "      <td>None</td>\n",
              "      <td>No</td>\n",
              "      <td>No</td>\n",
              "      <td>No</td>\n",
              "      <td>No</td>\n",
              "      <td>No</td>\n",
              "      <td>No</td>\n",
              "      <td>No</td>\n",
              "      <td>No</td>\n",
              "      <td>No</td>\n",
              "      <td>No</td>\n",
              "      <td>No</td>\n",
              "      <td>No</td>\n",
              "      <td>No</td>\n",
              "      <td>No</td>\n",
              "      <td>No</td>\n",
              "      <td>No</td>\n",
              "      <td>No</td>\n",
              "      <td>Up</td>\n",
              "      <td>No</td>\n",
              "      <td>No</td>\n",
              "      <td>No</td>\n",
              "      <td>No</td>\n",
              "      <td>No</td>\n",
              "      <td>Ch</td>\n",
              "      <td>Yes</td>\n",
              "      <td>&gt;30</td>\n",
              "    </tr>\n",
              "    <tr>\n",
              "      <th>1</th>\n",
              "      <td>64410</td>\n",
              "      <td>AfricanAmerican</td>\n",
              "      <td>Female</td>\n",
              "      <td>[20-30)</td>\n",
              "      <td>1</td>\n",
              "      <td>1</td>\n",
              "      <td>7</td>\n",
              "      <td>2</td>\n",
              "      <td>11</td>\n",
              "      <td>5</td>\n",
              "      <td>13</td>\n",
              "      <td>2</td>\n",
              "      <td>0</td>\n",
              "      <td>1</td>\n",
              "      <td>6</td>\n",
              "      <td>None</td>\n",
              "      <td>None</td>\n",
              "      <td>No</td>\n",
              "      <td>No</td>\n",
              "      <td>No</td>\n",
              "      <td>No</td>\n",
              "      <td>No</td>\n",
              "      <td>No</td>\n",
              "      <td>Steady</td>\n",
              "      <td>No</td>\n",
              "      <td>No</td>\n",
              "      <td>No</td>\n",
              "      <td>No</td>\n",
              "      <td>No</td>\n",
              "      <td>No</td>\n",
              "      <td>No</td>\n",
              "      <td>No</td>\n",
              "      <td>No</td>\n",
              "      <td>No</td>\n",
              "      <td>No</td>\n",
              "      <td>No</td>\n",
              "      <td>No</td>\n",
              "      <td>No</td>\n",
              "      <td>No</td>\n",
              "      <td>No</td>\n",
              "      <td>No</td>\n",
              "      <td>Yes</td>\n",
              "      <td>NO</td>\n",
              "    </tr>\n",
              "    <tr>\n",
              "      <th>2</th>\n",
              "      <td>500364</td>\n",
              "      <td>Caucasian</td>\n",
              "      <td>Male</td>\n",
              "      <td>[30-40)</td>\n",
              "      <td>1</td>\n",
              "      <td>1</td>\n",
              "      <td>7</td>\n",
              "      <td>2</td>\n",
              "      <td>44</td>\n",
              "      <td>1</td>\n",
              "      <td>16</td>\n",
              "      <td>0</td>\n",
              "      <td>0</td>\n",
              "      <td>0</td>\n",
              "      <td>7</td>\n",
              "      <td>None</td>\n",
              "      <td>None</td>\n",
              "      <td>No</td>\n",
              "      <td>No</td>\n",
              "      <td>No</td>\n",
              "      <td>No</td>\n",
              "      <td>No</td>\n",
              "      <td>No</td>\n",
              "      <td>No</td>\n",
              "      <td>No</td>\n",
              "      <td>No</td>\n",
              "      <td>No</td>\n",
              "      <td>No</td>\n",
              "      <td>No</td>\n",
              "      <td>No</td>\n",
              "      <td>No</td>\n",
              "      <td>No</td>\n",
              "      <td>No</td>\n",
              "      <td>No</td>\n",
              "      <td>Up</td>\n",
              "      <td>No</td>\n",
              "      <td>No</td>\n",
              "      <td>No</td>\n",
              "      <td>No</td>\n",
              "      <td>No</td>\n",
              "      <td>Ch</td>\n",
              "      <td>Yes</td>\n",
              "      <td>NO</td>\n",
              "    </tr>\n",
              "    <tr>\n",
              "      <th>3</th>\n",
              "      <td>16680</td>\n",
              "      <td>Caucasian</td>\n",
              "      <td>Male</td>\n",
              "      <td>[40-50)</td>\n",
              "      <td>1</td>\n",
              "      <td>1</td>\n",
              "      <td>7</td>\n",
              "      <td>1</td>\n",
              "      <td>51</td>\n",
              "      <td>0</td>\n",
              "      <td>8</td>\n",
              "      <td>0</td>\n",
              "      <td>0</td>\n",
              "      <td>0</td>\n",
              "      <td>5</td>\n",
              "      <td>None</td>\n",
              "      <td>None</td>\n",
              "      <td>No</td>\n",
              "      <td>No</td>\n",
              "      <td>No</td>\n",
              "      <td>No</td>\n",
              "      <td>No</td>\n",
              "      <td>No</td>\n",
              "      <td>Steady</td>\n",
              "      <td>No</td>\n",
              "      <td>No</td>\n",
              "      <td>No</td>\n",
              "      <td>No</td>\n",
              "      <td>No</td>\n",
              "      <td>No</td>\n",
              "      <td>No</td>\n",
              "      <td>No</td>\n",
              "      <td>No</td>\n",
              "      <td>No</td>\n",
              "      <td>Steady</td>\n",
              "      <td>No</td>\n",
              "      <td>No</td>\n",
              "      <td>No</td>\n",
              "      <td>No</td>\n",
              "      <td>No</td>\n",
              "      <td>Ch</td>\n",
              "      <td>Yes</td>\n",
              "      <td>NO</td>\n",
              "    </tr>\n",
              "    <tr>\n",
              "      <th>4</th>\n",
              "      <td>35754</td>\n",
              "      <td>Caucasian</td>\n",
              "      <td>Male</td>\n",
              "      <td>[50-60)</td>\n",
              "      <td>2</td>\n",
              "      <td>1</td>\n",
              "      <td>2</td>\n",
              "      <td>3</td>\n",
              "      <td>31</td>\n",
              "      <td>6</td>\n",
              "      <td>16</td>\n",
              "      <td>0</td>\n",
              "      <td>0</td>\n",
              "      <td>0</td>\n",
              "      <td>9</td>\n",
              "      <td>None</td>\n",
              "      <td>None</td>\n",
              "      <td>No</td>\n",
              "      <td>No</td>\n",
              "      <td>No</td>\n",
              "      <td>No</td>\n",
              "      <td>No</td>\n",
              "      <td>No</td>\n",
              "      <td>No</td>\n",
              "      <td>No</td>\n",
              "      <td>No</td>\n",
              "      <td>No</td>\n",
              "      <td>No</td>\n",
              "      <td>No</td>\n",
              "      <td>No</td>\n",
              "      <td>No</td>\n",
              "      <td>No</td>\n",
              "      <td>No</td>\n",
              "      <td>No</td>\n",
              "      <td>Steady</td>\n",
              "      <td>No</td>\n",
              "      <td>No</td>\n",
              "      <td>No</td>\n",
              "      <td>No</td>\n",
              "      <td>No</td>\n",
              "      <td>No</td>\n",
              "      <td>Yes</td>\n",
              "      <td>&gt;30</td>\n",
              "    </tr>\n",
              "  </tbody>\n",
              "</table>\n",
              "</div>"
            ],
            "text/plain": [
              "   encounter_id             race  gender  ... change  diabetesMed  readmitted\n",
              "0        149190        Caucasian  Female  ...     Ch          Yes         >30\n",
              "1         64410  AfricanAmerican  Female  ...     No          Yes          NO\n",
              "2        500364        Caucasian    Male  ...     Ch          Yes          NO\n",
              "3         16680        Caucasian    Male  ...     Ch          Yes          NO\n",
              "4         35754        Caucasian    Male  ...     No          Yes         >30\n",
              "\n",
              "[5 rows x 43 columns]"
            ]
          },
          "metadata": {
            "tags": []
          },
          "execution_count": 20
        }
      ]
    },
    {
      "cell_type": "markdown",
      "metadata": {
        "id": "WeMrc8poKIdW",
        "colab_type": "text"
      },
      "source": [
        "## Gender\n",
        "### Remove Missing/Invalid Values from column 'gender'\n",
        "- Column 'gender' has 3 distinct classes - 'Male', 'Female' and 'Unknown/Invalid'. Since we cannot impute such values as gender, we can remove those rows which have gender=='Unknown/Invalid'."
      ]
    },
    {
      "cell_type": "code",
      "metadata": {
        "id": "NGNjfMN2KIdW",
        "colab_type": "code",
        "outputId": "69709c1c-ff77-4c72-8f6e-3fcd4ab84d28",
        "colab": {
          "base_uri": "https://localhost:8080/",
          "height": 34
        }
      },
      "source": [
        "# List the unique values in cloumn 'gender'\n",
        "df['gender'].unique()"
      ],
      "execution_count": 21,
      "outputs": [
        {
          "output_type": "execute_result",
          "data": {
            "text/plain": [
              "array(['Female', 'Male', 'Unknown/Invalid'], dtype=object)"
            ]
          },
          "metadata": {
            "tags": []
          },
          "execution_count": 21
        }
      ]
    },
    {
      "cell_type": "code",
      "metadata": {
        "id": "iAFStQBiKIdY",
        "colab_type": "code",
        "colab": {}
      },
      "source": [
        "# Filter out the missiing/invalid values and save it as the new dataframe\n",
        "df = df[df['gender']!='Unknown/Invalid']"
      ],
      "execution_count": 0,
      "outputs": []
    },
    {
      "cell_type": "code",
      "metadata": {
        "id": "-OJXrFqnKIdZ",
        "colab_type": "code",
        "outputId": "e4deb775-09a3-4876-ea21-eef8755f3ecb",
        "colab": {
          "base_uri": "https://localhost:8080/",
          "height": 316
        }
      },
      "source": [
        "# Display the fist 5 instances\n",
        "df.head()"
      ],
      "execution_count": 23,
      "outputs": [
        {
          "output_type": "execute_result",
          "data": {
            "text/html": [
              "<div>\n",
              "<style scoped>\n",
              "    .dataframe tbody tr th:only-of-type {\n",
              "        vertical-align: middle;\n",
              "    }\n",
              "\n",
              "    .dataframe tbody tr th {\n",
              "        vertical-align: top;\n",
              "    }\n",
              "\n",
              "    .dataframe thead th {\n",
              "        text-align: right;\n",
              "    }\n",
              "</style>\n",
              "<table border=\"1\" class=\"dataframe\">\n",
              "  <thead>\n",
              "    <tr style=\"text-align: right;\">\n",
              "      <th></th>\n",
              "      <th>encounter_id</th>\n",
              "      <th>race</th>\n",
              "      <th>gender</th>\n",
              "      <th>age</th>\n",
              "      <th>admission_type_id</th>\n",
              "      <th>discharge_disposition_id</th>\n",
              "      <th>admission_source_id</th>\n",
              "      <th>time_in_hospital</th>\n",
              "      <th>num_lab_procedures</th>\n",
              "      <th>num_procedures</th>\n",
              "      <th>num_medications</th>\n",
              "      <th>number_outpatient</th>\n",
              "      <th>number_emergency</th>\n",
              "      <th>number_inpatient</th>\n",
              "      <th>number_diagnoses</th>\n",
              "      <th>max_glu_serum</th>\n",
              "      <th>A1Cresult</th>\n",
              "      <th>metformin</th>\n",
              "      <th>repaglinide</th>\n",
              "      <th>nateglinide</th>\n",
              "      <th>chlorpropamide</th>\n",
              "      <th>glimepiride</th>\n",
              "      <th>acetohexamide</th>\n",
              "      <th>glipizide</th>\n",
              "      <th>glyburide</th>\n",
              "      <th>tolbutamide</th>\n",
              "      <th>pioglitazone</th>\n",
              "      <th>rosiglitazone</th>\n",
              "      <th>acarbose</th>\n",
              "      <th>miglitol</th>\n",
              "      <th>troglitazone</th>\n",
              "      <th>tolazamide</th>\n",
              "      <th>examide</th>\n",
              "      <th>citoglipton</th>\n",
              "      <th>insulin</th>\n",
              "      <th>glyburide-metformin</th>\n",
              "      <th>glipizide-metformin</th>\n",
              "      <th>glimepiride-pioglitazone</th>\n",
              "      <th>metformin-rosiglitazone</th>\n",
              "      <th>metformin-pioglitazone</th>\n",
              "      <th>change</th>\n",
              "      <th>diabetesMed</th>\n",
              "      <th>readmitted</th>\n",
              "    </tr>\n",
              "  </thead>\n",
              "  <tbody>\n",
              "    <tr>\n",
              "      <th>0</th>\n",
              "      <td>149190</td>\n",
              "      <td>Caucasian</td>\n",
              "      <td>Female</td>\n",
              "      <td>[10-20)</td>\n",
              "      <td>1</td>\n",
              "      <td>1</td>\n",
              "      <td>7</td>\n",
              "      <td>3</td>\n",
              "      <td>59</td>\n",
              "      <td>0</td>\n",
              "      <td>18</td>\n",
              "      <td>0</td>\n",
              "      <td>0</td>\n",
              "      <td>0</td>\n",
              "      <td>9</td>\n",
              "      <td>None</td>\n",
              "      <td>None</td>\n",
              "      <td>No</td>\n",
              "      <td>No</td>\n",
              "      <td>No</td>\n",
              "      <td>No</td>\n",
              "      <td>No</td>\n",
              "      <td>No</td>\n",
              "      <td>No</td>\n",
              "      <td>No</td>\n",
              "      <td>No</td>\n",
              "      <td>No</td>\n",
              "      <td>No</td>\n",
              "      <td>No</td>\n",
              "      <td>No</td>\n",
              "      <td>No</td>\n",
              "      <td>No</td>\n",
              "      <td>No</td>\n",
              "      <td>No</td>\n",
              "      <td>Up</td>\n",
              "      <td>No</td>\n",
              "      <td>No</td>\n",
              "      <td>No</td>\n",
              "      <td>No</td>\n",
              "      <td>No</td>\n",
              "      <td>Ch</td>\n",
              "      <td>Yes</td>\n",
              "      <td>&gt;30</td>\n",
              "    </tr>\n",
              "    <tr>\n",
              "      <th>1</th>\n",
              "      <td>64410</td>\n",
              "      <td>AfricanAmerican</td>\n",
              "      <td>Female</td>\n",
              "      <td>[20-30)</td>\n",
              "      <td>1</td>\n",
              "      <td>1</td>\n",
              "      <td>7</td>\n",
              "      <td>2</td>\n",
              "      <td>11</td>\n",
              "      <td>5</td>\n",
              "      <td>13</td>\n",
              "      <td>2</td>\n",
              "      <td>0</td>\n",
              "      <td>1</td>\n",
              "      <td>6</td>\n",
              "      <td>None</td>\n",
              "      <td>None</td>\n",
              "      <td>No</td>\n",
              "      <td>No</td>\n",
              "      <td>No</td>\n",
              "      <td>No</td>\n",
              "      <td>No</td>\n",
              "      <td>No</td>\n",
              "      <td>Steady</td>\n",
              "      <td>No</td>\n",
              "      <td>No</td>\n",
              "      <td>No</td>\n",
              "      <td>No</td>\n",
              "      <td>No</td>\n",
              "      <td>No</td>\n",
              "      <td>No</td>\n",
              "      <td>No</td>\n",
              "      <td>No</td>\n",
              "      <td>No</td>\n",
              "      <td>No</td>\n",
              "      <td>No</td>\n",
              "      <td>No</td>\n",
              "      <td>No</td>\n",
              "      <td>No</td>\n",
              "      <td>No</td>\n",
              "      <td>No</td>\n",
              "      <td>Yes</td>\n",
              "      <td>NO</td>\n",
              "    </tr>\n",
              "    <tr>\n",
              "      <th>2</th>\n",
              "      <td>500364</td>\n",
              "      <td>Caucasian</td>\n",
              "      <td>Male</td>\n",
              "      <td>[30-40)</td>\n",
              "      <td>1</td>\n",
              "      <td>1</td>\n",
              "      <td>7</td>\n",
              "      <td>2</td>\n",
              "      <td>44</td>\n",
              "      <td>1</td>\n",
              "      <td>16</td>\n",
              "      <td>0</td>\n",
              "      <td>0</td>\n",
              "      <td>0</td>\n",
              "      <td>7</td>\n",
              "      <td>None</td>\n",
              "      <td>None</td>\n",
              "      <td>No</td>\n",
              "      <td>No</td>\n",
              "      <td>No</td>\n",
              "      <td>No</td>\n",
              "      <td>No</td>\n",
              "      <td>No</td>\n",
              "      <td>No</td>\n",
              "      <td>No</td>\n",
              "      <td>No</td>\n",
              "      <td>No</td>\n",
              "      <td>No</td>\n",
              "      <td>No</td>\n",
              "      <td>No</td>\n",
              "      <td>No</td>\n",
              "      <td>No</td>\n",
              "      <td>No</td>\n",
              "      <td>No</td>\n",
              "      <td>Up</td>\n",
              "      <td>No</td>\n",
              "      <td>No</td>\n",
              "      <td>No</td>\n",
              "      <td>No</td>\n",
              "      <td>No</td>\n",
              "      <td>Ch</td>\n",
              "      <td>Yes</td>\n",
              "      <td>NO</td>\n",
              "    </tr>\n",
              "    <tr>\n",
              "      <th>3</th>\n",
              "      <td>16680</td>\n",
              "      <td>Caucasian</td>\n",
              "      <td>Male</td>\n",
              "      <td>[40-50)</td>\n",
              "      <td>1</td>\n",
              "      <td>1</td>\n",
              "      <td>7</td>\n",
              "      <td>1</td>\n",
              "      <td>51</td>\n",
              "      <td>0</td>\n",
              "      <td>8</td>\n",
              "      <td>0</td>\n",
              "      <td>0</td>\n",
              "      <td>0</td>\n",
              "      <td>5</td>\n",
              "      <td>None</td>\n",
              "      <td>None</td>\n",
              "      <td>No</td>\n",
              "      <td>No</td>\n",
              "      <td>No</td>\n",
              "      <td>No</td>\n",
              "      <td>No</td>\n",
              "      <td>No</td>\n",
              "      <td>Steady</td>\n",
              "      <td>No</td>\n",
              "      <td>No</td>\n",
              "      <td>No</td>\n",
              "      <td>No</td>\n",
              "      <td>No</td>\n",
              "      <td>No</td>\n",
              "      <td>No</td>\n",
              "      <td>No</td>\n",
              "      <td>No</td>\n",
              "      <td>No</td>\n",
              "      <td>Steady</td>\n",
              "      <td>No</td>\n",
              "      <td>No</td>\n",
              "      <td>No</td>\n",
              "      <td>No</td>\n",
              "      <td>No</td>\n",
              "      <td>Ch</td>\n",
              "      <td>Yes</td>\n",
              "      <td>NO</td>\n",
              "    </tr>\n",
              "    <tr>\n",
              "      <th>4</th>\n",
              "      <td>35754</td>\n",
              "      <td>Caucasian</td>\n",
              "      <td>Male</td>\n",
              "      <td>[50-60)</td>\n",
              "      <td>2</td>\n",
              "      <td>1</td>\n",
              "      <td>2</td>\n",
              "      <td>3</td>\n",
              "      <td>31</td>\n",
              "      <td>6</td>\n",
              "      <td>16</td>\n",
              "      <td>0</td>\n",
              "      <td>0</td>\n",
              "      <td>0</td>\n",
              "      <td>9</td>\n",
              "      <td>None</td>\n",
              "      <td>None</td>\n",
              "      <td>No</td>\n",
              "      <td>No</td>\n",
              "      <td>No</td>\n",
              "      <td>No</td>\n",
              "      <td>No</td>\n",
              "      <td>No</td>\n",
              "      <td>No</td>\n",
              "      <td>No</td>\n",
              "      <td>No</td>\n",
              "      <td>No</td>\n",
              "      <td>No</td>\n",
              "      <td>No</td>\n",
              "      <td>No</td>\n",
              "      <td>No</td>\n",
              "      <td>No</td>\n",
              "      <td>No</td>\n",
              "      <td>No</td>\n",
              "      <td>Steady</td>\n",
              "      <td>No</td>\n",
              "      <td>No</td>\n",
              "      <td>No</td>\n",
              "      <td>No</td>\n",
              "      <td>No</td>\n",
              "      <td>No</td>\n",
              "      <td>Yes</td>\n",
              "      <td>&gt;30</td>\n",
              "    </tr>\n",
              "  </tbody>\n",
              "</table>\n",
              "</div>"
            ],
            "text/plain": [
              "   encounter_id             race  gender  ... change  diabetesMed  readmitted\n",
              "0        149190        Caucasian  Female  ...     Ch          Yes         >30\n",
              "1         64410  AfricanAmerican  Female  ...     No          Yes          NO\n",
              "2        500364        Caucasian    Male  ...     Ch          Yes          NO\n",
              "3         16680        Caucasian    Male  ...     Ch          Yes          NO\n",
              "4         35754        Caucasian    Male  ...     No          Yes         >30\n",
              "\n",
              "[5 rows x 43 columns]"
            ]
          },
          "metadata": {
            "tags": []
          },
          "execution_count": 23
        }
      ]
    },
    {
      "cell_type": "markdown",
      "metadata": {
        "id": "R0h57y8pKIdb",
        "colab_type": "text"
      },
      "source": [
        "## Medications/Treatments\n",
        "### Custom Encoding for Medications\n",
        "The dataset contains 23 different drugs which have been given to diabetic patients in different combinations. These columns along with the column 'insulin' have 4 unique values - 'No','Steady','Up','Down'."
      ]
    },
    {
      "cell_type": "markdown",
      "metadata": {
        "id": "cYuxrm1bKIdc",
        "colab_type": "text"
      },
      "source": [
        "- We create a dataframe 'treatment' from the main dataframe with the columns 'encounter_id', 'insulin' and the 23 medications.\n",
        "- The 4 unique values are replaced as binary:\n",
        "\n",
        "  - No (0): That particular medication was not given as part of the treatment\n",
        "  - Steady, Up, Down (1): That particulat medication was given as part of the treatment\n",
        "  \n",
        "- We set the index as 'encounter_id' so as to be able to join this dataframe to the original one"
      ]
    },
    {
      "cell_type": "code",
      "metadata": {
        "id": "rhegQexTKIdc",
        "colab_type": "code",
        "outputId": "b95be77f-b034-403f-bb1b-54db5a421299",
        "colab": {
          "base_uri": "https://localhost:8080/",
          "height": 262
        }
      },
      "source": [
        "# Create dataframe and  encode the 4 unique values\n",
        "treatment = df[['encounter_id','insulin','metformin', 'repaglinide', 'nateglinide',\n",
        "       'chlorpropamide', 'glimepiride', 'acetohexamide', 'glipizide',\n",
        "       'glyburide', 'tolbutamide', 'pioglitazone', 'rosiglitazone', 'acarbose',\n",
        "       'miglitol', 'troglitazone', 'tolazamide', 'examide', 'citoglipton',\n",
        "       'glyburide-metformin', 'glipizide-metformin',\n",
        "       'glimepiride-pioglitazone', 'metformin-rosiglitazone',\n",
        "       'metformin-pioglitazone']].copy()\n",
        "\n",
        "treatment = treatment.replace(['No','Steady','Up','Down'],[0,1,1,1])\n",
        "\n",
        "# Set index\n",
        "treatment.set_index('encounter_id', inplace =True)\n",
        "\n",
        "# Display first 5 instances\n",
        "treatment.head()"
      ],
      "execution_count": 24,
      "outputs": [
        {
          "output_type": "execute_result",
          "data": {
            "text/html": [
              "<div>\n",
              "<style scoped>\n",
              "    .dataframe tbody tr th:only-of-type {\n",
              "        vertical-align: middle;\n",
              "    }\n",
              "\n",
              "    .dataframe tbody tr th {\n",
              "        vertical-align: top;\n",
              "    }\n",
              "\n",
              "    .dataframe thead th {\n",
              "        text-align: right;\n",
              "    }\n",
              "</style>\n",
              "<table border=\"1\" class=\"dataframe\">\n",
              "  <thead>\n",
              "    <tr style=\"text-align: right;\">\n",
              "      <th></th>\n",
              "      <th>insulin</th>\n",
              "      <th>metformin</th>\n",
              "      <th>repaglinide</th>\n",
              "      <th>nateglinide</th>\n",
              "      <th>chlorpropamide</th>\n",
              "      <th>glimepiride</th>\n",
              "      <th>acetohexamide</th>\n",
              "      <th>glipizide</th>\n",
              "      <th>glyburide</th>\n",
              "      <th>tolbutamide</th>\n",
              "      <th>pioglitazone</th>\n",
              "      <th>rosiglitazone</th>\n",
              "      <th>acarbose</th>\n",
              "      <th>miglitol</th>\n",
              "      <th>troglitazone</th>\n",
              "      <th>tolazamide</th>\n",
              "      <th>examide</th>\n",
              "      <th>citoglipton</th>\n",
              "      <th>glyburide-metformin</th>\n",
              "      <th>glipizide-metformin</th>\n",
              "      <th>glimepiride-pioglitazone</th>\n",
              "      <th>metformin-rosiglitazone</th>\n",
              "      <th>metformin-pioglitazone</th>\n",
              "    </tr>\n",
              "    <tr>\n",
              "      <th>encounter_id</th>\n",
              "      <th></th>\n",
              "      <th></th>\n",
              "      <th></th>\n",
              "      <th></th>\n",
              "      <th></th>\n",
              "      <th></th>\n",
              "      <th></th>\n",
              "      <th></th>\n",
              "      <th></th>\n",
              "      <th></th>\n",
              "      <th></th>\n",
              "      <th></th>\n",
              "      <th></th>\n",
              "      <th></th>\n",
              "      <th></th>\n",
              "      <th></th>\n",
              "      <th></th>\n",
              "      <th></th>\n",
              "      <th></th>\n",
              "      <th></th>\n",
              "      <th></th>\n",
              "      <th></th>\n",
              "      <th></th>\n",
              "    </tr>\n",
              "  </thead>\n",
              "  <tbody>\n",
              "    <tr>\n",
              "      <th>149190</th>\n",
              "      <td>1</td>\n",
              "      <td>0</td>\n",
              "      <td>0</td>\n",
              "      <td>0</td>\n",
              "      <td>0</td>\n",
              "      <td>0</td>\n",
              "      <td>0</td>\n",
              "      <td>0</td>\n",
              "      <td>0</td>\n",
              "      <td>0</td>\n",
              "      <td>0</td>\n",
              "      <td>0</td>\n",
              "      <td>0</td>\n",
              "      <td>0</td>\n",
              "      <td>0</td>\n",
              "      <td>0</td>\n",
              "      <td>0</td>\n",
              "      <td>0</td>\n",
              "      <td>0</td>\n",
              "      <td>0</td>\n",
              "      <td>0</td>\n",
              "      <td>0</td>\n",
              "      <td>0</td>\n",
              "    </tr>\n",
              "    <tr>\n",
              "      <th>64410</th>\n",
              "      <td>0</td>\n",
              "      <td>0</td>\n",
              "      <td>0</td>\n",
              "      <td>0</td>\n",
              "      <td>0</td>\n",
              "      <td>0</td>\n",
              "      <td>0</td>\n",
              "      <td>1</td>\n",
              "      <td>0</td>\n",
              "      <td>0</td>\n",
              "      <td>0</td>\n",
              "      <td>0</td>\n",
              "      <td>0</td>\n",
              "      <td>0</td>\n",
              "      <td>0</td>\n",
              "      <td>0</td>\n",
              "      <td>0</td>\n",
              "      <td>0</td>\n",
              "      <td>0</td>\n",
              "      <td>0</td>\n",
              "      <td>0</td>\n",
              "      <td>0</td>\n",
              "      <td>0</td>\n",
              "    </tr>\n",
              "    <tr>\n",
              "      <th>500364</th>\n",
              "      <td>1</td>\n",
              "      <td>0</td>\n",
              "      <td>0</td>\n",
              "      <td>0</td>\n",
              "      <td>0</td>\n",
              "      <td>0</td>\n",
              "      <td>0</td>\n",
              "      <td>0</td>\n",
              "      <td>0</td>\n",
              "      <td>0</td>\n",
              "      <td>0</td>\n",
              "      <td>0</td>\n",
              "      <td>0</td>\n",
              "      <td>0</td>\n",
              "      <td>0</td>\n",
              "      <td>0</td>\n",
              "      <td>0</td>\n",
              "      <td>0</td>\n",
              "      <td>0</td>\n",
              "      <td>0</td>\n",
              "      <td>0</td>\n",
              "      <td>0</td>\n",
              "      <td>0</td>\n",
              "    </tr>\n",
              "    <tr>\n",
              "      <th>16680</th>\n",
              "      <td>1</td>\n",
              "      <td>0</td>\n",
              "      <td>0</td>\n",
              "      <td>0</td>\n",
              "      <td>0</td>\n",
              "      <td>0</td>\n",
              "      <td>0</td>\n",
              "      <td>1</td>\n",
              "      <td>0</td>\n",
              "      <td>0</td>\n",
              "      <td>0</td>\n",
              "      <td>0</td>\n",
              "      <td>0</td>\n",
              "      <td>0</td>\n",
              "      <td>0</td>\n",
              "      <td>0</td>\n",
              "      <td>0</td>\n",
              "      <td>0</td>\n",
              "      <td>0</td>\n",
              "      <td>0</td>\n",
              "      <td>0</td>\n",
              "      <td>0</td>\n",
              "      <td>0</td>\n",
              "    </tr>\n",
              "    <tr>\n",
              "      <th>35754</th>\n",
              "      <td>1</td>\n",
              "      <td>0</td>\n",
              "      <td>0</td>\n",
              "      <td>0</td>\n",
              "      <td>0</td>\n",
              "      <td>0</td>\n",
              "      <td>0</td>\n",
              "      <td>0</td>\n",
              "      <td>0</td>\n",
              "      <td>0</td>\n",
              "      <td>0</td>\n",
              "      <td>0</td>\n",
              "      <td>0</td>\n",
              "      <td>0</td>\n",
              "      <td>0</td>\n",
              "      <td>0</td>\n",
              "      <td>0</td>\n",
              "      <td>0</td>\n",
              "      <td>0</td>\n",
              "      <td>0</td>\n",
              "      <td>0</td>\n",
              "      <td>0</td>\n",
              "      <td>0</td>\n",
              "    </tr>\n",
              "  </tbody>\n",
              "</table>\n",
              "</div>"
            ],
            "text/plain": [
              "              insulin  ...  metformin-pioglitazone\n",
              "encounter_id           ...                        \n",
              "149190              1  ...                       0\n",
              "64410               0  ...                       0\n",
              "500364              1  ...                       0\n",
              "16680               1  ...                       0\n",
              "35754               1  ...                       0\n",
              "\n",
              "[5 rows x 23 columns]"
            ]
          },
          "metadata": {
            "tags": []
          },
          "execution_count": 24
        }
      ]
    },
    {
      "cell_type": "code",
      "metadata": {
        "id": "mzRzHDOfKIde",
        "colab_type": "code",
        "outputId": "bf677193-fb9b-4434-d676-b49c422e28e8",
        "colab": {
          "base_uri": "https://localhost:8080/",
          "height": 134
        }
      },
      "source": [
        "# Sum total of the different combinations of medication given\n",
        "treatment.sum(axis=1).value_counts()"
      ],
      "execution_count": 25,
      "outputs": [
        {
          "output_type": "execute_result",
          "data": {
            "text/plain": [
              "1    47314\n",
              "2    21871\n",
              "3     7778\n",
              "4     1335\n",
              "5       58\n",
              "6        5\n",
              "dtype: int64"
            ]
          },
          "metadata": {
            "tags": []
          },
          "execution_count": 25
        }
      ]
    },
    {
      "cell_type": "markdown",
      "metadata": {
        "id": "Kw6id4Y4KIdf",
        "colab_type": "text"
      },
      "source": [
        "####  When insulin is given (insulin = 1), there are maximum of 6 combinations of medicines given.\n",
        "  - 1 implies only insulin is given as treatment\n",
        "  - 2-6 implies a combination of medication including insulin and the remaining 23, insulin+others (io), are given as treatment"
      ]
    },
    {
      "cell_type": "code",
      "metadata": {
        "id": "k6kx5oOHKIdg",
        "colab_type": "code",
        "outputId": "beac5c41-2754-422a-8661-e8a7268ac608",
        "colab": {
          "base_uri": "https://localhost:8080/",
          "height": 134
        }
      },
      "source": [
        "# Sum total of the different combinations of medication given, when insulin is given\n",
        "treatment[treatment['insulin']==1].sum(axis=1).value_counts()"
      ],
      "execution_count": 26,
      "outputs": [
        {
          "output_type": "execute_result",
          "data": {
            "text/plain": [
              "1    30965\n",
              "2    15437\n",
              "3     6625\n",
              "4     1295\n",
              "5       57\n",
              "6        4\n",
              "dtype: int64"
            ]
          },
          "metadata": {
            "tags": []
          },
          "execution_count": 26
        }
      ]
    },
    {
      "cell_type": "markdown",
      "metadata": {
        "id": "GJTe1Dz-KIdh",
        "colab_type": "text"
      },
      "source": [
        "#### When insulin is given (insulin = 0), there are maximum of 6 combinations of medicines given.\n",
        "  - 1 implies only one of the 23 medications are given as treatment\n",
        "  - 2-6 implies a combination of the 23 medications are given as treatment"
      ]
    },
    {
      "cell_type": "code",
      "metadata": {
        "id": "U6CtovDNKIdi",
        "colab_type": "code",
        "outputId": "9c98dd66-89f1-489f-fc34-5eff04aaf1e7",
        "colab": {
          "base_uri": "https://localhost:8080/",
          "height": 134
        }
      },
      "source": [
        "# Sum total of the different combinations of medication given, when insulin is not given\n",
        "treatment[treatment['insulin']==0].sum(axis=1).value_counts()"
      ],
      "execution_count": 27,
      "outputs": [
        {
          "output_type": "execute_result",
          "data": {
            "text/plain": [
              "1    16349\n",
              "2     6434\n",
              "3     1153\n",
              "4       40\n",
              "6        1\n",
              "5        1\n",
              "dtype: int64"
            ]
          },
          "metadata": {
            "tags": []
          },
          "execution_count": 27
        }
      ]
    },
    {
      "cell_type": "markdown",
      "metadata": {
        "id": "WvqWddWGKIdk",
        "colab_type": "text"
      },
      "source": [
        "#### The different combinations of the medications in both cases (insulin=1 and insulin=0) are replaced with 3 unique categories\n",
        "  - insulin\n",
        "  - io\n",
        "  - other"
      ]
    },
    {
      "cell_type": "code",
      "metadata": {
        "id": "4kWdiJB9KIdk",
        "colab_type": "code",
        "colab": {}
      },
      "source": [
        "# When insulin is given\n",
        "insulin = treatment[treatment['insulin']==1].sum(axis=1).replace([1,2,3,4,5,6],['insulin','io','io','io','io','io'])"
      ],
      "execution_count": 0,
      "outputs": []
    },
    {
      "cell_type": "code",
      "metadata": {
        "id": "eNQsYNdIKIdm",
        "colab_type": "code",
        "colab": {}
      },
      "source": [
        "# When insulin is not given\n",
        "no_insulin = treatment[treatment['insulin']==0].sum(axis=1).replace([1,2,3,4,5,6],['other','other','other','other','other','other'])"
      ],
      "execution_count": 0,
      "outputs": []
    },
    {
      "cell_type": "markdown",
      "metadata": {
        "id": "Nwp3EUPaKIdp",
        "colab_type": "text"
      },
      "source": [
        "##### Concatenate the 2 columns - insulin and no_insulin and create a new column in 'treatment' dataframe called 'treatment'"
      ]
    },
    {
      "cell_type": "code",
      "metadata": {
        "id": "2PHdccvnKIdp",
        "colab_type": "code",
        "colab": {}
      },
      "source": [
        "treatment = pd.concat([insulin, no_insulin])\n",
        "treatment = pd.DataFrame({'treatment':treatment})"
      ],
      "execution_count": 0,
      "outputs": []
    },
    {
      "cell_type": "code",
      "metadata": {
        "id": "XHMKSeV5KIdr",
        "colab_type": "code",
        "outputId": "61065bac-e460-4434-c6b8-e8e90379261b",
        "colab": {
          "base_uri": "https://localhost:8080/",
          "height": 225
        }
      },
      "source": [
        "# Display the frist 5 instances\n",
        "treatment.head()"
      ],
      "execution_count": 31,
      "outputs": [
        {
          "output_type": "execute_result",
          "data": {
            "text/html": [
              "<div>\n",
              "<style scoped>\n",
              "    .dataframe tbody tr th:only-of-type {\n",
              "        vertical-align: middle;\n",
              "    }\n",
              "\n",
              "    .dataframe tbody tr th {\n",
              "        vertical-align: top;\n",
              "    }\n",
              "\n",
              "    .dataframe thead th {\n",
              "        text-align: right;\n",
              "    }\n",
              "</style>\n",
              "<table border=\"1\" class=\"dataframe\">\n",
              "  <thead>\n",
              "    <tr style=\"text-align: right;\">\n",
              "      <th></th>\n",
              "      <th>treatment</th>\n",
              "    </tr>\n",
              "    <tr>\n",
              "      <th>encounter_id</th>\n",
              "      <th></th>\n",
              "    </tr>\n",
              "  </thead>\n",
              "  <tbody>\n",
              "    <tr>\n",
              "      <th>149190</th>\n",
              "      <td>insulin</td>\n",
              "    </tr>\n",
              "    <tr>\n",
              "      <th>500364</th>\n",
              "      <td>insulin</td>\n",
              "    </tr>\n",
              "    <tr>\n",
              "      <th>16680</th>\n",
              "      <td>io</td>\n",
              "    </tr>\n",
              "    <tr>\n",
              "      <th>35754</th>\n",
              "      <td>insulin</td>\n",
              "    </tr>\n",
              "    <tr>\n",
              "      <th>55842</th>\n",
              "      <td>io</td>\n",
              "    </tr>\n",
              "  </tbody>\n",
              "</table>\n",
              "</div>"
            ],
            "text/plain": [
              "             treatment\n",
              "encounter_id          \n",
              "149190         insulin\n",
              "500364         insulin\n",
              "16680               io\n",
              "35754          insulin\n",
              "55842               io"
            ]
          },
          "metadata": {
            "tags": []
          },
          "execution_count": 31
        }
      ]
    },
    {
      "cell_type": "code",
      "metadata": {
        "id": "4HXMXIMzKIdu",
        "colab_type": "code",
        "outputId": "c336b2ed-9f84-49d5-f69d-b4735ed5c3c3",
        "colab": {
          "base_uri": "https://localhost:8080/",
          "height": 316
        }
      },
      "source": [
        "# Add the new column 'treatment' to the original data frame using .join(), using 'encounter_id'\n",
        "df = df.join(treatment, on = 'encounter_id')\n",
        "\n",
        "# Display the frist 5 instances\n",
        "df.head()"
      ],
      "execution_count": 32,
      "outputs": [
        {
          "output_type": "execute_result",
          "data": {
            "text/html": [
              "<div>\n",
              "<style scoped>\n",
              "    .dataframe tbody tr th:only-of-type {\n",
              "        vertical-align: middle;\n",
              "    }\n",
              "\n",
              "    .dataframe tbody tr th {\n",
              "        vertical-align: top;\n",
              "    }\n",
              "\n",
              "    .dataframe thead th {\n",
              "        text-align: right;\n",
              "    }\n",
              "</style>\n",
              "<table border=\"1\" class=\"dataframe\">\n",
              "  <thead>\n",
              "    <tr style=\"text-align: right;\">\n",
              "      <th></th>\n",
              "      <th>encounter_id</th>\n",
              "      <th>race</th>\n",
              "      <th>gender</th>\n",
              "      <th>age</th>\n",
              "      <th>admission_type_id</th>\n",
              "      <th>discharge_disposition_id</th>\n",
              "      <th>admission_source_id</th>\n",
              "      <th>time_in_hospital</th>\n",
              "      <th>num_lab_procedures</th>\n",
              "      <th>num_procedures</th>\n",
              "      <th>num_medications</th>\n",
              "      <th>number_outpatient</th>\n",
              "      <th>number_emergency</th>\n",
              "      <th>number_inpatient</th>\n",
              "      <th>number_diagnoses</th>\n",
              "      <th>max_glu_serum</th>\n",
              "      <th>A1Cresult</th>\n",
              "      <th>metformin</th>\n",
              "      <th>repaglinide</th>\n",
              "      <th>nateglinide</th>\n",
              "      <th>chlorpropamide</th>\n",
              "      <th>glimepiride</th>\n",
              "      <th>acetohexamide</th>\n",
              "      <th>glipizide</th>\n",
              "      <th>glyburide</th>\n",
              "      <th>tolbutamide</th>\n",
              "      <th>pioglitazone</th>\n",
              "      <th>rosiglitazone</th>\n",
              "      <th>acarbose</th>\n",
              "      <th>miglitol</th>\n",
              "      <th>troglitazone</th>\n",
              "      <th>tolazamide</th>\n",
              "      <th>examide</th>\n",
              "      <th>citoglipton</th>\n",
              "      <th>insulin</th>\n",
              "      <th>glyburide-metformin</th>\n",
              "      <th>glipizide-metformin</th>\n",
              "      <th>glimepiride-pioglitazone</th>\n",
              "      <th>metformin-rosiglitazone</th>\n",
              "      <th>metformin-pioglitazone</th>\n",
              "      <th>change</th>\n",
              "      <th>diabetesMed</th>\n",
              "      <th>readmitted</th>\n",
              "      <th>treatment</th>\n",
              "    </tr>\n",
              "  </thead>\n",
              "  <tbody>\n",
              "    <tr>\n",
              "      <th>0</th>\n",
              "      <td>149190</td>\n",
              "      <td>Caucasian</td>\n",
              "      <td>Female</td>\n",
              "      <td>[10-20)</td>\n",
              "      <td>1</td>\n",
              "      <td>1</td>\n",
              "      <td>7</td>\n",
              "      <td>3</td>\n",
              "      <td>59</td>\n",
              "      <td>0</td>\n",
              "      <td>18</td>\n",
              "      <td>0</td>\n",
              "      <td>0</td>\n",
              "      <td>0</td>\n",
              "      <td>9</td>\n",
              "      <td>None</td>\n",
              "      <td>None</td>\n",
              "      <td>No</td>\n",
              "      <td>No</td>\n",
              "      <td>No</td>\n",
              "      <td>No</td>\n",
              "      <td>No</td>\n",
              "      <td>No</td>\n",
              "      <td>No</td>\n",
              "      <td>No</td>\n",
              "      <td>No</td>\n",
              "      <td>No</td>\n",
              "      <td>No</td>\n",
              "      <td>No</td>\n",
              "      <td>No</td>\n",
              "      <td>No</td>\n",
              "      <td>No</td>\n",
              "      <td>No</td>\n",
              "      <td>No</td>\n",
              "      <td>Up</td>\n",
              "      <td>No</td>\n",
              "      <td>No</td>\n",
              "      <td>No</td>\n",
              "      <td>No</td>\n",
              "      <td>No</td>\n",
              "      <td>Ch</td>\n",
              "      <td>Yes</td>\n",
              "      <td>&gt;30</td>\n",
              "      <td>insulin</td>\n",
              "    </tr>\n",
              "    <tr>\n",
              "      <th>1</th>\n",
              "      <td>64410</td>\n",
              "      <td>AfricanAmerican</td>\n",
              "      <td>Female</td>\n",
              "      <td>[20-30)</td>\n",
              "      <td>1</td>\n",
              "      <td>1</td>\n",
              "      <td>7</td>\n",
              "      <td>2</td>\n",
              "      <td>11</td>\n",
              "      <td>5</td>\n",
              "      <td>13</td>\n",
              "      <td>2</td>\n",
              "      <td>0</td>\n",
              "      <td>1</td>\n",
              "      <td>6</td>\n",
              "      <td>None</td>\n",
              "      <td>None</td>\n",
              "      <td>No</td>\n",
              "      <td>No</td>\n",
              "      <td>No</td>\n",
              "      <td>No</td>\n",
              "      <td>No</td>\n",
              "      <td>No</td>\n",
              "      <td>Steady</td>\n",
              "      <td>No</td>\n",
              "      <td>No</td>\n",
              "      <td>No</td>\n",
              "      <td>No</td>\n",
              "      <td>No</td>\n",
              "      <td>No</td>\n",
              "      <td>No</td>\n",
              "      <td>No</td>\n",
              "      <td>No</td>\n",
              "      <td>No</td>\n",
              "      <td>No</td>\n",
              "      <td>No</td>\n",
              "      <td>No</td>\n",
              "      <td>No</td>\n",
              "      <td>No</td>\n",
              "      <td>No</td>\n",
              "      <td>No</td>\n",
              "      <td>Yes</td>\n",
              "      <td>NO</td>\n",
              "      <td>other</td>\n",
              "    </tr>\n",
              "    <tr>\n",
              "      <th>2</th>\n",
              "      <td>500364</td>\n",
              "      <td>Caucasian</td>\n",
              "      <td>Male</td>\n",
              "      <td>[30-40)</td>\n",
              "      <td>1</td>\n",
              "      <td>1</td>\n",
              "      <td>7</td>\n",
              "      <td>2</td>\n",
              "      <td>44</td>\n",
              "      <td>1</td>\n",
              "      <td>16</td>\n",
              "      <td>0</td>\n",
              "      <td>0</td>\n",
              "      <td>0</td>\n",
              "      <td>7</td>\n",
              "      <td>None</td>\n",
              "      <td>None</td>\n",
              "      <td>No</td>\n",
              "      <td>No</td>\n",
              "      <td>No</td>\n",
              "      <td>No</td>\n",
              "      <td>No</td>\n",
              "      <td>No</td>\n",
              "      <td>No</td>\n",
              "      <td>No</td>\n",
              "      <td>No</td>\n",
              "      <td>No</td>\n",
              "      <td>No</td>\n",
              "      <td>No</td>\n",
              "      <td>No</td>\n",
              "      <td>No</td>\n",
              "      <td>No</td>\n",
              "      <td>No</td>\n",
              "      <td>No</td>\n",
              "      <td>Up</td>\n",
              "      <td>No</td>\n",
              "      <td>No</td>\n",
              "      <td>No</td>\n",
              "      <td>No</td>\n",
              "      <td>No</td>\n",
              "      <td>Ch</td>\n",
              "      <td>Yes</td>\n",
              "      <td>NO</td>\n",
              "      <td>insulin</td>\n",
              "    </tr>\n",
              "    <tr>\n",
              "      <th>3</th>\n",
              "      <td>16680</td>\n",
              "      <td>Caucasian</td>\n",
              "      <td>Male</td>\n",
              "      <td>[40-50)</td>\n",
              "      <td>1</td>\n",
              "      <td>1</td>\n",
              "      <td>7</td>\n",
              "      <td>1</td>\n",
              "      <td>51</td>\n",
              "      <td>0</td>\n",
              "      <td>8</td>\n",
              "      <td>0</td>\n",
              "      <td>0</td>\n",
              "      <td>0</td>\n",
              "      <td>5</td>\n",
              "      <td>None</td>\n",
              "      <td>None</td>\n",
              "      <td>No</td>\n",
              "      <td>No</td>\n",
              "      <td>No</td>\n",
              "      <td>No</td>\n",
              "      <td>No</td>\n",
              "      <td>No</td>\n",
              "      <td>Steady</td>\n",
              "      <td>No</td>\n",
              "      <td>No</td>\n",
              "      <td>No</td>\n",
              "      <td>No</td>\n",
              "      <td>No</td>\n",
              "      <td>No</td>\n",
              "      <td>No</td>\n",
              "      <td>No</td>\n",
              "      <td>No</td>\n",
              "      <td>No</td>\n",
              "      <td>Steady</td>\n",
              "      <td>No</td>\n",
              "      <td>No</td>\n",
              "      <td>No</td>\n",
              "      <td>No</td>\n",
              "      <td>No</td>\n",
              "      <td>Ch</td>\n",
              "      <td>Yes</td>\n",
              "      <td>NO</td>\n",
              "      <td>io</td>\n",
              "    </tr>\n",
              "    <tr>\n",
              "      <th>4</th>\n",
              "      <td>35754</td>\n",
              "      <td>Caucasian</td>\n",
              "      <td>Male</td>\n",
              "      <td>[50-60)</td>\n",
              "      <td>2</td>\n",
              "      <td>1</td>\n",
              "      <td>2</td>\n",
              "      <td>3</td>\n",
              "      <td>31</td>\n",
              "      <td>6</td>\n",
              "      <td>16</td>\n",
              "      <td>0</td>\n",
              "      <td>0</td>\n",
              "      <td>0</td>\n",
              "      <td>9</td>\n",
              "      <td>None</td>\n",
              "      <td>None</td>\n",
              "      <td>No</td>\n",
              "      <td>No</td>\n",
              "      <td>No</td>\n",
              "      <td>No</td>\n",
              "      <td>No</td>\n",
              "      <td>No</td>\n",
              "      <td>No</td>\n",
              "      <td>No</td>\n",
              "      <td>No</td>\n",
              "      <td>No</td>\n",
              "      <td>No</td>\n",
              "      <td>No</td>\n",
              "      <td>No</td>\n",
              "      <td>No</td>\n",
              "      <td>No</td>\n",
              "      <td>No</td>\n",
              "      <td>No</td>\n",
              "      <td>Steady</td>\n",
              "      <td>No</td>\n",
              "      <td>No</td>\n",
              "      <td>No</td>\n",
              "      <td>No</td>\n",
              "      <td>No</td>\n",
              "      <td>No</td>\n",
              "      <td>Yes</td>\n",
              "      <td>&gt;30</td>\n",
              "      <td>insulin</td>\n",
              "    </tr>\n",
              "  </tbody>\n",
              "</table>\n",
              "</div>"
            ],
            "text/plain": [
              "   encounter_id             race  gender  ... diabetesMed  readmitted  treatment\n",
              "0        149190        Caucasian  Female  ...         Yes         >30    insulin\n",
              "1         64410  AfricanAmerican  Female  ...         Yes          NO      other\n",
              "2        500364        Caucasian    Male  ...         Yes          NO    insulin\n",
              "3         16680        Caucasian    Male  ...         Yes          NO         io\n",
              "4         35754        Caucasian    Male  ...         Yes         >30    insulin\n",
              "\n",
              "[5 rows x 44 columns]"
            ]
          },
          "metadata": {
            "tags": []
          },
          "execution_count": 32
        }
      ]
    },
    {
      "cell_type": "code",
      "metadata": {
        "id": "QPnM9u3oKIdv",
        "colab_type": "code",
        "colab": {}
      },
      "source": [
        "# Drop the encoded columns from the original dataframe\n",
        "df = df.drop(columns = ['encounter_id','insulin','metformin', 'repaglinide', 'nateglinide',\n",
        "       'chlorpropamide', 'glimepiride', 'acetohexamide', 'glipizide',\n",
        "       'glyburide', 'tolbutamide', 'pioglitazone', 'rosiglitazone', 'acarbose',\n",
        "       'miglitol', 'troglitazone', 'tolazamide', 'examide', 'citoglipton',\n",
        "       'glyburide-metformin', 'glipizide-metformin',\n",
        "       'glimepiride-pioglitazone', 'metformin-rosiglitazone',\n",
        "       'metformin-pioglitazone']).reset_index(drop=True)"
      ],
      "execution_count": 0,
      "outputs": []
    },
    {
      "cell_type": "code",
      "metadata": {
        "id": "3pn6cKgEKIdx",
        "colab_type": "code",
        "outputId": "bdca2f6b-d50e-4f9c-8d4c-4c30784fbdaf",
        "colab": {
          "base_uri": "https://localhost:8080/",
          "height": 299
        }
      },
      "source": [
        "# Display the frist 5 instances\n",
        "df.head()"
      ],
      "execution_count": 34,
      "outputs": [
        {
          "output_type": "execute_result",
          "data": {
            "text/html": [
              "<div>\n",
              "<style scoped>\n",
              "    .dataframe tbody tr th:only-of-type {\n",
              "        vertical-align: middle;\n",
              "    }\n",
              "\n",
              "    .dataframe tbody tr th {\n",
              "        vertical-align: top;\n",
              "    }\n",
              "\n",
              "    .dataframe thead th {\n",
              "        text-align: right;\n",
              "    }\n",
              "</style>\n",
              "<table border=\"1\" class=\"dataframe\">\n",
              "  <thead>\n",
              "    <tr style=\"text-align: right;\">\n",
              "      <th></th>\n",
              "      <th>race</th>\n",
              "      <th>gender</th>\n",
              "      <th>age</th>\n",
              "      <th>admission_type_id</th>\n",
              "      <th>discharge_disposition_id</th>\n",
              "      <th>admission_source_id</th>\n",
              "      <th>time_in_hospital</th>\n",
              "      <th>num_lab_procedures</th>\n",
              "      <th>num_procedures</th>\n",
              "      <th>num_medications</th>\n",
              "      <th>number_outpatient</th>\n",
              "      <th>number_emergency</th>\n",
              "      <th>number_inpatient</th>\n",
              "      <th>number_diagnoses</th>\n",
              "      <th>max_glu_serum</th>\n",
              "      <th>A1Cresult</th>\n",
              "      <th>change</th>\n",
              "      <th>diabetesMed</th>\n",
              "      <th>readmitted</th>\n",
              "      <th>treatment</th>\n",
              "    </tr>\n",
              "  </thead>\n",
              "  <tbody>\n",
              "    <tr>\n",
              "      <th>0</th>\n",
              "      <td>Caucasian</td>\n",
              "      <td>Female</td>\n",
              "      <td>[10-20)</td>\n",
              "      <td>1</td>\n",
              "      <td>1</td>\n",
              "      <td>7</td>\n",
              "      <td>3</td>\n",
              "      <td>59</td>\n",
              "      <td>0</td>\n",
              "      <td>18</td>\n",
              "      <td>0</td>\n",
              "      <td>0</td>\n",
              "      <td>0</td>\n",
              "      <td>9</td>\n",
              "      <td>None</td>\n",
              "      <td>None</td>\n",
              "      <td>Ch</td>\n",
              "      <td>Yes</td>\n",
              "      <td>&gt;30</td>\n",
              "      <td>insulin</td>\n",
              "    </tr>\n",
              "    <tr>\n",
              "      <th>1</th>\n",
              "      <td>AfricanAmerican</td>\n",
              "      <td>Female</td>\n",
              "      <td>[20-30)</td>\n",
              "      <td>1</td>\n",
              "      <td>1</td>\n",
              "      <td>7</td>\n",
              "      <td>2</td>\n",
              "      <td>11</td>\n",
              "      <td>5</td>\n",
              "      <td>13</td>\n",
              "      <td>2</td>\n",
              "      <td>0</td>\n",
              "      <td>1</td>\n",
              "      <td>6</td>\n",
              "      <td>None</td>\n",
              "      <td>None</td>\n",
              "      <td>No</td>\n",
              "      <td>Yes</td>\n",
              "      <td>NO</td>\n",
              "      <td>other</td>\n",
              "    </tr>\n",
              "    <tr>\n",
              "      <th>2</th>\n",
              "      <td>Caucasian</td>\n",
              "      <td>Male</td>\n",
              "      <td>[30-40)</td>\n",
              "      <td>1</td>\n",
              "      <td>1</td>\n",
              "      <td>7</td>\n",
              "      <td>2</td>\n",
              "      <td>44</td>\n",
              "      <td>1</td>\n",
              "      <td>16</td>\n",
              "      <td>0</td>\n",
              "      <td>0</td>\n",
              "      <td>0</td>\n",
              "      <td>7</td>\n",
              "      <td>None</td>\n",
              "      <td>None</td>\n",
              "      <td>Ch</td>\n",
              "      <td>Yes</td>\n",
              "      <td>NO</td>\n",
              "      <td>insulin</td>\n",
              "    </tr>\n",
              "    <tr>\n",
              "      <th>3</th>\n",
              "      <td>Caucasian</td>\n",
              "      <td>Male</td>\n",
              "      <td>[40-50)</td>\n",
              "      <td>1</td>\n",
              "      <td>1</td>\n",
              "      <td>7</td>\n",
              "      <td>1</td>\n",
              "      <td>51</td>\n",
              "      <td>0</td>\n",
              "      <td>8</td>\n",
              "      <td>0</td>\n",
              "      <td>0</td>\n",
              "      <td>0</td>\n",
              "      <td>5</td>\n",
              "      <td>None</td>\n",
              "      <td>None</td>\n",
              "      <td>Ch</td>\n",
              "      <td>Yes</td>\n",
              "      <td>NO</td>\n",
              "      <td>io</td>\n",
              "    </tr>\n",
              "    <tr>\n",
              "      <th>4</th>\n",
              "      <td>Caucasian</td>\n",
              "      <td>Male</td>\n",
              "      <td>[50-60)</td>\n",
              "      <td>2</td>\n",
              "      <td>1</td>\n",
              "      <td>2</td>\n",
              "      <td>3</td>\n",
              "      <td>31</td>\n",
              "      <td>6</td>\n",
              "      <td>16</td>\n",
              "      <td>0</td>\n",
              "      <td>0</td>\n",
              "      <td>0</td>\n",
              "      <td>9</td>\n",
              "      <td>None</td>\n",
              "      <td>None</td>\n",
              "      <td>No</td>\n",
              "      <td>Yes</td>\n",
              "      <td>&gt;30</td>\n",
              "      <td>insulin</td>\n",
              "    </tr>\n",
              "  </tbody>\n",
              "</table>\n",
              "</div>"
            ],
            "text/plain": [
              "              race  gender      age  ...  diabetesMed  readmitted  treatment\n",
              "0        Caucasian  Female  [10-20)  ...          Yes         >30    insulin\n",
              "1  AfricanAmerican  Female  [20-30)  ...          Yes          NO      other\n",
              "2        Caucasian    Male  [30-40)  ...          Yes          NO    insulin\n",
              "3        Caucasian    Male  [40-50)  ...          Yes          NO         io\n",
              "4        Caucasian    Male  [50-60)  ...          Yes         >30    insulin\n",
              "\n",
              "[5 rows x 20 columns]"
            ]
          },
          "metadata": {
            "tags": []
          },
          "execution_count": 34
        }
      ]
    },
    {
      "cell_type": "markdown",
      "metadata": {
        "id": "Mz2wcCUWKIdz",
        "colab_type": "text"
      },
      "source": [
        "## Age\n",
        "### Custom encoding of the categories in column 'age'\n",
        "- The column 'age' has 10 different categories ranging from 0-70, as shown below."
      ]
    },
    {
      "cell_type": "code",
      "metadata": {
        "id": "EmptCNAqKIdz",
        "colab_type": "code",
        "outputId": "3e84000b-af0e-4bd6-8801-700862f257a2",
        "colab": {
          "base_uri": "https://localhost:8080/",
          "height": 202
        }
      },
      "source": [
        "df['age'].value_counts()"
      ],
      "execution_count": 35,
      "outputs": [
        {
          "output_type": "execute_result",
          "data": {
            "text/plain": [
              "[70-80)     20189\n",
              "[60-70)     17611\n",
              "[50-60)     13401\n",
              "[80-90)     12914\n",
              "[40-50)      7405\n",
              "[30-40)      2849\n",
              "[90-100)     1944\n",
              "[20-30)      1315\n",
              "[10-20)       600\n",
              "[0-10)        133\n",
              "Name: age, dtype: int64"
            ]
          },
          "metadata": {
            "tags": []
          },
          "execution_count": 35
        }
      ]
    },
    {
      "cell_type": "markdown",
      "metadata": {
        "id": "WwsVu5h5KId1",
        "colab_type": "text"
      },
      "source": [
        "#### The following function provides the following label/custom categories for age:\n",
        "\n",
        "- [0-10): 1\n",
        "- [10-20): 2\n",
        "- [20-30): 3\n",
        "- [30-40): 4\n",
        "- [40-50): 5\n",
        "- [50-60): 6\n",
        "- [60-70): 7\n",
        "- [70-80): 8\n",
        "- [80-90): 9\n",
        "- [90-100): 10\n"
      ]
    },
    {
      "cell_type": "code",
      "metadata": {
        "id": "8TrTB-PIKId1",
        "colab_type": "code",
        "outputId": "e8228150-8228-4596-e47c-05d24c6605b0",
        "colab": {
          "base_uri": "https://localhost:8080/",
          "height": 185
        }
      },
      "source": [
        "# encoding age columns with 10 categories\n",
        "labels = data['age'].astype('category').cat.categories.tolist()\n",
        "replace_age = {'age' : {k: v for k,v in zip(labels,list(range(1,len(labels)+1)))}}\n",
        "\n",
        "# Display the categories\n",
        "replace_age"
      ],
      "execution_count": 36,
      "outputs": [
        {
          "output_type": "execute_result",
          "data": {
            "text/plain": [
              "{'age': {'[0-10)': 1,\n",
              "  '[10-20)': 2,\n",
              "  '[20-30)': 3,\n",
              "  '[30-40)': 4,\n",
              "  '[40-50)': 5,\n",
              "  '[50-60)': 6,\n",
              "  '[60-70)': 7,\n",
              "  '[70-80)': 8,\n",
              "  '[80-90)': 9,\n",
              "  '[90-100)': 10}}"
            ]
          },
          "metadata": {
            "tags": []
          },
          "execution_count": 36
        }
      ]
    },
    {
      "cell_type": "code",
      "metadata": {
        "id": "kkkWXOqCKId3",
        "colab_type": "code",
        "outputId": "465235db-4b27-40dc-dddf-317d2f4f7bbd",
        "colab": {
          "base_uri": "https://localhost:8080/",
          "height": 215
        }
      },
      "source": [
        "# Replace each age category with a custom label\n",
        "df = df.replace(replace_age)\n",
        "\n",
        "# Display the first 5 instances\n",
        "df.head()"
      ],
      "execution_count": 37,
      "outputs": [
        {
          "output_type": "execute_result",
          "data": {
            "text/html": [
              "<div>\n",
              "<style scoped>\n",
              "    .dataframe tbody tr th:only-of-type {\n",
              "        vertical-align: middle;\n",
              "    }\n",
              "\n",
              "    .dataframe tbody tr th {\n",
              "        vertical-align: top;\n",
              "    }\n",
              "\n",
              "    .dataframe thead th {\n",
              "        text-align: right;\n",
              "    }\n",
              "</style>\n",
              "<table border=\"1\" class=\"dataframe\">\n",
              "  <thead>\n",
              "    <tr style=\"text-align: right;\">\n",
              "      <th></th>\n",
              "      <th>race</th>\n",
              "      <th>gender</th>\n",
              "      <th>age</th>\n",
              "      <th>admission_type_id</th>\n",
              "      <th>discharge_disposition_id</th>\n",
              "      <th>admission_source_id</th>\n",
              "      <th>time_in_hospital</th>\n",
              "      <th>num_lab_procedures</th>\n",
              "      <th>num_procedures</th>\n",
              "      <th>num_medications</th>\n",
              "      <th>number_outpatient</th>\n",
              "      <th>number_emergency</th>\n",
              "      <th>number_inpatient</th>\n",
              "      <th>number_diagnoses</th>\n",
              "      <th>max_glu_serum</th>\n",
              "      <th>A1Cresult</th>\n",
              "      <th>change</th>\n",
              "      <th>diabetesMed</th>\n",
              "      <th>readmitted</th>\n",
              "      <th>treatment</th>\n",
              "    </tr>\n",
              "  </thead>\n",
              "  <tbody>\n",
              "    <tr>\n",
              "      <th>0</th>\n",
              "      <td>Caucasian</td>\n",
              "      <td>Female</td>\n",
              "      <td>2</td>\n",
              "      <td>1</td>\n",
              "      <td>1</td>\n",
              "      <td>7</td>\n",
              "      <td>3</td>\n",
              "      <td>59</td>\n",
              "      <td>0</td>\n",
              "      <td>18</td>\n",
              "      <td>0</td>\n",
              "      <td>0</td>\n",
              "      <td>0</td>\n",
              "      <td>9</td>\n",
              "      <td>None</td>\n",
              "      <td>None</td>\n",
              "      <td>Ch</td>\n",
              "      <td>Yes</td>\n",
              "      <td>&gt;30</td>\n",
              "      <td>insulin</td>\n",
              "    </tr>\n",
              "    <tr>\n",
              "      <th>1</th>\n",
              "      <td>AfricanAmerican</td>\n",
              "      <td>Female</td>\n",
              "      <td>3</td>\n",
              "      <td>1</td>\n",
              "      <td>1</td>\n",
              "      <td>7</td>\n",
              "      <td>2</td>\n",
              "      <td>11</td>\n",
              "      <td>5</td>\n",
              "      <td>13</td>\n",
              "      <td>2</td>\n",
              "      <td>0</td>\n",
              "      <td>1</td>\n",
              "      <td>6</td>\n",
              "      <td>None</td>\n",
              "      <td>None</td>\n",
              "      <td>No</td>\n",
              "      <td>Yes</td>\n",
              "      <td>NO</td>\n",
              "      <td>other</td>\n",
              "    </tr>\n",
              "    <tr>\n",
              "      <th>2</th>\n",
              "      <td>Caucasian</td>\n",
              "      <td>Male</td>\n",
              "      <td>4</td>\n",
              "      <td>1</td>\n",
              "      <td>1</td>\n",
              "      <td>7</td>\n",
              "      <td>2</td>\n",
              "      <td>44</td>\n",
              "      <td>1</td>\n",
              "      <td>16</td>\n",
              "      <td>0</td>\n",
              "      <td>0</td>\n",
              "      <td>0</td>\n",
              "      <td>7</td>\n",
              "      <td>None</td>\n",
              "      <td>None</td>\n",
              "      <td>Ch</td>\n",
              "      <td>Yes</td>\n",
              "      <td>NO</td>\n",
              "      <td>insulin</td>\n",
              "    </tr>\n",
              "    <tr>\n",
              "      <th>3</th>\n",
              "      <td>Caucasian</td>\n",
              "      <td>Male</td>\n",
              "      <td>5</td>\n",
              "      <td>1</td>\n",
              "      <td>1</td>\n",
              "      <td>7</td>\n",
              "      <td>1</td>\n",
              "      <td>51</td>\n",
              "      <td>0</td>\n",
              "      <td>8</td>\n",
              "      <td>0</td>\n",
              "      <td>0</td>\n",
              "      <td>0</td>\n",
              "      <td>5</td>\n",
              "      <td>None</td>\n",
              "      <td>None</td>\n",
              "      <td>Ch</td>\n",
              "      <td>Yes</td>\n",
              "      <td>NO</td>\n",
              "      <td>io</td>\n",
              "    </tr>\n",
              "    <tr>\n",
              "      <th>4</th>\n",
              "      <td>Caucasian</td>\n",
              "      <td>Male</td>\n",
              "      <td>6</td>\n",
              "      <td>2</td>\n",
              "      <td>1</td>\n",
              "      <td>2</td>\n",
              "      <td>3</td>\n",
              "      <td>31</td>\n",
              "      <td>6</td>\n",
              "      <td>16</td>\n",
              "      <td>0</td>\n",
              "      <td>0</td>\n",
              "      <td>0</td>\n",
              "      <td>9</td>\n",
              "      <td>None</td>\n",
              "      <td>None</td>\n",
              "      <td>No</td>\n",
              "      <td>Yes</td>\n",
              "      <td>&gt;30</td>\n",
              "      <td>insulin</td>\n",
              "    </tr>\n",
              "  </tbody>\n",
              "</table>\n",
              "</div>"
            ],
            "text/plain": [
              "              race  gender  age  ...  diabetesMed  readmitted  treatment\n",
              "0        Caucasian  Female    2  ...          Yes         >30    insulin\n",
              "1  AfricanAmerican  Female    3  ...          Yes          NO      other\n",
              "2        Caucasian    Male    4  ...          Yes          NO    insulin\n",
              "3        Caucasian    Male    5  ...          Yes          NO         io\n",
              "4        Caucasian    Male    6  ...          Yes         >30    insulin\n",
              "\n",
              "[5 rows x 20 columns]"
            ]
          },
          "metadata": {
            "tags": []
          },
          "execution_count": 37
        }
      ]
    },
    {
      "cell_type": "markdown",
      "metadata": {
        "id": "G3faNTclKId5",
        "colab_type": "text"
      },
      "source": [
        "## Remaining Categorical Features\n",
        "### For the target 'Readmission', we need to perform custom encoding of certain columns:"
      ]
    },
    {
      "cell_type": "markdown",
      "metadata": {
        "id": "fq_8yHJGKId5",
        "colab_type": "text"
      },
      "source": [
        "- Column 'readmitted' has 3 unique values - 'NO', '>30', '<30'. Our aim to predict if the patients get readmitted or not within 30 days. Hence, we encode, \n",
        "  - 'No' (patient does not get readmitted) as 0\n",
        "  - '>30' (patient gets readmitted after 30 days) as 0\n",
        "  - '<30' (patient gets readmitted within 30 days) as 1.\n"
      ]
    },
    {
      "cell_type": "markdown",
      "metadata": {
        "id": "5GFKGVT_KId6",
        "colab_type": "text"
      },
      "source": [
        "- Column 'change' has 2 unique values - 'No', 'Ch'. We encode,\n",
        "    - 'No' (No change in medication) as 0\n",
        "    - 'Ch' (Change in medication) as 1"
      ]
    },
    {
      "cell_type": "markdown",
      "metadata": {
        "id": "FBtNAlIdKId6",
        "colab_type": "text"
      },
      "source": [
        "- Column 'gender' has 2 unique values - 'Male', 'Female'. We encode,\n",
        "     - 'Male' as 0\n",
        "     - 'Female' as 1"
      ]
    },
    {
      "cell_type": "markdown",
      "metadata": {
        "id": "TouEISdDKId7",
        "colab_type": "text"
      },
      "source": [
        "- Column 'max_glu_serum' has 4 unique values - 'None', '>300', 'Norm', '>200'. We encode,\n",
        "    - 'None' (No Glucose Serum test was taken) as -99\n",
        "    - 'Norm' (Normal test results) as 0\n",
        "    - '>300' and '>200' (Abnormal test results) as 1"
      ]
    },
    {
      "cell_type": "markdown",
      "metadata": {
        "id": "KiIasE6yKId7",
        "colab_type": "text"
      },
      "source": [
        "- Column 'A1Cresult' has 4 unique values - 'None', '>7', 'Norm', '>8'. We encode,\n",
        "    - 'None' (No Hemoglobin test was taken) as -99\n",
        "    - 'Norm' (Normal test results) as 0\n",
        "    - '>7' and '>8' (Abnormal test results) as 1"
      ]
    },
    {
      "cell_type": "markdown",
      "metadata": {
        "id": "sAnQsS58KId7",
        "colab_type": "text"
      },
      "source": [
        "- Column 'treatment' has 3 unique values - 'other', 'insulin', 'io'. We encode,\n",
        "     - 'other' (A combination of medications not including insulin) as 0\n",
        "     - 'insulin' (Only insulin is provided as treatment) as 1\n",
        "     - 'io' (A combination of medications including insulin) as 2"
      ]
    },
    {
      "cell_type": "code",
      "metadata": {
        "id": "HRpjUsQfKId8",
        "colab_type": "code",
        "colab": {}
      },
      "source": [
        "# Encoding column 'readmitted'\n",
        "df['readmitted'] = df['readmitted'].replace(['NO', '>30', '<30'], [0,0,1])\n",
        "\n",
        "# Encoding column 'change'\n",
        "df['change'] = df['change'].replace(['No', 'Ch'], [0,1])\n",
        "\n",
        "# Encoding column 'gender'\n",
        "df['gender'] = df['gender'].replace(['Male', 'Female'], [0,1])\n",
        "\n",
        "# Encoding column 'max_glu_serum'\n",
        "df['max_glu_serum'] = df['max_glu_serum'].replace(['None', '>300', 'Norm', '>200'], [-99,1,0,1])\n",
        "\n",
        "# Encoding column 'A1Cresult'\n",
        "df['A1Cresult'] = df['A1Cresult'].replace(['None', '>7', '>8', 'Norm'], [-99,1,1,0])\n",
        "\n",
        "# Encoding column 'treatment'\n",
        "df['treatment'] = df['treatment'].replace(['other', 'insulin', 'io'],[0, 1, 2])"
      ],
      "execution_count": 0,
      "outputs": []
    },
    {
      "cell_type": "code",
      "metadata": {
        "id": "GfM20rZ9KId-",
        "colab_type": "code",
        "outputId": "485f3802-88eb-4760-ab77-c4cdd6fd93d9",
        "colab": {
          "base_uri": "https://localhost:8080/",
          "height": 215
        }
      },
      "source": [
        "# Display the first 5 instances\n",
        "df.head()"
      ],
      "execution_count": 39,
      "outputs": [
        {
          "output_type": "execute_result",
          "data": {
            "text/html": [
              "<div>\n",
              "<style scoped>\n",
              "    .dataframe tbody tr th:only-of-type {\n",
              "        vertical-align: middle;\n",
              "    }\n",
              "\n",
              "    .dataframe tbody tr th {\n",
              "        vertical-align: top;\n",
              "    }\n",
              "\n",
              "    .dataframe thead th {\n",
              "        text-align: right;\n",
              "    }\n",
              "</style>\n",
              "<table border=\"1\" class=\"dataframe\">\n",
              "  <thead>\n",
              "    <tr style=\"text-align: right;\">\n",
              "      <th></th>\n",
              "      <th>race</th>\n",
              "      <th>gender</th>\n",
              "      <th>age</th>\n",
              "      <th>admission_type_id</th>\n",
              "      <th>discharge_disposition_id</th>\n",
              "      <th>admission_source_id</th>\n",
              "      <th>time_in_hospital</th>\n",
              "      <th>num_lab_procedures</th>\n",
              "      <th>num_procedures</th>\n",
              "      <th>num_medications</th>\n",
              "      <th>number_outpatient</th>\n",
              "      <th>number_emergency</th>\n",
              "      <th>number_inpatient</th>\n",
              "      <th>number_diagnoses</th>\n",
              "      <th>max_glu_serum</th>\n",
              "      <th>A1Cresult</th>\n",
              "      <th>change</th>\n",
              "      <th>diabetesMed</th>\n",
              "      <th>readmitted</th>\n",
              "      <th>treatment</th>\n",
              "    </tr>\n",
              "  </thead>\n",
              "  <tbody>\n",
              "    <tr>\n",
              "      <th>0</th>\n",
              "      <td>Caucasian</td>\n",
              "      <td>1</td>\n",
              "      <td>2</td>\n",
              "      <td>1</td>\n",
              "      <td>1</td>\n",
              "      <td>7</td>\n",
              "      <td>3</td>\n",
              "      <td>59</td>\n",
              "      <td>0</td>\n",
              "      <td>18</td>\n",
              "      <td>0</td>\n",
              "      <td>0</td>\n",
              "      <td>0</td>\n",
              "      <td>9</td>\n",
              "      <td>-99</td>\n",
              "      <td>-99</td>\n",
              "      <td>1</td>\n",
              "      <td>Yes</td>\n",
              "      <td>0</td>\n",
              "      <td>1</td>\n",
              "    </tr>\n",
              "    <tr>\n",
              "      <th>1</th>\n",
              "      <td>AfricanAmerican</td>\n",
              "      <td>1</td>\n",
              "      <td>3</td>\n",
              "      <td>1</td>\n",
              "      <td>1</td>\n",
              "      <td>7</td>\n",
              "      <td>2</td>\n",
              "      <td>11</td>\n",
              "      <td>5</td>\n",
              "      <td>13</td>\n",
              "      <td>2</td>\n",
              "      <td>0</td>\n",
              "      <td>1</td>\n",
              "      <td>6</td>\n",
              "      <td>-99</td>\n",
              "      <td>-99</td>\n",
              "      <td>0</td>\n",
              "      <td>Yes</td>\n",
              "      <td>0</td>\n",
              "      <td>0</td>\n",
              "    </tr>\n",
              "    <tr>\n",
              "      <th>2</th>\n",
              "      <td>Caucasian</td>\n",
              "      <td>0</td>\n",
              "      <td>4</td>\n",
              "      <td>1</td>\n",
              "      <td>1</td>\n",
              "      <td>7</td>\n",
              "      <td>2</td>\n",
              "      <td>44</td>\n",
              "      <td>1</td>\n",
              "      <td>16</td>\n",
              "      <td>0</td>\n",
              "      <td>0</td>\n",
              "      <td>0</td>\n",
              "      <td>7</td>\n",
              "      <td>-99</td>\n",
              "      <td>-99</td>\n",
              "      <td>1</td>\n",
              "      <td>Yes</td>\n",
              "      <td>0</td>\n",
              "      <td>1</td>\n",
              "    </tr>\n",
              "    <tr>\n",
              "      <th>3</th>\n",
              "      <td>Caucasian</td>\n",
              "      <td>0</td>\n",
              "      <td>5</td>\n",
              "      <td>1</td>\n",
              "      <td>1</td>\n",
              "      <td>7</td>\n",
              "      <td>1</td>\n",
              "      <td>51</td>\n",
              "      <td>0</td>\n",
              "      <td>8</td>\n",
              "      <td>0</td>\n",
              "      <td>0</td>\n",
              "      <td>0</td>\n",
              "      <td>5</td>\n",
              "      <td>-99</td>\n",
              "      <td>-99</td>\n",
              "      <td>1</td>\n",
              "      <td>Yes</td>\n",
              "      <td>0</td>\n",
              "      <td>2</td>\n",
              "    </tr>\n",
              "    <tr>\n",
              "      <th>4</th>\n",
              "      <td>Caucasian</td>\n",
              "      <td>0</td>\n",
              "      <td>6</td>\n",
              "      <td>2</td>\n",
              "      <td>1</td>\n",
              "      <td>2</td>\n",
              "      <td>3</td>\n",
              "      <td>31</td>\n",
              "      <td>6</td>\n",
              "      <td>16</td>\n",
              "      <td>0</td>\n",
              "      <td>0</td>\n",
              "      <td>0</td>\n",
              "      <td>9</td>\n",
              "      <td>-99</td>\n",
              "      <td>-99</td>\n",
              "      <td>0</td>\n",
              "      <td>Yes</td>\n",
              "      <td>0</td>\n",
              "      <td>1</td>\n",
              "    </tr>\n",
              "  </tbody>\n",
              "</table>\n",
              "</div>"
            ],
            "text/plain": [
              "              race  gender  age  ...  diabetesMed  readmitted  treatment\n",
              "0        Caucasian       1    2  ...          Yes           0          1\n",
              "1  AfricanAmerican       1    3  ...          Yes           0          0\n",
              "2        Caucasian       0    4  ...          Yes           0          1\n",
              "3        Caucasian       0    5  ...          Yes           0          2\n",
              "4        Caucasian       0    6  ...          Yes           0          1\n",
              "\n",
              "[5 rows x 20 columns]"
            ]
          },
          "metadata": {
            "tags": []
          },
          "execution_count": 39
        }
      ]
    },
    {
      "cell_type": "markdown",
      "metadata": {
        "id": "Cz1ZPcrbKIeA",
        "colab_type": "text"
      },
      "source": [
        "#### We use the function 'cat_var_checker' to list the remaining categorical values we may need to encode"
      ]
    },
    {
      "cell_type": "code",
      "metadata": {
        "id": "NNQAEnOWKIeA",
        "colab_type": "code",
        "colab": {}
      },
      "source": [
        "# find the categorical variables\n",
        "\n",
        "def cat_var_checker(df):\n",
        "    \"\"\"\n",
        "    The categorical variable checker\n",
        "\n",
        "    Parameters\n",
        "    ----------\n",
        "    df: the dataframe\n",
        "    \n",
        "    Returns\n",
        "    ----------\n",
        "    The dataframe of categorical variables and their number of unique value\n",
        "    \"\"\"\n",
        "    \n",
        "    # Get the dataframe of categorical variables and their number of unique value\n",
        "    df_cat = pd.DataFrame([[var, df[var].nunique(dropna=False)]\n",
        "                           for var in df.columns if df[var].dtype == 'object'],\n",
        "                          columns=['var', 'nunique'])\n",
        "    \n",
        "    # Sort df_cat in accending order of the number of unique value\n",
        "    df_cat = df_cat.sort_values(by='nunique', ascending=False).reset_index(drop=True)\n",
        "    \n",
        "    return df_cat"
      ],
      "execution_count": 0,
      "outputs": []
    },
    {
      "cell_type": "code",
      "metadata": {
        "id": "I_RQKv2BKIeC",
        "colab_type": "code",
        "outputId": "d8508819-c7e0-4f14-9fc0-e9084d0c850c",
        "colab": {
          "base_uri": "https://localhost:8080/",
          "height": 106
        }
      },
      "source": [
        "# Call cat_var_checker on df\n",
        "df_cat = cat_var_checker(df)\n",
        "\n",
        "# Print the dataframe\n",
        "df_cat"
      ],
      "execution_count": 41,
      "outputs": [
        {
          "output_type": "execute_result",
          "data": {
            "text/html": [
              "<div>\n",
              "<style scoped>\n",
              "    .dataframe tbody tr th:only-of-type {\n",
              "        vertical-align: middle;\n",
              "    }\n",
              "\n",
              "    .dataframe tbody tr th {\n",
              "        vertical-align: top;\n",
              "    }\n",
              "\n",
              "    .dataframe thead th {\n",
              "        text-align: right;\n",
              "    }\n",
              "</style>\n",
              "<table border=\"1\" class=\"dataframe\">\n",
              "  <thead>\n",
              "    <tr style=\"text-align: right;\">\n",
              "      <th></th>\n",
              "      <th>var</th>\n",
              "      <th>nunique</th>\n",
              "    </tr>\n",
              "  </thead>\n",
              "  <tbody>\n",
              "    <tr>\n",
              "      <th>0</th>\n",
              "      <td>race</td>\n",
              "      <td>5</td>\n",
              "    </tr>\n",
              "    <tr>\n",
              "      <th>1</th>\n",
              "      <td>diabetesMed</td>\n",
              "      <td>1</td>\n",
              "    </tr>\n",
              "  </tbody>\n",
              "</table>\n",
              "</div>"
            ],
            "text/plain": [
              "           var  nunique\n",
              "0         race        5\n",
              "1  diabetesMed        1"
            ]
          },
          "metadata": {
            "tags": []
          },
          "execution_count": 41
        }
      ]
    },
    {
      "cell_type": "code",
      "metadata": {
        "id": "tUoOJhihKIeE",
        "colab_type": "code",
        "outputId": "25a36848-4a53-42a8-db2c-ef28221df7ea",
        "colab": {
          "base_uri": "https://localhost:8080/",
          "height": 215
        }
      },
      "source": [
        "# One-hot-encode the remaining categorical features in df except treatment\n",
        "df = pd.get_dummies(df, columns=['race', 'diabetesMed'])\n",
        "\n",
        "# Display the first 5 instances\n",
        "df.head()"
      ],
      "execution_count": 42,
      "outputs": [
        {
          "output_type": "execute_result",
          "data": {
            "text/html": [
              "<div>\n",
              "<style scoped>\n",
              "    .dataframe tbody tr th:only-of-type {\n",
              "        vertical-align: middle;\n",
              "    }\n",
              "\n",
              "    .dataframe tbody tr th {\n",
              "        vertical-align: top;\n",
              "    }\n",
              "\n",
              "    .dataframe thead th {\n",
              "        text-align: right;\n",
              "    }\n",
              "</style>\n",
              "<table border=\"1\" class=\"dataframe\">\n",
              "  <thead>\n",
              "    <tr style=\"text-align: right;\">\n",
              "      <th></th>\n",
              "      <th>gender</th>\n",
              "      <th>age</th>\n",
              "      <th>admission_type_id</th>\n",
              "      <th>discharge_disposition_id</th>\n",
              "      <th>admission_source_id</th>\n",
              "      <th>time_in_hospital</th>\n",
              "      <th>num_lab_procedures</th>\n",
              "      <th>num_procedures</th>\n",
              "      <th>num_medications</th>\n",
              "      <th>number_outpatient</th>\n",
              "      <th>number_emergency</th>\n",
              "      <th>number_inpatient</th>\n",
              "      <th>number_diagnoses</th>\n",
              "      <th>max_glu_serum</th>\n",
              "      <th>A1Cresult</th>\n",
              "      <th>change</th>\n",
              "      <th>readmitted</th>\n",
              "      <th>treatment</th>\n",
              "      <th>race_AfricanAmerican</th>\n",
              "      <th>race_Asian</th>\n",
              "      <th>race_Caucasian</th>\n",
              "      <th>race_Hispanic</th>\n",
              "      <th>race_Other</th>\n",
              "      <th>diabetesMed_Yes</th>\n",
              "    </tr>\n",
              "  </thead>\n",
              "  <tbody>\n",
              "    <tr>\n",
              "      <th>0</th>\n",
              "      <td>1</td>\n",
              "      <td>2</td>\n",
              "      <td>1</td>\n",
              "      <td>1</td>\n",
              "      <td>7</td>\n",
              "      <td>3</td>\n",
              "      <td>59</td>\n",
              "      <td>0</td>\n",
              "      <td>18</td>\n",
              "      <td>0</td>\n",
              "      <td>0</td>\n",
              "      <td>0</td>\n",
              "      <td>9</td>\n",
              "      <td>-99</td>\n",
              "      <td>-99</td>\n",
              "      <td>1</td>\n",
              "      <td>0</td>\n",
              "      <td>1</td>\n",
              "      <td>0</td>\n",
              "      <td>0</td>\n",
              "      <td>1</td>\n",
              "      <td>0</td>\n",
              "      <td>0</td>\n",
              "      <td>1</td>\n",
              "    </tr>\n",
              "    <tr>\n",
              "      <th>1</th>\n",
              "      <td>1</td>\n",
              "      <td>3</td>\n",
              "      <td>1</td>\n",
              "      <td>1</td>\n",
              "      <td>7</td>\n",
              "      <td>2</td>\n",
              "      <td>11</td>\n",
              "      <td>5</td>\n",
              "      <td>13</td>\n",
              "      <td>2</td>\n",
              "      <td>0</td>\n",
              "      <td>1</td>\n",
              "      <td>6</td>\n",
              "      <td>-99</td>\n",
              "      <td>-99</td>\n",
              "      <td>0</td>\n",
              "      <td>0</td>\n",
              "      <td>0</td>\n",
              "      <td>1</td>\n",
              "      <td>0</td>\n",
              "      <td>0</td>\n",
              "      <td>0</td>\n",
              "      <td>0</td>\n",
              "      <td>1</td>\n",
              "    </tr>\n",
              "    <tr>\n",
              "      <th>2</th>\n",
              "      <td>0</td>\n",
              "      <td>4</td>\n",
              "      <td>1</td>\n",
              "      <td>1</td>\n",
              "      <td>7</td>\n",
              "      <td>2</td>\n",
              "      <td>44</td>\n",
              "      <td>1</td>\n",
              "      <td>16</td>\n",
              "      <td>0</td>\n",
              "      <td>0</td>\n",
              "      <td>0</td>\n",
              "      <td>7</td>\n",
              "      <td>-99</td>\n",
              "      <td>-99</td>\n",
              "      <td>1</td>\n",
              "      <td>0</td>\n",
              "      <td>1</td>\n",
              "      <td>0</td>\n",
              "      <td>0</td>\n",
              "      <td>1</td>\n",
              "      <td>0</td>\n",
              "      <td>0</td>\n",
              "      <td>1</td>\n",
              "    </tr>\n",
              "    <tr>\n",
              "      <th>3</th>\n",
              "      <td>0</td>\n",
              "      <td>5</td>\n",
              "      <td>1</td>\n",
              "      <td>1</td>\n",
              "      <td>7</td>\n",
              "      <td>1</td>\n",
              "      <td>51</td>\n",
              "      <td>0</td>\n",
              "      <td>8</td>\n",
              "      <td>0</td>\n",
              "      <td>0</td>\n",
              "      <td>0</td>\n",
              "      <td>5</td>\n",
              "      <td>-99</td>\n",
              "      <td>-99</td>\n",
              "      <td>1</td>\n",
              "      <td>0</td>\n",
              "      <td>2</td>\n",
              "      <td>0</td>\n",
              "      <td>0</td>\n",
              "      <td>1</td>\n",
              "      <td>0</td>\n",
              "      <td>0</td>\n",
              "      <td>1</td>\n",
              "    </tr>\n",
              "    <tr>\n",
              "      <th>4</th>\n",
              "      <td>0</td>\n",
              "      <td>6</td>\n",
              "      <td>2</td>\n",
              "      <td>1</td>\n",
              "      <td>2</td>\n",
              "      <td>3</td>\n",
              "      <td>31</td>\n",
              "      <td>6</td>\n",
              "      <td>16</td>\n",
              "      <td>0</td>\n",
              "      <td>0</td>\n",
              "      <td>0</td>\n",
              "      <td>9</td>\n",
              "      <td>-99</td>\n",
              "      <td>-99</td>\n",
              "      <td>0</td>\n",
              "      <td>0</td>\n",
              "      <td>1</td>\n",
              "      <td>0</td>\n",
              "      <td>0</td>\n",
              "      <td>1</td>\n",
              "      <td>0</td>\n",
              "      <td>0</td>\n",
              "      <td>1</td>\n",
              "    </tr>\n",
              "  </tbody>\n",
              "</table>\n",
              "</div>"
            ],
            "text/plain": [
              "   gender  age  admission_type_id  ...  race_Hispanic  race_Other  diabetesMed_Yes\n",
              "0       1    2                  1  ...              0           0                1\n",
              "1       1    3                  1  ...              0           0                1\n",
              "2       0    4                  1  ...              0           0                1\n",
              "3       0    5                  1  ...              0           0                1\n",
              "4       0    6                  2  ...              0           0                1\n",
              "\n",
              "[5 rows x 24 columns]"
            ]
          },
          "metadata": {
            "tags": []
          },
          "execution_count": 42
        }
      ]
    },
    {
      "cell_type": "code",
      "metadata": {
        "id": "_NNIv-hBKIeI",
        "colab_type": "code",
        "outputId": "6bef7d39-aee2-41a0-cb81-650eac4699f9",
        "colab": {
          "base_uri": "https://localhost:8080/",
          "height": 151
        }
      },
      "source": [
        "# Display the columns in the dataframe\n",
        "df.columns"
      ],
      "execution_count": 43,
      "outputs": [
        {
          "output_type": "execute_result",
          "data": {
            "text/plain": [
              "Index(['gender', 'age', 'admission_type_id', 'discharge_disposition_id',\n",
              "       'admission_source_id', 'time_in_hospital', 'num_lab_procedures',\n",
              "       'num_procedures', 'num_medications', 'number_outpatient',\n",
              "       'number_emergency', 'number_inpatient', 'number_diagnoses',\n",
              "       'max_glu_serum', 'A1Cresult', 'change', 'readmitted', 'treatment',\n",
              "       'race_AfricanAmerican', 'race_Asian', 'race_Caucasian', 'race_Hispanic',\n",
              "       'race_Other', 'diabetesMed_Yes'],\n",
              "      dtype='object')"
            ]
          },
          "metadata": {
            "tags": []
          },
          "execution_count": 43
        }
      ]
    },
    {
      "cell_type": "code",
      "metadata": {
        "id": "9m5xRecoKIeJ",
        "colab_type": "code",
        "outputId": "be4f32ef-8cc5-424b-d51f-2d8b1690a34a",
        "colab": {
          "base_uri": "https://localhost:8080/",
          "height": 77
        }
      },
      "source": [
        "# Check the shape of the dataframe\n",
        "pd.DataFrame([[df.shape[0], df.shape[1]]], columns=['# rows', '# columns'])"
      ],
      "execution_count": 44,
      "outputs": [
        {
          "output_type": "execute_result",
          "data": {
            "text/html": [
              "<div>\n",
              "<style scoped>\n",
              "    .dataframe tbody tr th:only-of-type {\n",
              "        vertical-align: middle;\n",
              "    }\n",
              "\n",
              "    .dataframe tbody tr th {\n",
              "        vertical-align: top;\n",
              "    }\n",
              "\n",
              "    .dataframe thead th {\n",
              "        text-align: right;\n",
              "    }\n",
              "</style>\n",
              "<table border=\"1\" class=\"dataframe\">\n",
              "  <thead>\n",
              "    <tr style=\"text-align: right;\">\n",
              "      <th></th>\n",
              "      <th># rows</th>\n",
              "      <th># columns</th>\n",
              "    </tr>\n",
              "  </thead>\n",
              "  <tbody>\n",
              "    <tr>\n",
              "      <th>0</th>\n",
              "      <td>78361</td>\n",
              "      <td>24</td>\n",
              "    </tr>\n",
              "  </tbody>\n",
              "</table>\n",
              "</div>"
            ],
            "text/plain": [
              "   # rows  # columns\n",
              "0   78361         24"
            ]
          },
          "metadata": {
            "tags": []
          },
          "execution_count": 44
        }
      ]
    },
    {
      "cell_type": "markdown",
      "metadata": {
        "id": "_glT8SlxKIeL",
        "colab_type": "text"
      },
      "source": [
        "# Getting the Training, Testing and Validation sets"
      ]
    },
    {
      "cell_type": "code",
      "metadata": {
        "id": "Mi47ZuxPKIeM",
        "colab_type": "code",
        "colab": {}
      },
      "source": [
        "# Set target\n",
        "target = 'readmitted'"
      ],
      "execution_count": 0,
      "outputs": []
    },
    {
      "cell_type": "code",
      "metadata": {
        "id": "53bl7zsLKIeN",
        "colab_type": "code",
        "colab": {}
      },
      "source": [
        "from sklearn.model_selection import train_test_split\n",
        "\n",
        "# Divide the training data into training (80%) and testing (20%)\n",
        "df_train, df_test = train_test_split(df, train_size=0.8, random_state=42, stratify=df[target])\n",
        "\n",
        "# Reset the index\n",
        "df_train, df_test = df_train.reset_index(drop=True), df_test.reset_index(drop=True)"
      ],
      "execution_count": 0,
      "outputs": []
    },
    {
      "cell_type": "code",
      "metadata": {
        "id": "WHG3XF97KIeP",
        "colab_type": "code",
        "outputId": "f3a8dacb-7205-4e38-fe6a-9fb60e1370c2",
        "colab": {}
      },
      "source": [
        "# Check the shape of the training set\n",
        "pd.DataFrame([[df_train.shape[0], df_train.shape[1]]], columns=['# rows', '# columns'])"
      ],
      "execution_count": 0,
      "outputs": [
        {
          "output_type": "execute_result",
          "data": {
            "text/html": [
              "<div>\n",
              "<style scoped>\n",
              "    .dataframe tbody tr th:only-of-type {\n",
              "        vertical-align: middle;\n",
              "    }\n",
              "\n",
              "    .dataframe tbody tr th {\n",
              "        vertical-align: top;\n",
              "    }\n",
              "\n",
              "    .dataframe thead th {\n",
              "        text-align: right;\n",
              "    }\n",
              "</style>\n",
              "<table border=\"1\" class=\"dataframe\">\n",
              "  <thead>\n",
              "    <tr style=\"text-align: right;\">\n",
              "      <th></th>\n",
              "      <th># rows</th>\n",
              "      <th># columns</th>\n",
              "    </tr>\n",
              "  </thead>\n",
              "  <tbody>\n",
              "    <tr>\n",
              "      <td>0</td>\n",
              "      <td>62688</td>\n",
              "      <td>24</td>\n",
              "    </tr>\n",
              "  </tbody>\n",
              "</table>\n",
              "</div>"
            ],
            "text/plain": [
              "   # rows  # columns\n",
              "0   62688         24"
            ]
          },
          "metadata": {
            "tags": []
          },
          "execution_count": 131
        }
      ]
    },
    {
      "cell_type": "code",
      "metadata": {
        "id": "pJqpzsyCKIeR",
        "colab_type": "code",
        "outputId": "fb2e05ad-02bd-4532-dbeb-62495a5b6d97",
        "colab": {}
      },
      "source": [
        "# Check the shape of the testing set\n",
        "pd.DataFrame([[df_test.shape[0], df_test.shape[1]]], columns=['# rows', '# columns'])"
      ],
      "execution_count": 0,
      "outputs": [
        {
          "output_type": "execute_result",
          "data": {
            "text/html": [
              "<div>\n",
              "<style scoped>\n",
              "    .dataframe tbody tr th:only-of-type {\n",
              "        vertical-align: middle;\n",
              "    }\n",
              "\n",
              "    .dataframe tbody tr th {\n",
              "        vertical-align: top;\n",
              "    }\n",
              "\n",
              "    .dataframe thead th {\n",
              "        text-align: right;\n",
              "    }\n",
              "</style>\n",
              "<table border=\"1\" class=\"dataframe\">\n",
              "  <thead>\n",
              "    <tr style=\"text-align: right;\">\n",
              "      <th></th>\n",
              "      <th># rows</th>\n",
              "      <th># columns</th>\n",
              "    </tr>\n",
              "  </thead>\n",
              "  <tbody>\n",
              "    <tr>\n",
              "      <td>0</td>\n",
              "      <td>15673</td>\n",
              "      <td>24</td>\n",
              "    </tr>\n",
              "  </tbody>\n",
              "</table>\n",
              "</div>"
            ],
            "text/plain": [
              "   # rows  # columns\n",
              "0   15673         24"
            ]
          },
          "metadata": {
            "tags": []
          },
          "execution_count": 132
        }
      ]
    },
    {
      "cell_type": "code",
      "metadata": {
        "id": "TF7_axloKIeS",
        "colab_type": "code",
        "colab": {}
      },
      "source": [
        "# training and validation\n",
        "df_train, df_valid = train_test_split(df_train, train_size=0.8, random_state=42, stratify=df_train[target])\n",
        "\n",
        "# Reset the index\n",
        "df_train, df_valid = df_train.reset_index(drop=True), df_valid.reset_index(drop=True)"
      ],
      "execution_count": 0,
      "outputs": []
    },
    {
      "cell_type": "code",
      "metadata": {
        "id": "kQ64YWQgKIeU",
        "colab_type": "code",
        "outputId": "5bc3cfd9-63d2-441e-85df-f7af4ee82aad",
        "colab": {}
      },
      "source": [
        "# Check the shape of the training set\n",
        "pd.DataFrame([[df_train.shape[0], df_train.shape[1]]], columns=['# rows', '# columns'])"
      ],
      "execution_count": 0,
      "outputs": [
        {
          "output_type": "execute_result",
          "data": {
            "text/html": [
              "<div>\n",
              "<style scoped>\n",
              "    .dataframe tbody tr th:only-of-type {\n",
              "        vertical-align: middle;\n",
              "    }\n",
              "\n",
              "    .dataframe tbody tr th {\n",
              "        vertical-align: top;\n",
              "    }\n",
              "\n",
              "    .dataframe thead th {\n",
              "        text-align: right;\n",
              "    }\n",
              "</style>\n",
              "<table border=\"1\" class=\"dataframe\">\n",
              "  <thead>\n",
              "    <tr style=\"text-align: right;\">\n",
              "      <th></th>\n",
              "      <th># rows</th>\n",
              "      <th># columns</th>\n",
              "    </tr>\n",
              "  </thead>\n",
              "  <tbody>\n",
              "    <tr>\n",
              "      <td>0</td>\n",
              "      <td>50150</td>\n",
              "      <td>24</td>\n",
              "    </tr>\n",
              "  </tbody>\n",
              "</table>\n",
              "</div>"
            ],
            "text/plain": [
              "   # rows  # columns\n",
              "0   50150         24"
            ]
          },
          "metadata": {
            "tags": []
          },
          "execution_count": 134
        }
      ]
    },
    {
      "cell_type": "code",
      "metadata": {
        "id": "KIhI1yPSKIeW",
        "colab_type": "code",
        "outputId": "c0137894-31f9-4833-b30b-dbea1be083db",
        "colab": {}
      },
      "source": [
        "# Check the shape of the validation set\n",
        "pd.DataFrame([[df_valid.shape[0], df_valid.shape[1]]], columns=['# rows', '# columns'])"
      ],
      "execution_count": 0,
      "outputs": [
        {
          "output_type": "execute_result",
          "data": {
            "text/html": [
              "<div>\n",
              "<style scoped>\n",
              "    .dataframe tbody tr th:only-of-type {\n",
              "        vertical-align: middle;\n",
              "    }\n",
              "\n",
              "    .dataframe tbody tr th {\n",
              "        vertical-align: top;\n",
              "    }\n",
              "\n",
              "    .dataframe thead th {\n",
              "        text-align: right;\n",
              "    }\n",
              "</style>\n",
              "<table border=\"1\" class=\"dataframe\">\n",
              "  <thead>\n",
              "    <tr style=\"text-align: right;\">\n",
              "      <th></th>\n",
              "      <th># rows</th>\n",
              "      <th># columns</th>\n",
              "    </tr>\n",
              "  </thead>\n",
              "  <tbody>\n",
              "    <tr>\n",
              "      <td>0</td>\n",
              "      <td>12538</td>\n",
              "      <td>24</td>\n",
              "    </tr>\n",
              "  </tbody>\n",
              "</table>\n",
              "</div>"
            ],
            "text/plain": [
              "   # rows  # columns\n",
              "0   12538         24"
            ]
          },
          "metadata": {
            "tags": []
          },
          "execution_count": 135
        }
      ]
    },
    {
      "cell_type": "code",
      "metadata": {
        "id": "w15NjbCFKIeY",
        "colab_type": "code",
        "outputId": "80868ae3-1713-44c8-9ce4-1e2a7d87045c",
        "colab": {}
      },
      "source": [
        "# Display the first 5 instances of training set\n",
        "df_train.head()"
      ],
      "execution_count": 0,
      "outputs": [
        {
          "output_type": "execute_result",
          "data": {
            "text/html": [
              "<div>\n",
              "<style scoped>\n",
              "    .dataframe tbody tr th:only-of-type {\n",
              "        vertical-align: middle;\n",
              "    }\n",
              "\n",
              "    .dataframe tbody tr th {\n",
              "        vertical-align: top;\n",
              "    }\n",
              "\n",
              "    .dataframe thead th {\n",
              "        text-align: right;\n",
              "    }\n",
              "</style>\n",
              "<table border=\"1\" class=\"dataframe\">\n",
              "  <thead>\n",
              "    <tr style=\"text-align: right;\">\n",
              "      <th></th>\n",
              "      <th>gender</th>\n",
              "      <th>age</th>\n",
              "      <th>admission_type_id</th>\n",
              "      <th>discharge_disposition_id</th>\n",
              "      <th>admission_source_id</th>\n",
              "      <th>time_in_hospital</th>\n",
              "      <th>num_lab_procedures</th>\n",
              "      <th>num_procedures</th>\n",
              "      <th>num_medications</th>\n",
              "      <th>number_outpatient</th>\n",
              "      <th>...</th>\n",
              "      <th>A1Cresult</th>\n",
              "      <th>change</th>\n",
              "      <th>readmitted</th>\n",
              "      <th>treatment</th>\n",
              "      <th>race_AfricanAmerican</th>\n",
              "      <th>race_Asian</th>\n",
              "      <th>race_Caucasian</th>\n",
              "      <th>race_Hispanic</th>\n",
              "      <th>race_Other</th>\n",
              "      <th>diabetesMed_Yes</th>\n",
              "    </tr>\n",
              "  </thead>\n",
              "  <tbody>\n",
              "    <tr>\n",
              "      <td>0</td>\n",
              "      <td>1</td>\n",
              "      <td>4</td>\n",
              "      <td>1</td>\n",
              "      <td>1</td>\n",
              "      <td>7</td>\n",
              "      <td>3</td>\n",
              "      <td>46</td>\n",
              "      <td>0</td>\n",
              "      <td>9</td>\n",
              "      <td>0</td>\n",
              "      <td>...</td>\n",
              "      <td>-99</td>\n",
              "      <td>1</td>\n",
              "      <td>0</td>\n",
              "      <td>0</td>\n",
              "      <td>1</td>\n",
              "      <td>0</td>\n",
              "      <td>0</td>\n",
              "      <td>0</td>\n",
              "      <td>0</td>\n",
              "      <td>1</td>\n",
              "    </tr>\n",
              "    <tr>\n",
              "      <td>1</td>\n",
              "      <td>1</td>\n",
              "      <td>6</td>\n",
              "      <td>2</td>\n",
              "      <td>1</td>\n",
              "      <td>4</td>\n",
              "      <td>2</td>\n",
              "      <td>31</td>\n",
              "      <td>3</td>\n",
              "      <td>12</td>\n",
              "      <td>0</td>\n",
              "      <td>...</td>\n",
              "      <td>-99</td>\n",
              "      <td>1</td>\n",
              "      <td>0</td>\n",
              "      <td>2</td>\n",
              "      <td>0</td>\n",
              "      <td>0</td>\n",
              "      <td>1</td>\n",
              "      <td>0</td>\n",
              "      <td>0</td>\n",
              "      <td>1</td>\n",
              "    </tr>\n",
              "    <tr>\n",
              "      <td>2</td>\n",
              "      <td>0</td>\n",
              "      <td>7</td>\n",
              "      <td>3</td>\n",
              "      <td>1</td>\n",
              "      <td>1</td>\n",
              "      <td>3</td>\n",
              "      <td>45</td>\n",
              "      <td>2</td>\n",
              "      <td>39</td>\n",
              "      <td>0</td>\n",
              "      <td>...</td>\n",
              "      <td>-99</td>\n",
              "      <td>1</td>\n",
              "      <td>0</td>\n",
              "      <td>2</td>\n",
              "      <td>0</td>\n",
              "      <td>0</td>\n",
              "      <td>1</td>\n",
              "      <td>0</td>\n",
              "      <td>0</td>\n",
              "      <td>1</td>\n",
              "    </tr>\n",
              "    <tr>\n",
              "      <td>3</td>\n",
              "      <td>1</td>\n",
              "      <td>7</td>\n",
              "      <td>1</td>\n",
              "      <td>1</td>\n",
              "      <td>7</td>\n",
              "      <td>1</td>\n",
              "      <td>2</td>\n",
              "      <td>0</td>\n",
              "      <td>11</td>\n",
              "      <td>0</td>\n",
              "      <td>...</td>\n",
              "      <td>-99</td>\n",
              "      <td>0</td>\n",
              "      <td>0</td>\n",
              "      <td>1</td>\n",
              "      <td>0</td>\n",
              "      <td>0</td>\n",
              "      <td>1</td>\n",
              "      <td>0</td>\n",
              "      <td>0</td>\n",
              "      <td>1</td>\n",
              "    </tr>\n",
              "    <tr>\n",
              "      <td>4</td>\n",
              "      <td>0</td>\n",
              "      <td>6</td>\n",
              "      <td>1</td>\n",
              "      <td>1</td>\n",
              "      <td>7</td>\n",
              "      <td>4</td>\n",
              "      <td>46</td>\n",
              "      <td>0</td>\n",
              "      <td>22</td>\n",
              "      <td>0</td>\n",
              "      <td>...</td>\n",
              "      <td>1</td>\n",
              "      <td>1</td>\n",
              "      <td>0</td>\n",
              "      <td>2</td>\n",
              "      <td>0</td>\n",
              "      <td>0</td>\n",
              "      <td>1</td>\n",
              "      <td>0</td>\n",
              "      <td>0</td>\n",
              "      <td>1</td>\n",
              "    </tr>\n",
              "  </tbody>\n",
              "</table>\n",
              "<p>5 rows × 24 columns</p>\n",
              "</div>"
            ],
            "text/plain": [
              "   gender  age  admission_type_id  discharge_disposition_id  \\\n",
              "0       1    4                  1                         1   \n",
              "1       1    6                  2                         1   \n",
              "2       0    7                  3                         1   \n",
              "3       1    7                  1                         1   \n",
              "4       0    6                  1                         1   \n",
              "\n",
              "   admission_source_id  time_in_hospital  num_lab_procedures  num_procedures  \\\n",
              "0                    7                 3                  46               0   \n",
              "1                    4                 2                  31               3   \n",
              "2                    1                 3                  45               2   \n",
              "3                    7                 1                   2               0   \n",
              "4                    7                 4                  46               0   \n",
              "\n",
              "   num_medications  number_outpatient  ...  A1Cresult  change  readmitted  \\\n",
              "0                9                  0  ...        -99       1           0   \n",
              "1               12                  0  ...        -99       1           0   \n",
              "2               39                  0  ...        -99       1           0   \n",
              "3               11                  0  ...        -99       0           0   \n",
              "4               22                  0  ...          1       1           0   \n",
              "\n",
              "   treatment  race_AfricanAmerican  race_Asian  race_Caucasian  race_Hispanic  \\\n",
              "0          0                     1           0               0              0   \n",
              "1          2                     0           0               1              0   \n",
              "2          2                     0           0               1              0   \n",
              "3          1                     0           0               1              0   \n",
              "4          2                     0           0               1              0   \n",
              "\n",
              "   race_Other  diabetesMed_Yes  \n",
              "0           0                1  \n",
              "1           0                1  \n",
              "2           0                1  \n",
              "3           0                1  \n",
              "4           0                1  \n",
              "\n",
              "[5 rows x 24 columns]"
            ]
          },
          "metadata": {
            "tags": []
          },
          "execution_count": 136
        }
      ]
    },
    {
      "cell_type": "code",
      "metadata": {
        "id": "Y1NJPTx7KIeb",
        "colab_type": "code",
        "outputId": "c9e5d319-0b85-43f3-af0f-9ff959391ac1",
        "colab": {}
      },
      "source": [
        "# Display the first 5 instances of testing set\n",
        "df_test.head()"
      ],
      "execution_count": 0,
      "outputs": [
        {
          "output_type": "execute_result",
          "data": {
            "text/html": [
              "<div>\n",
              "<style scoped>\n",
              "    .dataframe tbody tr th:only-of-type {\n",
              "        vertical-align: middle;\n",
              "    }\n",
              "\n",
              "    .dataframe tbody tr th {\n",
              "        vertical-align: top;\n",
              "    }\n",
              "\n",
              "    .dataframe thead th {\n",
              "        text-align: right;\n",
              "    }\n",
              "</style>\n",
              "<table border=\"1\" class=\"dataframe\">\n",
              "  <thead>\n",
              "    <tr style=\"text-align: right;\">\n",
              "      <th></th>\n",
              "      <th>gender</th>\n",
              "      <th>age</th>\n",
              "      <th>admission_type_id</th>\n",
              "      <th>discharge_disposition_id</th>\n",
              "      <th>admission_source_id</th>\n",
              "      <th>time_in_hospital</th>\n",
              "      <th>num_lab_procedures</th>\n",
              "      <th>num_procedures</th>\n",
              "      <th>num_medications</th>\n",
              "      <th>number_outpatient</th>\n",
              "      <th>...</th>\n",
              "      <th>A1Cresult</th>\n",
              "      <th>change</th>\n",
              "      <th>readmitted</th>\n",
              "      <th>treatment</th>\n",
              "      <th>race_AfricanAmerican</th>\n",
              "      <th>race_Asian</th>\n",
              "      <th>race_Caucasian</th>\n",
              "      <th>race_Hispanic</th>\n",
              "      <th>race_Other</th>\n",
              "      <th>diabetesMed_Yes</th>\n",
              "    </tr>\n",
              "  </thead>\n",
              "  <tbody>\n",
              "    <tr>\n",
              "      <td>0</td>\n",
              "      <td>1</td>\n",
              "      <td>8</td>\n",
              "      <td>1</td>\n",
              "      <td>6</td>\n",
              "      <td>7</td>\n",
              "      <td>5</td>\n",
              "      <td>33</td>\n",
              "      <td>2</td>\n",
              "      <td>15</td>\n",
              "      <td>4</td>\n",
              "      <td>...</td>\n",
              "      <td>-99</td>\n",
              "      <td>1</td>\n",
              "      <td>0</td>\n",
              "      <td>2</td>\n",
              "      <td>0</td>\n",
              "      <td>0</td>\n",
              "      <td>1</td>\n",
              "      <td>0</td>\n",
              "      <td>0</td>\n",
              "      <td>1</td>\n",
              "    </tr>\n",
              "    <tr>\n",
              "      <td>1</td>\n",
              "      <td>1</td>\n",
              "      <td>4</td>\n",
              "      <td>1</td>\n",
              "      <td>1</td>\n",
              "      <td>7</td>\n",
              "      <td>2</td>\n",
              "      <td>48</td>\n",
              "      <td>0</td>\n",
              "      <td>12</td>\n",
              "      <td>0</td>\n",
              "      <td>...</td>\n",
              "      <td>1</td>\n",
              "      <td>1</td>\n",
              "      <td>0</td>\n",
              "      <td>1</td>\n",
              "      <td>0</td>\n",
              "      <td>0</td>\n",
              "      <td>1</td>\n",
              "      <td>0</td>\n",
              "      <td>0</td>\n",
              "      <td>1</td>\n",
              "    </tr>\n",
              "    <tr>\n",
              "      <td>2</td>\n",
              "      <td>1</td>\n",
              "      <td>5</td>\n",
              "      <td>2</td>\n",
              "      <td>6</td>\n",
              "      <td>1</td>\n",
              "      <td>6</td>\n",
              "      <td>55</td>\n",
              "      <td>0</td>\n",
              "      <td>22</td>\n",
              "      <td>4</td>\n",
              "      <td>...</td>\n",
              "      <td>-99</td>\n",
              "      <td>0</td>\n",
              "      <td>0</td>\n",
              "      <td>1</td>\n",
              "      <td>1</td>\n",
              "      <td>0</td>\n",
              "      <td>0</td>\n",
              "      <td>0</td>\n",
              "      <td>0</td>\n",
              "      <td>1</td>\n",
              "    </tr>\n",
              "    <tr>\n",
              "      <td>3</td>\n",
              "      <td>1</td>\n",
              "      <td>8</td>\n",
              "      <td>1</td>\n",
              "      <td>1</td>\n",
              "      <td>7</td>\n",
              "      <td>2</td>\n",
              "      <td>62</td>\n",
              "      <td>1</td>\n",
              "      <td>13</td>\n",
              "      <td>2</td>\n",
              "      <td>...</td>\n",
              "      <td>-99</td>\n",
              "      <td>0</td>\n",
              "      <td>0</td>\n",
              "      <td>0</td>\n",
              "      <td>0</td>\n",
              "      <td>0</td>\n",
              "      <td>1</td>\n",
              "      <td>0</td>\n",
              "      <td>0</td>\n",
              "      <td>1</td>\n",
              "    </tr>\n",
              "    <tr>\n",
              "      <td>4</td>\n",
              "      <td>0</td>\n",
              "      <td>8</td>\n",
              "      <td>2</td>\n",
              "      <td>1</td>\n",
              "      <td>7</td>\n",
              "      <td>6</td>\n",
              "      <td>29</td>\n",
              "      <td>1</td>\n",
              "      <td>18</td>\n",
              "      <td>0</td>\n",
              "      <td>...</td>\n",
              "      <td>1</td>\n",
              "      <td>1</td>\n",
              "      <td>0</td>\n",
              "      <td>1</td>\n",
              "      <td>0</td>\n",
              "      <td>0</td>\n",
              "      <td>1</td>\n",
              "      <td>0</td>\n",
              "      <td>0</td>\n",
              "      <td>1</td>\n",
              "    </tr>\n",
              "  </tbody>\n",
              "</table>\n",
              "<p>5 rows × 24 columns</p>\n",
              "</div>"
            ],
            "text/plain": [
              "   gender  age  admission_type_id  discharge_disposition_id  \\\n",
              "0       1    8                  1                         6   \n",
              "1       1    4                  1                         1   \n",
              "2       1    5                  2                         6   \n",
              "3       1    8                  1                         1   \n",
              "4       0    8                  2                         1   \n",
              "\n",
              "   admission_source_id  time_in_hospital  num_lab_procedures  num_procedures  \\\n",
              "0                    7                 5                  33               2   \n",
              "1                    7                 2                  48               0   \n",
              "2                    1                 6                  55               0   \n",
              "3                    7                 2                  62               1   \n",
              "4                    7                 6                  29               1   \n",
              "\n",
              "   num_medications  number_outpatient  ...  A1Cresult  change  readmitted  \\\n",
              "0               15                  4  ...        -99       1           0   \n",
              "1               12                  0  ...          1       1           0   \n",
              "2               22                  4  ...        -99       0           0   \n",
              "3               13                  2  ...        -99       0           0   \n",
              "4               18                  0  ...          1       1           0   \n",
              "\n",
              "   treatment  race_AfricanAmerican  race_Asian  race_Caucasian  race_Hispanic  \\\n",
              "0          2                     0           0               1              0   \n",
              "1          1                     0           0               1              0   \n",
              "2          1                     1           0               0              0   \n",
              "3          0                     0           0               1              0   \n",
              "4          1                     0           0               1              0   \n",
              "\n",
              "   race_Other  diabetesMed_Yes  \n",
              "0           0                1  \n",
              "1           0                1  \n",
              "2           0                1  \n",
              "3           0                1  \n",
              "4           0                1  \n",
              "\n",
              "[5 rows x 24 columns]"
            ]
          },
          "metadata": {
            "tags": []
          },
          "execution_count": 137
        }
      ]
    },
    {
      "cell_type": "code",
      "metadata": {
        "id": "HuIEQow5KIee",
        "colab_type": "code",
        "outputId": "2903d73b-c3fd-45b8-e4cc-313f174070ed",
        "colab": {}
      },
      "source": [
        "# Display the first 5 instances of validation set\n",
        "df_valid.head()"
      ],
      "execution_count": 0,
      "outputs": [
        {
          "output_type": "execute_result",
          "data": {
            "text/html": [
              "<div>\n",
              "<style scoped>\n",
              "    .dataframe tbody tr th:only-of-type {\n",
              "        vertical-align: middle;\n",
              "    }\n",
              "\n",
              "    .dataframe tbody tr th {\n",
              "        vertical-align: top;\n",
              "    }\n",
              "\n",
              "    .dataframe thead th {\n",
              "        text-align: right;\n",
              "    }\n",
              "</style>\n",
              "<table border=\"1\" class=\"dataframe\">\n",
              "  <thead>\n",
              "    <tr style=\"text-align: right;\">\n",
              "      <th></th>\n",
              "      <th>gender</th>\n",
              "      <th>age</th>\n",
              "      <th>admission_type_id</th>\n",
              "      <th>discharge_disposition_id</th>\n",
              "      <th>admission_source_id</th>\n",
              "      <th>time_in_hospital</th>\n",
              "      <th>num_lab_procedures</th>\n",
              "      <th>num_procedures</th>\n",
              "      <th>num_medications</th>\n",
              "      <th>number_outpatient</th>\n",
              "      <th>...</th>\n",
              "      <th>A1Cresult</th>\n",
              "      <th>change</th>\n",
              "      <th>readmitted</th>\n",
              "      <th>treatment</th>\n",
              "      <th>race_AfricanAmerican</th>\n",
              "      <th>race_Asian</th>\n",
              "      <th>race_Caucasian</th>\n",
              "      <th>race_Hispanic</th>\n",
              "      <th>race_Other</th>\n",
              "      <th>diabetesMed_Yes</th>\n",
              "    </tr>\n",
              "  </thead>\n",
              "  <tbody>\n",
              "    <tr>\n",
              "      <td>0</td>\n",
              "      <td>0</td>\n",
              "      <td>7</td>\n",
              "      <td>1</td>\n",
              "      <td>1</td>\n",
              "      <td>7</td>\n",
              "      <td>3</td>\n",
              "      <td>30</td>\n",
              "      <td>0</td>\n",
              "      <td>10</td>\n",
              "      <td>0</td>\n",
              "      <td>...</td>\n",
              "      <td>-99</td>\n",
              "      <td>0</td>\n",
              "      <td>1</td>\n",
              "      <td>0</td>\n",
              "      <td>0</td>\n",
              "      <td>0</td>\n",
              "      <td>1</td>\n",
              "      <td>0</td>\n",
              "      <td>0</td>\n",
              "      <td>1</td>\n",
              "    </tr>\n",
              "    <tr>\n",
              "      <td>1</td>\n",
              "      <td>1</td>\n",
              "      <td>7</td>\n",
              "      <td>3</td>\n",
              "      <td>1</td>\n",
              "      <td>7</td>\n",
              "      <td>7</td>\n",
              "      <td>65</td>\n",
              "      <td>0</td>\n",
              "      <td>31</td>\n",
              "      <td>0</td>\n",
              "      <td>...</td>\n",
              "      <td>-99</td>\n",
              "      <td>1</td>\n",
              "      <td>0</td>\n",
              "      <td>2</td>\n",
              "      <td>1</td>\n",
              "      <td>0</td>\n",
              "      <td>0</td>\n",
              "      <td>0</td>\n",
              "      <td>0</td>\n",
              "      <td>1</td>\n",
              "    </tr>\n",
              "    <tr>\n",
              "      <td>2</td>\n",
              "      <td>0</td>\n",
              "      <td>5</td>\n",
              "      <td>6</td>\n",
              "      <td>1</td>\n",
              "      <td>17</td>\n",
              "      <td>1</td>\n",
              "      <td>35</td>\n",
              "      <td>5</td>\n",
              "      <td>16</td>\n",
              "      <td>0</td>\n",
              "      <td>...</td>\n",
              "      <td>-99</td>\n",
              "      <td>0</td>\n",
              "      <td>0</td>\n",
              "      <td>0</td>\n",
              "      <td>0</td>\n",
              "      <td>0</td>\n",
              "      <td>1</td>\n",
              "      <td>0</td>\n",
              "      <td>0</td>\n",
              "      <td>1</td>\n",
              "    </tr>\n",
              "    <tr>\n",
              "      <td>3</td>\n",
              "      <td>0</td>\n",
              "      <td>6</td>\n",
              "      <td>6</td>\n",
              "      <td>1</td>\n",
              "      <td>17</td>\n",
              "      <td>1</td>\n",
              "      <td>26</td>\n",
              "      <td>5</td>\n",
              "      <td>17</td>\n",
              "      <td>0</td>\n",
              "      <td>...</td>\n",
              "      <td>-99</td>\n",
              "      <td>0</td>\n",
              "      <td>0</td>\n",
              "      <td>0</td>\n",
              "      <td>0</td>\n",
              "      <td>0</td>\n",
              "      <td>1</td>\n",
              "      <td>0</td>\n",
              "      <td>0</td>\n",
              "      <td>1</td>\n",
              "    </tr>\n",
              "    <tr>\n",
              "      <td>4</td>\n",
              "      <td>1</td>\n",
              "      <td>6</td>\n",
              "      <td>2</td>\n",
              "      <td>6</td>\n",
              "      <td>4</td>\n",
              "      <td>6</td>\n",
              "      <td>74</td>\n",
              "      <td>3</td>\n",
              "      <td>26</td>\n",
              "      <td>0</td>\n",
              "      <td>...</td>\n",
              "      <td>-99</td>\n",
              "      <td>1</td>\n",
              "      <td>0</td>\n",
              "      <td>2</td>\n",
              "      <td>0</td>\n",
              "      <td>0</td>\n",
              "      <td>1</td>\n",
              "      <td>0</td>\n",
              "      <td>0</td>\n",
              "      <td>1</td>\n",
              "    </tr>\n",
              "  </tbody>\n",
              "</table>\n",
              "<p>5 rows × 24 columns</p>\n",
              "</div>"
            ],
            "text/plain": [
              "   gender  age  admission_type_id  discharge_disposition_id  \\\n",
              "0       0    7                  1                         1   \n",
              "1       1    7                  3                         1   \n",
              "2       0    5                  6                         1   \n",
              "3       0    6                  6                         1   \n",
              "4       1    6                  2                         6   \n",
              "\n",
              "   admission_source_id  time_in_hospital  num_lab_procedures  num_procedures  \\\n",
              "0                    7                 3                  30               0   \n",
              "1                    7                 7                  65               0   \n",
              "2                   17                 1                  35               5   \n",
              "3                   17                 1                  26               5   \n",
              "4                    4                 6                  74               3   \n",
              "\n",
              "   num_medications  number_outpatient  ...  A1Cresult  change  readmitted  \\\n",
              "0               10                  0  ...        -99       0           1   \n",
              "1               31                  0  ...        -99       1           0   \n",
              "2               16                  0  ...        -99       0           0   \n",
              "3               17                  0  ...        -99       0           0   \n",
              "4               26                  0  ...        -99       1           0   \n",
              "\n",
              "   treatment  race_AfricanAmerican  race_Asian  race_Caucasian  race_Hispanic  \\\n",
              "0          0                     0           0               1              0   \n",
              "1          2                     1           0               0              0   \n",
              "2          0                     0           0               1              0   \n",
              "3          0                     0           0               1              0   \n",
              "4          2                     0           0               1              0   \n",
              "\n",
              "   race_Other  diabetesMed_Yes  \n",
              "0           0                1  \n",
              "1           0                1  \n",
              "2           0                1  \n",
              "3           0                1  \n",
              "4           0                1  \n",
              "\n",
              "[5 rows x 24 columns]"
            ]
          },
          "metadata": {
            "tags": []
          },
          "execution_count": 138
        }
      ]
    },
    {
      "cell_type": "markdown",
      "metadata": {
        "id": "ZL9I9ZttKIef",
        "colab_type": "text"
      },
      "source": [
        "# Getting the Features"
      ]
    },
    {
      "cell_type": "code",
      "metadata": {
        "id": "yWvJogeTKIeh",
        "colab_type": "code",
        "colab": {}
      },
      "source": [
        "features = np.setdiff1d(df.columns, [target])"
      ],
      "execution_count": 0,
      "outputs": []
    },
    {
      "cell_type": "code",
      "metadata": {
        "id": "jqFLcKdOKIei",
        "colab_type": "code",
        "colab": {}
      },
      "source": [
        "# Get the feature matrix\n",
        "X_train = df_train[features].to_numpy()\n",
        "X_valid = df_valid[features].to_numpy()\n",
        "X_test = df_test[features].to_numpy()\n",
        "\n",
        "# Get the target vector\n",
        "y_train = df_train[target].astype(int).to_numpy()\n",
        "y_valid = df_valid[target].astype(int).to_numpy()"
      ],
      "execution_count": 0,
      "outputs": []
    },
    {
      "cell_type": "markdown",
      "metadata": {
        "id": "jC1SiUDTKIek",
        "colab_type": "text"
      },
      "source": [
        "# Scaling the Data"
      ]
    },
    {
      "cell_type": "code",
      "metadata": {
        "id": "9idCyvByKIek",
        "colab_type": "code",
        "colab": {}
      },
      "source": [
        "from sklearn.preprocessing import MinMaxScaler\n",
        "\n",
        "# The MinMaxScaler\n",
        "mms = MinMaxScaler()\n",
        "\n",
        "# Normalize the training data\n",
        "X_train = mms.fit_transform(X_train)\n",
        "\n",
        "# Normalize the validation data\n",
        "X_valid = mms.transform(X_valid)\n",
        "\n",
        "# Normalize the testing data\n",
        "X_test = mms.transform(X_test)"
      ],
      "execution_count": 0,
      "outputs": []
    },
    {
      "cell_type": "markdown",
      "metadata": {
        "id": "uuv8X6dhKIel",
        "colab_type": "text"
      },
      "source": [
        "# Hyperparameter Tuning and Model Selection"
      ]
    },
    {
      "cell_type": "code",
      "metadata": {
        "id": "aiUcxSJvKIem",
        "colab_type": "code",
        "colab": {}
      },
      "source": [
        "# Import the models from sklearn\n",
        "from sklearn.linear_model import LogisticRegression\n",
        "from sklearn.tree import DecisionTreeClassifier\n",
        "from sklearn.ensemble import RandomForestClassifier\n",
        "from sklearn.experimental import enable_hist_gradient_boosting\n",
        "from sklearn.ensemble import HistGradientBoostingClassifier\n",
        "from xgboost.sklearn import XGBClassifier\n",
        "\n",
        "models = {'lr': LogisticRegression(class_weight='balanced', random_state=42),\n",
        "          'dtc': DecisionTreeClassifier(class_weight='balanced', random_state=42),\n",
        "          'rfc': RandomForestClassifier(class_weight='balanced', random_state=42),\n",
        "          'hgbc': HistGradientBoostingClassifier(random_state=42),\n",
        "          'xgbc': XGBClassifier(seed=42)}"
      ],
      "execution_count": 0,
      "outputs": []
    },
    {
      "cell_type": "code",
      "metadata": {
        "id": "ywciM4UsKIeo",
        "colab_type": "code",
        "colab": {}
      },
      "source": [
        "# Create a pipeline to run the models\n",
        "from sklearn.pipeline import Pipeline\n",
        "\n",
        "pipes = {}\n",
        "\n",
        "for acronym, model in models.items():\n",
        "    pipes[acronym] = Pipeline([('model', model)])"
      ],
      "execution_count": 0,
      "outputs": []
    },
    {
      "cell_type": "code",
      "metadata": {
        "id": "PPMdOqOrKIeq",
        "colab_type": "code",
        "colab": {}
      },
      "source": [
        "from sklearn.model_selection import PredefinedSplit\n",
        "\n",
        "# Combine the feature matrix in the training and validation data\n",
        "X_train_valid = np.vstack((X_train, X_valid))\n",
        "\n",
        "# Combine the target vector in the training and validation data\n",
        "y_train_valid = np.append(y_train, y_valid)\n",
        "\n",
        "# Get the indices of training and validation data\n",
        "train_valid_idxs = np.append(np.full(X_train.shape[0], -1), np.full(X_valid.shape[0], 0))\n",
        "\n",
        "# The PredefinedSplit\n",
        "ps = PredefinedSplit(train_valid_idxs)"
      ],
      "execution_count": 0,
      "outputs": []
    },
    {
      "cell_type": "code",
      "metadata": {
        "id": "KF_vNFAHKIer",
        "colab_type": "code",
        "colab": {}
      },
      "source": [
        "# Create a dictionary for the paramenter grids\n",
        "param_grids = {}"
      ],
      "execution_count": 0,
      "outputs": []
    },
    {
      "cell_type": "markdown",
      "metadata": {
        "id": "pE5u-Fj9KIet",
        "colab_type": "text"
      },
      "source": [
        "##### Linear Regression"
      ]
    },
    {
      "cell_type": "code",
      "metadata": {
        "id": "6ryWAqq6KIet",
        "colab_type": "code",
        "colab": {}
      },
      "source": [
        "# The grids for C\n",
        "C_grids = [10 ** i for i in range(-2, 3)]\n",
        "\n",
        "# The grids for tol\n",
        "tol_grids = [10 ** i for i in range(-6, -1)]\n",
        "\n",
        "# Update param_grids\n",
        "param_grids['lr'] = [{'model__C': C_grids,\n",
        "                      'model__tol': tol_grids}]"
      ],
      "execution_count": 0,
      "outputs": []
    },
    {
      "cell_type": "markdown",
      "metadata": {
        "id": "sgzuSSsdKIeu",
        "colab_type": "text"
      },
      "source": [
        "##### Decision Tree Classifier"
      ]
    },
    {
      "cell_type": "code",
      "metadata": {
        "id": "u-vHcDhqKIeu",
        "colab_type": "code",
        "colab": {}
      },
      "source": [
        "# The grids for min_samples_split\n",
        "min_samples_split_grids = [2, 20, 100]\n",
        "\n",
        "# The grids for min_samples_leaf\n",
        "min_samples_leaf_grids = [1, 20, 100]\n",
        "\n",
        "# Update param_grids\n",
        "param_grids['dtc'] = [{'model__min_samples_split': min_samples_split_grids,\n",
        "                       'model__min_samples_leaf': min_samples_leaf_grids}]"
      ],
      "execution_count": 0,
      "outputs": []
    },
    {
      "cell_type": "markdown",
      "metadata": {
        "id": "SKByTA50KIev",
        "colab_type": "text"
      },
      "source": [
        "##### Random Forest Classifier"
      ]
    },
    {
      "cell_type": "code",
      "metadata": {
        "id": "b9gnLx10KIev",
        "colab_type": "code",
        "colab": {}
      },
      "source": [
        "# The grids for min_samples_split\n",
        "min_samples_split_grids = [2, 20, 100]\n",
        "\n",
        "# The grids for min_samples_leaf\n",
        "min_samples_leaf_grids = [1, 20, 100]\n",
        "\n",
        "# Update param_grids\n",
        "param_grids['rfc'] = [{'model__min_samples_split': min_samples_split_grids,\n",
        "                       'model__min_samples_leaf': min_samples_leaf_grids}]"
      ],
      "execution_count": 0,
      "outputs": []
    },
    {
      "cell_type": "markdown",
      "metadata": {
        "id": "85Gd_vZVKIex",
        "colab_type": "text"
      },
      "source": [
        "##### Histogram Gradient-Boost Classifier"
      ]
    },
    {
      "cell_type": "code",
      "metadata": {
        "id": "M6ZAu4k6KIex",
        "colab_type": "code",
        "colab": {}
      },
      "source": [
        "# The grids for learning_rate\n",
        "learning_rate_grids = [10 ** i for i in range(-3, 2)]\n",
        "\n",
        "# The grids for min_samples_leaf\n",
        "min_samples_leaf_grids = [1, 20, 100]\n",
        "\n",
        "# Update param_grids\n",
        "param_grids['hgbc'] = [{'model__learning_rate': learning_rate_grids,\n",
        "                        'model__min_samples_leaf': min_samples_leaf_grids}]"
      ],
      "execution_count": 0,
      "outputs": []
    },
    {
      "cell_type": "markdown",
      "metadata": {
        "id": "hm3RM9JBKIey",
        "colab_type": "text"
      },
      "source": [
        "##### XgBoost Classifier"
      ]
    },
    {
      "cell_type": "code",
      "metadata": {
        "id": "Nxh2gxctKIez",
        "colab_type": "code",
        "colab": {}
      },
      "source": [
        "# The grids for eta\n",
        "eta_grids = [10 ** i for i in range(-4, 1)]\n",
        "\n",
        "# The grids for gamma\n",
        "gamma_grids = [0, 10, 100]\n",
        "\n",
        "# The grids for lambda\n",
        "lambda_grids = [10 ** i for i in range(-4, 5)]\n",
        "\n",
        "# Update param_grids\n",
        "param_grids['xgbc'] = [{'model__eta': eta_grids,\n",
        "                        'model__gamma': gamma_grids,\n",
        "                        'model__lambda': lambda_grids}]"
      ],
      "execution_count": 0,
      "outputs": []
    },
    {
      "cell_type": "markdown",
      "metadata": {
        "id": "rIgBGRNvKIe0",
        "colab_type": "text"
      },
      "source": [
        "## Hyperparameter Tuning"
      ]
    },
    {
      "cell_type": "code",
      "metadata": {
        "id": "a2HstOceKIe0",
        "colab_type": "code",
        "colab": {}
      },
      "source": [
        "import os\n",
        "\n",
        "# Make directory\n",
        "directory = os.path.dirname('./cv_results/')\n",
        "if not os.path.exists(directory):\n",
        "    os.makedirs(directory)"
      ],
      "execution_count": 0,
      "outputs": []
    },
    {
      "cell_type": "code",
      "metadata": {
        "id": "07b64vSuKIe1",
        "colab_type": "code",
        "colab": {}
      },
      "source": [
        "from sklearn.model_selection import GridSearchCV\n",
        "\n",
        "# The list of [best_score_, best_params_, best_estimator_] obtained by GridSearchCV\n",
        "best_score_param_estimator_gs = []\n",
        "\n",
        "for acronym in pipes.keys():\n",
        "    # GridSearchCV\n",
        "    gs = GridSearchCV(estimator=pipes[acronym],\n",
        "                      param_grid=param_grids[acronym],\n",
        "                      scoring='f1_micro',\n",
        "                      n_jobs=2,\n",
        "                      cv=ps,\n",
        "                      return_train_score=True)\n",
        "        \n",
        "    # Fit the pipeline\n",
        "    gs = gs.fit(X_train_valid, y_train_valid)\n",
        "    \n",
        "    # Update best_score_param_estimator_gs\n",
        "    best_score_param_estimator_gs.append([gs.best_score_, gs.best_params_, gs.best_estimator_])\n",
        "    \n",
        "    # Sort cv_results in ascending order of 'rank_test_score' and 'std_test_score'\n",
        "    cv_results = pd.DataFrame.from_dict(gs.cv_results_).sort_values(by=['rank_test_score', 'std_test_score'])\n",
        "    \n",
        "    # Get the important columns in cv_results\n",
        "    important_columns = ['rank_test_score',\n",
        "                         'mean_test_score', \n",
        "                         'std_test_score', \n",
        "                         'mean_train_score', \n",
        "                         'std_train_score',\n",
        "                         'mean_fit_time', \n",
        "                         'std_fit_time',                        \n",
        "                         'mean_score_time', \n",
        "                         'std_score_time']\n",
        "    \n",
        "    # Move the important columns ahead\n",
        "    cv_results = cv_results[important_columns + sorted(list(set(cv_results.columns) - set(important_columns)))]\n",
        "\n",
        "    # Write cv_results file\n",
        "    cv_results.to_csv(path_or_buf='./cv_results/' + acronym + '.csv', index=False)"
      ],
      "execution_count": 0,
      "outputs": []
    },
    {
      "cell_type": "markdown",
      "metadata": {
        "id": "jBlTYvfgKIe4",
        "colab_type": "text"
      },
      "source": [
        "## Model Selection"
      ]
    },
    {
      "cell_type": "code",
      "metadata": {
        "id": "eH90bq8aKIe4",
        "colab_type": "code",
        "outputId": "78e60969-ec3b-4128-ac3b-c024d40263c2",
        "colab": {
          "base_uri": "https://localhost:8080/",
          "height": 195
        }
      },
      "source": [
        "# Sort best_score_param_estimator_gs in descending order of the best_score_\n",
        "best_score_param_estimator_gs = sorted(best_score_param_estimator_gs, key=lambda x : x[0], reverse=True)\n",
        "\n",
        "# Print best_score_param_estimator_gs\n",
        "pd.DataFrame(best_score_param_estimator_gs, columns=['best_score', 'best_param', 'best_estimator'])"
      ],
      "execution_count": 63,
      "outputs": [
        {
          "output_type": "execute_result",
          "data": {
            "text/html": [
              "<div>\n",
              "<style scoped>\n",
              "    .dataframe tbody tr th:only-of-type {\n",
              "        vertical-align: middle;\n",
              "    }\n",
              "\n",
              "    .dataframe tbody tr th {\n",
              "        vertical-align: top;\n",
              "    }\n",
              "\n",
              "    .dataframe thead th {\n",
              "        text-align: right;\n",
              "    }\n",
              "</style>\n",
              "<table border=\"1\" class=\"dataframe\">\n",
              "  <thead>\n",
              "    <tr style=\"text-align: right;\">\n",
              "      <th></th>\n",
              "      <th>best_score</th>\n",
              "      <th>best_param</th>\n",
              "      <th>best_estimator</th>\n",
              "    </tr>\n",
              "  </thead>\n",
              "  <tbody>\n",
              "    <tr>\n",
              "      <th>0</th>\n",
              "      <td>0.883953</td>\n",
              "      <td>{'model__learning_rate': 0.1, 'model__min_samp...</td>\n",
              "      <td>(HistGradientBoostingClassifier(l2_regularizat...</td>\n",
              "    </tr>\n",
              "    <tr>\n",
              "      <th>1</th>\n",
              "      <td>0.883714</td>\n",
              "      <td>{'model__eta': 0.0001, 'model__gamma': 0, 'mod...</td>\n",
              "      <td>(XGBClassifier(base_score=0.5, booster='gbtree...</td>\n",
              "    </tr>\n",
              "    <tr>\n",
              "      <th>2</th>\n",
              "      <td>0.883474</td>\n",
              "      <td>{'model__min_samples_leaf': 1, 'model__min_sam...</td>\n",
              "      <td>((DecisionTreeClassifier(ccp_alpha=0.0, class_...</td>\n",
              "    </tr>\n",
              "    <tr>\n",
              "      <th>3</th>\n",
              "      <td>0.796060</td>\n",
              "      <td>{'model__min_samples_leaf': 1, 'model__min_sam...</td>\n",
              "      <td>(DecisionTreeClassifier(ccp_alpha=0.0, class_w...</td>\n",
              "    </tr>\n",
              "    <tr>\n",
              "      <th>4</th>\n",
              "      <td>0.677700</td>\n",
              "      <td>{'model__C': 100, 'model__tol': 1e-06}</td>\n",
              "      <td>(LogisticRegression(C=100, class_weight='balan...</td>\n",
              "    </tr>\n",
              "  </tbody>\n",
              "</table>\n",
              "</div>"
            ],
            "text/plain": [
              "   best_score  ...                                     best_estimator\n",
              "0    0.883953  ...  (HistGradientBoostingClassifier(l2_regularizat...\n",
              "1    0.883714  ...  (XGBClassifier(base_score=0.5, booster='gbtree...\n",
              "2    0.883474  ...  ((DecisionTreeClassifier(ccp_alpha=0.0, class_...\n",
              "3    0.796060  ...  (DecisionTreeClassifier(ccp_alpha=0.0, class_w...\n",
              "4    0.677700  ...  (LogisticRegression(C=100, class_weight='balan...\n",
              "\n",
              "[5 rows x 3 columns]"
            ]
          },
          "metadata": {
            "tags": []
          },
          "execution_count": 63
        }
      ]
    },
    {
      "cell_type": "code",
      "metadata": {
        "id": "cizSKi-Pqp-Z",
        "colab_type": "code",
        "colab": {
          "base_uri": "https://localhost:8080/",
          "height": 1000
        },
        "outputId": "346b87a0-a734-4346-c316-e6b942ae0410"
      },
      "source": [
        "best_score_param_estimator_gs"
      ],
      "execution_count": 81,
      "outputs": [
        {
          "output_type": "execute_result",
          "data": {
            "text/plain": [
              "[[0.8839527835380443,\n",
              "  {'model__learning_rate': 0.1, 'model__min_samples_leaf': 20},\n",
              "  Pipeline(memory=None,\n",
              "           steps=[('model',\n",
              "                   HistGradientBoostingClassifier(l2_regularization=0.0,\n",
              "                                                  learning_rate=0.1, loss='auto',\n",
              "                                                  max_bins=255, max_depth=None,\n",
              "                                                  max_iter=100, max_leaf_nodes=31,\n",
              "                                                  min_samples_leaf=20,\n",
              "                                                  n_iter_no_change=None,\n",
              "                                                  random_state=42, scoring=None,\n",
              "                                                  tol=1e-07,\n",
              "                                                  validation_fraction=0.1,\n",
              "                                                  verbose=0, warm_start=False))],\n",
              "           verbose=False)],\n",
              " [0.8837135109267826,\n",
              "  {'model__eta': 0.0001, 'model__gamma': 0, 'model__lambda': 0.0001},\n",
              "  Pipeline(memory=None,\n",
              "           steps=[('model',\n",
              "                   XGBClassifier(base_score=0.5, booster='gbtree',\n",
              "                                 colsample_bylevel=1, colsample_bynode=1,\n",
              "                                 colsample_bytree=1, eta=0.0001, gamma=0,\n",
              "                                 lambda=0.0001, learning_rate=0.1,\n",
              "                                 max_delta_step=0, max_depth=3,\n",
              "                                 min_child_weight=1, missing=None,\n",
              "                                 n_estimators=100, n_jobs=1, nthread=None,\n",
              "                                 objective='binary:logistic', random_state=0,\n",
              "                                 reg_alpha=0, reg_lambda=1, scale_pos_weight=1,\n",
              "                                 seed=42, silent=None, subsample=1,\n",
              "                                 verbosity=1))],\n",
              "           verbose=False)],\n",
              " [0.8834742383155209,\n",
              "  {'model__min_samples_leaf': 1, 'model__min_samples_split': 2},\n",
              "  Pipeline(memory=None,\n",
              "           steps=[('model',\n",
              "                   RandomForestClassifier(bootstrap=True, ccp_alpha=0.0,\n",
              "                                          class_weight='balanced',\n",
              "                                          criterion='gini', max_depth=None,\n",
              "                                          max_features='auto',\n",
              "                                          max_leaf_nodes=None, max_samples=None,\n",
              "                                          min_impurity_decrease=0.0,\n",
              "                                          min_impurity_split=None,\n",
              "                                          min_samples_leaf=1, min_samples_split=2,\n",
              "                                          min_weight_fraction_leaf=0.0,\n",
              "                                          n_estimators=100, n_jobs=None,\n",
              "                                          oob_score=False, random_state=42,\n",
              "                                          verbose=0, warm_start=False))],\n",
              "           verbose=False)],\n",
              " [0.7960599776678896,\n",
              "  {'model__min_samples_leaf': 1, 'model__min_samples_split': 2},\n",
              "  Pipeline(memory=None,\n",
              "           steps=[('model',\n",
              "                   DecisionTreeClassifier(ccp_alpha=0.0, class_weight='balanced',\n",
              "                                          criterion='gini', max_depth=None,\n",
              "                                          max_features=None, max_leaf_nodes=None,\n",
              "                                          min_impurity_decrease=0.0,\n",
              "                                          min_impurity_split=None,\n",
              "                                          min_samples_leaf=1, min_samples_split=2,\n",
              "                                          min_weight_fraction_leaf=0.0,\n",
              "                                          presort='deprecated', random_state=42,\n",
              "                                          splitter='best'))],\n",
              "           verbose=False)],\n",
              " [0.6776997926304036,\n",
              "  {'model__C': 100, 'model__tol': 1e-06},\n",
              "  Pipeline(memory=None,\n",
              "           steps=[('model',\n",
              "                   LogisticRegression(C=100, class_weight='balanced', dual=False,\n",
              "                                      fit_intercept=True, intercept_scaling=1,\n",
              "                                      l1_ratio=None, max_iter=100,\n",
              "                                      multi_class='auto', n_jobs=None,\n",
              "                                      penalty='l2', random_state=42,\n",
              "                                      solver='lbfgs', tol=1e-06, verbose=0,\n",
              "                                      warm_start=False))],\n",
              "           verbose=False)]]"
            ]
          },
          "metadata": {
            "tags": []
          },
          "execution_count": 81
        }
      ]
    },
    {
      "cell_type": "code",
      "metadata": {
        "id": "55kzzx_wKIe6",
        "colab_type": "code",
        "colab": {}
      },
      "source": [
        "import os\n",
        "\n",
        "# Make directory\n",
        "directory = os.path.dirname('./figure/')\n",
        "if not os.path.exists(directory):\n",
        "    os.makedirs(directory)"
      ],
      "execution_count": 0,
      "outputs": []
    },
    {
      "cell_type": "markdown",
      "metadata": {
        "id": "sjSrNtT4oOSw",
        "colab_type": "text"
      },
      "source": [
        "### Get the feature imprtance by random forest."
      ]
    },
    {
      "cell_type": "code",
      "metadata": {
        "id": "3RTaWyXZKIe7",
        "colab_type": "code",
        "outputId": "12257b1b-7a41-4cb9-9082-ec5567e589ca",
        "colab": {
          "base_uri": "https://localhost:8080/",
          "height": 728
        }
      },
      "source": [
        "# Get the best_score, best_param and best_estimator of random forest obtained by GridSearchCV\n",
        "best_score_rfc, best_param_rfc, best_estimator_rfc = best_score_param_estimator_gs[2]\n",
        "\n",
        "# Get the dataframe of feature and importance\n",
        "df_fi_rfc = pd.DataFrame(np.hstack((features.reshape(-1, 1), best_estimator_rfc.named_steps['model'].feature_importances_.reshape(-1, 1))),\n",
        "                         columns=['Features', 'Importance'])\n",
        "\n",
        "# Sort df_fi in descending order of the importance\n",
        "df_fi_rfc = df_fi_rfc.sort_values(ascending=False, by='Importance').reset_index(drop=True)\n",
        "\n",
        "# Print df_fi_rfc\n",
        "df_fi_rfc"
      ],
      "execution_count": 67,
      "outputs": [
        {
          "output_type": "execute_result",
          "data": {
            "text/html": [
              "<div>\n",
              "<style scoped>\n",
              "    .dataframe tbody tr th:only-of-type {\n",
              "        vertical-align: middle;\n",
              "    }\n",
              "\n",
              "    .dataframe tbody tr th {\n",
              "        vertical-align: top;\n",
              "    }\n",
              "\n",
              "    .dataframe thead th {\n",
              "        text-align: right;\n",
              "    }\n",
              "</style>\n",
              "<table border=\"1\" class=\"dataframe\">\n",
              "  <thead>\n",
              "    <tr style=\"text-align: right;\">\n",
              "      <th></th>\n",
              "      <th>Features</th>\n",
              "      <th>Importance</th>\n",
              "    </tr>\n",
              "  </thead>\n",
              "  <tbody>\n",
              "    <tr>\n",
              "      <th>0</th>\n",
              "      <td>num_lab_procedures</td>\n",
              "      <td>0.163717</td>\n",
              "    </tr>\n",
              "    <tr>\n",
              "      <th>1</th>\n",
              "      <td>num_medications</td>\n",
              "      <td>0.136909</td>\n",
              "    </tr>\n",
              "    <tr>\n",
              "      <th>2</th>\n",
              "      <td>time_in_hospital</td>\n",
              "      <td>0.0925301</td>\n",
              "    </tr>\n",
              "    <tr>\n",
              "      <th>3</th>\n",
              "      <td>age</td>\n",
              "      <td>0.0772934</td>\n",
              "    </tr>\n",
              "    <tr>\n",
              "      <th>4</th>\n",
              "      <td>num_procedures</td>\n",
              "      <td>0.0649712</td>\n",
              "    </tr>\n",
              "    <tr>\n",
              "      <th>5</th>\n",
              "      <td>number_diagnoses</td>\n",
              "      <td>0.0608618</td>\n",
              "    </tr>\n",
              "    <tr>\n",
              "      <th>6</th>\n",
              "      <td>number_inpatient</td>\n",
              "      <td>0.0598424</td>\n",
              "    </tr>\n",
              "    <tr>\n",
              "      <th>7</th>\n",
              "      <td>discharge_disposition_id</td>\n",
              "      <td>0.0598382</td>\n",
              "    </tr>\n",
              "    <tr>\n",
              "      <th>8</th>\n",
              "      <td>admission_type_id</td>\n",
              "      <td>0.0425662</td>\n",
              "    </tr>\n",
              "    <tr>\n",
              "      <th>9</th>\n",
              "      <td>treatment</td>\n",
              "      <td>0.0364874</td>\n",
              "    </tr>\n",
              "    <tr>\n",
              "      <th>10</th>\n",
              "      <td>admission_source_id</td>\n",
              "      <td>0.0350182</td>\n",
              "    </tr>\n",
              "    <tr>\n",
              "      <th>11</th>\n",
              "      <td>number_outpatient</td>\n",
              "      <td>0.0301986</td>\n",
              "    </tr>\n",
              "    <tr>\n",
              "      <th>12</th>\n",
              "      <td>gender</td>\n",
              "      <td>0.0285192</td>\n",
              "    </tr>\n",
              "    <tr>\n",
              "      <th>13</th>\n",
              "      <td>change</td>\n",
              "      <td>0.0239109</td>\n",
              "    </tr>\n",
              "    <tr>\n",
              "      <th>14</th>\n",
              "      <td>number_emergency</td>\n",
              "      <td>0.0229122</td>\n",
              "    </tr>\n",
              "    <tr>\n",
              "      <th>15</th>\n",
              "      <td>A1Cresult</td>\n",
              "      <td>0.0206773</td>\n",
              "    </tr>\n",
              "    <tr>\n",
              "      <th>16</th>\n",
              "      <td>race_Caucasian</td>\n",
              "      <td>0.0143534</td>\n",
              "    </tr>\n",
              "    <tr>\n",
              "      <th>17</th>\n",
              "      <td>race_AfricanAmerican</td>\n",
              "      <td>0.0134628</td>\n",
              "    </tr>\n",
              "    <tr>\n",
              "      <th>18</th>\n",
              "      <td>max_glu_serum</td>\n",
              "      <td>0.00723345</td>\n",
              "    </tr>\n",
              "    <tr>\n",
              "      <th>19</th>\n",
              "      <td>race_Hispanic</td>\n",
              "      <td>0.00374206</td>\n",
              "    </tr>\n",
              "    <tr>\n",
              "      <th>20</th>\n",
              "      <td>race_Other</td>\n",
              "      <td>0.00332391</td>\n",
              "    </tr>\n",
              "    <tr>\n",
              "      <th>21</th>\n",
              "      <td>race_Asian</td>\n",
              "      <td>0.00163134</td>\n",
              "    </tr>\n",
              "    <tr>\n",
              "      <th>22</th>\n",
              "      <td>diabetesMed_Yes</td>\n",
              "      <td>0</td>\n",
              "    </tr>\n",
              "  </tbody>\n",
              "</table>\n",
              "</div>"
            ],
            "text/plain": [
              "                    Features  Importance\n",
              "0         num_lab_procedures    0.163717\n",
              "1            num_medications    0.136909\n",
              "2           time_in_hospital   0.0925301\n",
              "3                        age   0.0772934\n",
              "4             num_procedures   0.0649712\n",
              "5           number_diagnoses   0.0608618\n",
              "6           number_inpatient   0.0598424\n",
              "7   discharge_disposition_id   0.0598382\n",
              "8          admission_type_id   0.0425662\n",
              "9                  treatment   0.0364874\n",
              "10       admission_source_id   0.0350182\n",
              "11         number_outpatient   0.0301986\n",
              "12                    gender   0.0285192\n",
              "13                    change   0.0239109\n",
              "14          number_emergency   0.0229122\n",
              "15                 A1Cresult   0.0206773\n",
              "16            race_Caucasian   0.0143534\n",
              "17      race_AfricanAmerican   0.0134628\n",
              "18             max_glu_serum  0.00723345\n",
              "19             race_Hispanic  0.00374206\n",
              "20                race_Other  0.00332391\n",
              "21                race_Asian  0.00163134\n",
              "22           diabetesMed_Yes           0"
            ]
          },
          "metadata": {
            "tags": []
          },
          "execution_count": 67
        }
      ]
    },
    {
      "cell_type": "code",
      "metadata": {
        "id": "3EfAfgL2KIe8",
        "colab_type": "code",
        "outputId": "690e9c88-0b9f-4512-bcc3-a2debe3dd99b",
        "colab": {
          "base_uri": "https://localhost:8080/",
          "height": 492
        }
      },
      "source": [
        "import matplotlib.pyplot as plt\n",
        "%matplotlib inline \n",
        "\n",
        "# Set matplotlib sizes\n",
        "plt.rc('font', size=20)\n",
        "plt.rc('axes', titlesize=20)\n",
        "plt.rc('axes', labelsize=20)\n",
        "plt.rc('xtick', labelsize=20)\n",
        "plt.rc('ytick', labelsize=20)\n",
        "plt.rc('legend', fontsize=20)\n",
        "plt.rc('figure', titlesize=20)\n",
        "\n",
        "# Create a figure\n",
        "fig = plt.figure(figsize=(10, 7))\n",
        "\n",
        "# The bar plot of feature importance\n",
        "plt.bar(df_fi_rfc['Features'], df_fi_rfc['Importance'], color='green')\n",
        "\n",
        "# Set x-axis\n",
        "plt.xlabel('Features')\n",
        "plt.xticks(rotation=90)\n",
        "\n",
        "# Set y-axis\n",
        "plt.ylabel('Importance')\n",
        "\n",
        "# Save and show the figure\n",
        "plt.tight_layout()\n",
        "plt.savefig('./figure/feature_importance.pdf')\n",
        "plt.show()"
      ],
      "execution_count": 69,
      "outputs": [
        {
          "output_type": "display_data",
          "data": {
            "image/png": "[encoded data removed]",
            "text/plain": [
              "<Figure size 720x504 with 1 Axes>"
            ]
          },
          "metadata": {
            "tags": [],
            "needs_background": "light"
          }
        }
      ]
    },
    {
      "cell_type": "markdown",
      "metadata": {
        "id": "p1RY9lvdkCS_",
        "colab_type": "text"
      },
      "source": [
        "## Deep Neural Network"
      ]
    },
    {
      "cell_type": "markdown",
      "metadata": {
        "id": "9OZMIlzRkPWb",
        "colab_type": "text"
      },
      "source": [
        "### Create the directory of the saved models"
      ]
    },
    {
      "cell_type": "code",
      "metadata": {
        "id": "gs_heW0qkNHI",
        "colab_type": "code",
        "colab": {}
      },
      "source": [
        "# Make directory\n",
        "import os\n",
        "directory = 'model'\n",
        "path = os.path.join(abspath, directory)\n",
        "if not os.path.exists(path):\n",
        "    os.makedirs(path)"
      ],
      "execution_count": 0,
      "outputs": []
    },
    {
      "cell_type": "markdown",
      "metadata": {
        "id": "Cg-yxx72keI5",
        "colab_type": "text"
      },
      "source": [
        "### Designing the model"
      ]
    },
    {
      "cell_type": "code",
      "metadata": {
        "id": "dG3EJghakafR",
        "colab_type": "code",
        "colab": {}
      },
      "source": [
        "#%tensorflow_version 2.x \n",
        "import tensorflow as tf\n",
        "from tensorflow import keras"
      ],
      "execution_count": 0,
      "outputs": []
    },
    {
      "cell_type": "code",
      "metadata": {
        "id": "c9l8PvoIkdoo",
        "colab_type": "code",
        "colab": {}
      },
      "source": [
        "# The random seed\n",
        "random_seed = 42\n",
        "\n",
        "# Set random seed in tensorflow\n",
        "tf.random.set_seed(random_seed)\n",
        "\n",
        "# Set random seed in numpy\n",
        "import numpy as np\n",
        "np.random.seed(random_seed)"
      ],
      "execution_count": 0,
      "outputs": []
    },
    {
      "cell_type": "code",
      "metadata": {
        "id": "-ghUOrqokpQY",
        "colab_type": "code",
        "colab": {
          "base_uri": "https://localhost:8080/",
          "height": 286
        },
        "outputId": "3ef80f10-a75b-4e0d-f063-1849ea1b923c"
      },
      "source": [
        "# Add layers\n",
        "# A sequential dnn\n",
        "model = keras.models.Sequential()\n",
        "\n",
        "# Add the input layer\n",
        "model.add(keras.layers.Flatten(input_shape = [X_train.shape[1]]))\n",
        "\n",
        "# Add three hidden layers\n",
        "model.add(keras.layers.Dense(50, activation=\"relu\"))\n",
        "model.add(keras.layers.Dense(50, activation=\"relu\"))\n",
        "model.add(keras.layers.Dense(50, activation=\"relu\"))\n",
        "\n",
        "# Add the output layer\n",
        "model.add(keras.layers.Dense(1, activation=\"sigmoid\"))\n",
        "\n",
        "# The model summary\n",
        "model.summary()"
      ],
      "execution_count": 101,
      "outputs": [
        {
          "output_type": "stream",
          "text": [
            "Model: \"sequential_3\"\n",
            "_________________________________________________________________\n",
            "Layer (type)                 Output Shape              Param #   \n",
            "=================================================================\n",
            "flatten_3 (Flatten)          (None, 23)                0         \n",
            "_________________________________________________________________\n",
            "dense_15 (Dense)             (None, 50)                1200      \n",
            "_________________________________________________________________\n",
            "dense_16 (Dense)             (None, 50)                2550      \n",
            "_________________________________________________________________\n",
            "dense_17 (Dense)             (None, 1)                 51        \n",
            "=================================================================\n",
            "Total params: 3,801\n",
            "Trainable params: 3,801\n",
            "Non-trainable params: 0\n",
            "_________________________________________________________________\n"
          ],
          "name": "stdout"
        }
      ]
    },
    {
      "cell_type": "markdown",
      "metadata": {
        "id": "qXEycRLbk3Mr",
        "colab_type": "text"
      },
      "source": [
        "### Compiling the model"
      ]
    },
    {
      "cell_type": "code",
      "metadata": {
        "id": "_pGs3pOkk57w",
        "colab_type": "code",
        "colab": {}
      },
      "source": [
        "# Compile the model\n",
        "model.compile(optimizer=keras.optimizers.SGD(),\n",
        "              loss='binary_crossentropy',\n",
        "              metrics=['accuracy'])"
      ],
      "execution_count": 0,
      "outputs": []
    },
    {
      "cell_type": "markdown",
      "metadata": {
        "id": "O93aIT2Sk-JL",
        "colab_type": "text"
      },
      "source": [
        "### Setting Callbacks"
      ]
    },
    {
      "cell_type": "code",
      "metadata": {
        "id": "qLwU7kink6be",
        "colab_type": "code",
        "colab": {}
      },
      "source": [
        "# ModelCheckpoint callback\n",
        "model_checkpoint_cb = keras.callbacks.ModelCheckpoint(\n",
        "    filepath=abspath + \"model/model.h5\",\n",
        "    save_best_only=True)\n",
        "\n",
        "# EarlyStopping callback\n",
        "early_stopping_cb = keras.callbacks.EarlyStopping(\n",
        "    patience=5,\n",
        "    restore_best_weights=True)"
      ],
      "execution_count": 0,
      "outputs": []
    },
    {
      "cell_type": "markdown",
      "metadata": {
        "id": "M-OwaNbelIEc",
        "colab_type": "text"
      },
      "source": [
        "### Training, evaluating, and saving the best model"
      ]
    },
    {
      "cell_type": "code",
      "metadata": {
        "id": "DEkUkhl_lMx3",
        "colab_type": "code",
        "colab": {
          "base_uri": "https://localhost:8080/",
          "height": 1000
        },
        "outputId": "a1a4068b-01a2-4761-988d-82ab2e20ba14"
      },
      "source": [
        "# Train, evaluate and save the best model\n",
        "history = model.fit(X_train, y_train, epochs=150, validation_data=(X_valid, y_valid),batch_size=150,callbacks=[model_checkpoint_cb, early_stopping_cb])"
      ],
      "execution_count": 104,
      "outputs": [
        {
          "output_type": "stream",
          "text": [
            "Epoch 1/150\n",
            "335/335 [==============================] - 1s 2ms/step - loss: 0.4316 - accuracy: 0.8655 - val_loss: 0.3655 - val_accuracy: 0.8837\n",
            "Epoch 2/150\n",
            "335/335 [==============================] - 1s 2ms/step - loss: 0.3637 - accuracy: 0.8837 - val_loss: 0.3638 - val_accuracy: 0.8837\n",
            "Epoch 3/150\n",
            "335/335 [==============================] - 1s 2ms/step - loss: 0.3626 - accuracy: 0.8837 - val_loss: 0.3627 - val_accuracy: 0.8837\n",
            "Epoch 4/150\n",
            "335/335 [==============================] - 1s 2ms/step - loss: 0.3617 - accuracy: 0.8837 - val_loss: 0.3619 - val_accuracy: 0.8837\n",
            "Epoch 5/150\n",
            "335/335 [==============================] - 1s 2ms/step - loss: 0.3609 - accuracy: 0.8837 - val_loss: 0.3613 - val_accuracy: 0.8837\n",
            "Epoch 6/150\n",
            "335/335 [==============================] - 1s 2ms/step - loss: 0.3606 - accuracy: 0.8837 - val_loss: 0.3607 - val_accuracy: 0.8837\n",
            "Epoch 7/150\n",
            "335/335 [==============================] - 1s 2ms/step - loss: 0.3600 - accuracy: 0.8837 - val_loss: 0.3602 - val_accuracy: 0.8837\n",
            "Epoch 8/150\n",
            "335/335 [==============================] - 1s 2ms/step - loss: 0.3596 - accuracy: 0.8837 - val_loss: 0.3598 - val_accuracy: 0.8837\n",
            "Epoch 9/150\n",
            "335/335 [==============================] - 1s 2ms/step - loss: 0.3592 - accuracy: 0.8837 - val_loss: 0.3594 - val_accuracy: 0.8837\n",
            "Epoch 10/150\n",
            "335/335 [==============================] - 1s 2ms/step - loss: 0.3586 - accuracy: 0.8837 - val_loss: 0.3591 - val_accuracy: 0.8837\n",
            "Epoch 11/150\n",
            "335/335 [==============================] - 1s 2ms/step - loss: 0.3587 - accuracy: 0.8837 - val_loss: 0.3588 - val_accuracy: 0.8837\n",
            "Epoch 12/150\n",
            "335/335 [==============================] - 1s 2ms/step - loss: 0.3583 - accuracy: 0.8837 - val_loss: 0.3585 - val_accuracy: 0.8837\n",
            "Epoch 13/150\n",
            "335/335 [==============================] - 1s 2ms/step - loss: 0.3582 - accuracy: 0.8837 - val_loss: 0.3582 - val_accuracy: 0.8837\n",
            "Epoch 14/150\n",
            "335/335 [==============================] - 1s 2ms/step - loss: 0.3579 - accuracy: 0.8837 - val_loss: 0.3580 - val_accuracy: 0.8837\n",
            "Epoch 15/150\n",
            "335/335 [==============================] - 1s 2ms/step - loss: 0.3577 - accuracy: 0.8837 - val_loss: 0.3577 - val_accuracy: 0.8837\n",
            "Epoch 16/150\n",
            "335/335 [==============================] - 1s 2ms/step - loss: 0.3578 - accuracy: 0.8837 - val_loss: 0.3575 - val_accuracy: 0.8837\n",
            "Epoch 17/150\n",
            "335/335 [==============================] - 1s 2ms/step - loss: 0.3573 - accuracy: 0.8837 - val_loss: 0.3573 - val_accuracy: 0.8837\n",
            "Epoch 18/150\n",
            "335/335 [==============================] - 1s 2ms/step - loss: 0.3573 - accuracy: 0.8837 - val_loss: 0.3572 - val_accuracy: 0.8837\n",
            "Epoch 19/150\n",
            "335/335 [==============================] - 1s 2ms/step - loss: 0.3570 - accuracy: 0.8837 - val_loss: 0.3570 - val_accuracy: 0.8837\n",
            "Epoch 20/150\n",
            "335/335 [==============================] - 1s 2ms/step - loss: 0.3569 - accuracy: 0.8837 - val_loss: 0.3568 - val_accuracy: 0.8837\n",
            "Epoch 21/150\n",
            "335/335 [==============================] - 1s 2ms/step - loss: 0.3565 - accuracy: 0.8837 - val_loss: 0.3567 - val_accuracy: 0.8837\n",
            "Epoch 22/150\n",
            "335/335 [==============================] - 1s 2ms/step - loss: 0.3566 - accuracy: 0.8837 - val_loss: 0.3565 - val_accuracy: 0.8837\n",
            "Epoch 23/150\n",
            "335/335 [==============================] - 1s 2ms/step - loss: 0.3564 - accuracy: 0.8837 - val_loss: 0.3563 - val_accuracy: 0.8837\n",
            "Epoch 24/150\n",
            "335/335 [==============================] - 1s 2ms/step - loss: 0.3563 - accuracy: 0.8837 - val_loss: 0.3562 - val_accuracy: 0.8837\n",
            "Epoch 25/150\n",
            "335/335 [==============================] - 1s 2ms/step - loss: 0.3561 - accuracy: 0.8837 - val_loss: 0.3561 - val_accuracy: 0.8837\n",
            "Epoch 26/150\n",
            "335/335 [==============================] - 1s 2ms/step - loss: 0.3559 - accuracy: 0.8837 - val_loss: 0.3559 - val_accuracy: 0.8837\n",
            "Epoch 27/150\n",
            "335/335 [==============================] - 1s 2ms/step - loss: 0.3561 - accuracy: 0.8837 - val_loss: 0.3558 - val_accuracy: 0.8837\n",
            "Epoch 28/150\n",
            "335/335 [==============================] - 1s 2ms/step - loss: 0.3559 - accuracy: 0.8837 - val_loss: 0.3557 - val_accuracy: 0.8837\n",
            "Epoch 29/150\n",
            "335/335 [==============================] - 1s 2ms/step - loss: 0.3557 - accuracy: 0.8837 - val_loss: 0.3556 - val_accuracy: 0.8837\n",
            "Epoch 30/150\n",
            "335/335 [==============================] - 1s 2ms/step - loss: 0.3558 - accuracy: 0.8837 - val_loss: 0.3554 - val_accuracy: 0.8837\n",
            "Epoch 31/150\n",
            "335/335 [==============================] - 1s 2ms/step - loss: 0.3551 - accuracy: 0.8837 - val_loss: 0.3554 - val_accuracy: 0.8837\n",
            "Epoch 32/150\n",
            "335/335 [==============================] - 1s 2ms/step - loss: 0.3556 - accuracy: 0.8837 - val_loss: 0.3552 - val_accuracy: 0.8837\n",
            "Epoch 33/150\n",
            "335/335 [==============================] - 1s 2ms/step - loss: 0.3553 - accuracy: 0.8837 - val_loss: 0.3551 - val_accuracy: 0.8837\n",
            "Epoch 34/150\n",
            "335/335 [==============================] - 1s 2ms/step - loss: 0.3549 - accuracy: 0.8837 - val_loss: 0.3550 - val_accuracy: 0.8837\n",
            "Epoch 35/150\n",
            "335/335 [==============================] - 1s 2ms/step - loss: 0.3549 - accuracy: 0.8837 - val_loss: 0.3549 - val_accuracy: 0.8837\n",
            "Epoch 36/150\n",
            "335/335 [==============================] - 1s 2ms/step - loss: 0.3550 - accuracy: 0.8837 - val_loss: 0.3548 - val_accuracy: 0.8837\n",
            "Epoch 37/150\n",
            "335/335 [==============================] - 1s 2ms/step - loss: 0.3548 - accuracy: 0.8837 - val_loss: 0.3547 - val_accuracy: 0.8837\n",
            "Epoch 38/150\n",
            "335/335 [==============================] - 1s 2ms/step - loss: 0.3547 - accuracy: 0.8837 - val_loss: 0.3546 - val_accuracy: 0.8837\n",
            "Epoch 39/150\n",
            "335/335 [==============================] - 1s 2ms/step - loss: 0.3545 - accuracy: 0.8837 - val_loss: 0.3545 - val_accuracy: 0.8837\n",
            "Epoch 40/150\n",
            "335/335 [==============================] - 1s 2ms/step - loss: 0.3544 - accuracy: 0.8837 - val_loss: 0.3544 - val_accuracy: 0.8837\n",
            "Epoch 41/150\n",
            "335/335 [==============================] - 1s 2ms/step - loss: 0.3550 - accuracy: 0.8837 - val_loss: 0.3543 - val_accuracy: 0.8837\n",
            "Epoch 42/150\n",
            "335/335 [==============================] - 1s 2ms/step - loss: 0.3542 - accuracy: 0.8837 - val_loss: 0.3542 - val_accuracy: 0.8837\n",
            "Epoch 43/150\n",
            "335/335 [==============================] - 1s 2ms/step - loss: 0.3545 - accuracy: 0.8837 - val_loss: 0.3541 - val_accuracy: 0.8837\n",
            "Epoch 44/150\n",
            "335/335 [==============================] - 1s 2ms/step - loss: 0.3543 - accuracy: 0.8837 - val_loss: 0.3540 - val_accuracy: 0.8837\n",
            "Epoch 45/150\n",
            "335/335 [==============================] - 1s 2ms/step - loss: 0.3540 - accuracy: 0.8837 - val_loss: 0.3539 - val_accuracy: 0.8837\n",
            "Epoch 46/150\n",
            "335/335 [==============================] - 1s 2ms/step - loss: 0.3539 - accuracy: 0.8837 - val_loss: 0.3538 - val_accuracy: 0.8837\n",
            "Epoch 47/150\n",
            "335/335 [==============================] - 1s 2ms/step - loss: 0.3541 - accuracy: 0.8837 - val_loss: 0.3537 - val_accuracy: 0.8837\n",
            "Epoch 48/150\n",
            "335/335 [==============================] - 1s 2ms/step - loss: 0.3534 - accuracy: 0.8837 - val_loss: 0.3536 - val_accuracy: 0.8837\n",
            "Epoch 49/150\n",
            "335/335 [==============================] - 1s 2ms/step - loss: 0.3538 - accuracy: 0.8837 - val_loss: 0.3535 - val_accuracy: 0.8837\n",
            "Epoch 50/150\n",
            "335/335 [==============================] - 1s 2ms/step - loss: 0.3534 - accuracy: 0.8837 - val_loss: 0.3534 - val_accuracy: 0.8837\n",
            "Epoch 51/150\n",
            "335/335 [==============================] - 1s 2ms/step - loss: 0.3534 - accuracy: 0.8837 - val_loss: 0.3533 - val_accuracy: 0.8837\n",
            "Epoch 52/150\n",
            "335/335 [==============================] - 1s 2ms/step - loss: 0.3533 - accuracy: 0.8837 - val_loss: 0.3532 - val_accuracy: 0.8837\n",
            "Epoch 53/150\n",
            "335/335 [==============================] - 1s 2ms/step - loss: 0.3534 - accuracy: 0.8837 - val_loss: 0.3531 - val_accuracy: 0.8837\n",
            "Epoch 54/150\n",
            "335/335 [==============================] - 1s 2ms/step - loss: 0.3534 - accuracy: 0.8837 - val_loss: 0.3529 - val_accuracy: 0.8837\n",
            "Epoch 55/150\n",
            "335/335 [==============================] - 1s 2ms/step - loss: 0.3527 - accuracy: 0.8837 - val_loss: 0.3530 - val_accuracy: 0.8837\n",
            "Epoch 56/150\n",
            "335/335 [==============================] - 1s 2ms/step - loss: 0.3531 - accuracy: 0.8837 - val_loss: 0.3527 - val_accuracy: 0.8837\n",
            "Epoch 57/150\n",
            "335/335 [==============================] - 1s 2ms/step - loss: 0.3526 - accuracy: 0.8837 - val_loss: 0.3526 - val_accuracy: 0.8837\n",
            "Epoch 58/150\n",
            "335/335 [==============================] - 1s 2ms/step - loss: 0.3530 - accuracy: 0.8837 - val_loss: 0.3525 - val_accuracy: 0.8837\n",
            "Epoch 59/150\n",
            "335/335 [==============================] - 1s 2ms/step - loss: 0.3528 - accuracy: 0.8837 - val_loss: 0.3525 - val_accuracy: 0.8837\n",
            "Epoch 60/150\n",
            "335/335 [==============================] - 1s 2ms/step - loss: 0.3522 - accuracy: 0.8837 - val_loss: 0.3523 - val_accuracy: 0.8837\n",
            "Epoch 61/150\n",
            "335/335 [==============================] - 1s 2ms/step - loss: 0.3522 - accuracy: 0.8837 - val_loss: 0.3523 - val_accuracy: 0.8837\n",
            "Epoch 62/150\n",
            "335/335 [==============================] - 1s 2ms/step - loss: 0.3524 - accuracy: 0.8837 - val_loss: 0.3522 - val_accuracy: 0.8837\n",
            "Epoch 63/150\n",
            "335/335 [==============================] - 1s 2ms/step - loss: 0.3520 - accuracy: 0.8837 - val_loss: 0.3522 - val_accuracy: 0.8837\n",
            "Epoch 64/150\n",
            "335/335 [==============================] - 1s 2ms/step - loss: 0.3522 - accuracy: 0.8837 - val_loss: 0.3519 - val_accuracy: 0.8837\n",
            "Epoch 65/150\n",
            "335/335 [==============================] - 1s 2ms/step - loss: 0.3518 - accuracy: 0.8837 - val_loss: 0.3519 - val_accuracy: 0.8837\n",
            "Epoch 66/150\n",
            "335/335 [==============================] - 1s 2ms/step - loss: 0.3516 - accuracy: 0.8837 - val_loss: 0.3517 - val_accuracy: 0.8837\n",
            "Epoch 67/150\n",
            "335/335 [==============================] - 1s 2ms/step - loss: 0.3516 - accuracy: 0.8837 - val_loss: 0.3516 - val_accuracy: 0.8837\n",
            "Epoch 68/150\n",
            "335/335 [==============================] - 1s 2ms/step - loss: 0.3516 - accuracy: 0.8837 - val_loss: 0.3515 - val_accuracy: 0.8837\n",
            "Epoch 69/150\n",
            "335/335 [==============================] - 1s 2ms/step - loss: 0.3517 - accuracy: 0.8837 - val_loss: 0.3514 - val_accuracy: 0.8837\n",
            "Epoch 70/150\n",
            "335/335 [==============================] - 1s 2ms/step - loss: 0.3515 - accuracy: 0.8837 - val_loss: 0.3513 - val_accuracy: 0.8837\n",
            "Epoch 71/150\n",
            "335/335 [==============================] - 1s 2ms/step - loss: 0.3514 - accuracy: 0.8837 - val_loss: 0.3512 - val_accuracy: 0.8837\n",
            "Epoch 72/150\n",
            "335/335 [==============================] - 1s 2ms/step - loss: 0.3512 - accuracy: 0.8837 - val_loss: 0.3510 - val_accuracy: 0.8837\n",
            "Epoch 73/150\n",
            "335/335 [==============================] - 1s 2ms/step - loss: 0.3510 - accuracy: 0.8837 - val_loss: 0.3511 - val_accuracy: 0.8837\n",
            "Epoch 74/150\n",
            "335/335 [==============================] - 1s 2ms/step - loss: 0.3511 - accuracy: 0.8837 - val_loss: 0.3509 - val_accuracy: 0.8837\n",
            "Epoch 75/150\n",
            "335/335 [==============================] - 1s 2ms/step - loss: 0.3508 - accuracy: 0.8837 - val_loss: 0.3507 - val_accuracy: 0.8837\n",
            "Epoch 76/150\n",
            "335/335 [==============================] - 1s 2ms/step - loss: 0.3505 - accuracy: 0.8837 - val_loss: 0.3507 - val_accuracy: 0.8837\n",
            "Epoch 77/150\n",
            "335/335 [==============================] - 1s 2ms/step - loss: 0.3507 - accuracy: 0.8837 - val_loss: 0.3505 - val_accuracy: 0.8837\n",
            "Epoch 78/150\n",
            "335/335 [==============================] - 1s 2ms/step - loss: 0.3504 - accuracy: 0.8837 - val_loss: 0.3505 - val_accuracy: 0.8837\n",
            "Epoch 79/150\n",
            "335/335 [==============================] - 1s 2ms/step - loss: 0.3504 - accuracy: 0.8837 - val_loss: 0.3503 - val_accuracy: 0.8837\n",
            "Epoch 80/150\n",
            "335/335 [==============================] - 1s 2ms/step - loss: 0.3504 - accuracy: 0.8837 - val_loss: 0.3502 - val_accuracy: 0.8837\n",
            "Epoch 81/150\n",
            "335/335 [==============================] - 1s 2ms/step - loss: 0.3506 - accuracy: 0.8837 - val_loss: 0.3501 - val_accuracy: 0.8837\n",
            "Epoch 82/150\n",
            "335/335 [==============================] - 1s 2ms/step - loss: 0.3502 - accuracy: 0.8837 - val_loss: 0.3500 - val_accuracy: 0.8837\n",
            "Epoch 83/150\n",
            "335/335 [==============================] - 1s 2ms/step - loss: 0.3500 - accuracy: 0.8837 - val_loss: 0.3499 - val_accuracy: 0.8837\n",
            "Epoch 84/150\n",
            "335/335 [==============================] - 1s 2ms/step - loss: 0.3502 - accuracy: 0.8837 - val_loss: 0.3498 - val_accuracy: 0.8837\n",
            "Epoch 85/150\n",
            "335/335 [==============================] - 1s 2ms/step - loss: 0.3501 - accuracy: 0.8837 - val_loss: 0.3498 - val_accuracy: 0.8837\n",
            "Epoch 86/150\n",
            "335/335 [==============================] - 1s 2ms/step - loss: 0.3497 - accuracy: 0.8837 - val_loss: 0.3497 - val_accuracy: 0.8837\n",
            "Epoch 87/150\n",
            "335/335 [==============================] - 1s 2ms/step - loss: 0.3497 - accuracy: 0.8837 - val_loss: 0.3495 - val_accuracy: 0.8837\n",
            "Epoch 88/150\n",
            "335/335 [==============================] - 1s 2ms/step - loss: 0.3495 - accuracy: 0.8837 - val_loss: 0.3494 - val_accuracy: 0.8837\n",
            "Epoch 89/150\n",
            "335/335 [==============================] - 1s 2ms/step - loss: 0.3491 - accuracy: 0.8837 - val_loss: 0.3493 - val_accuracy: 0.8837\n",
            "Epoch 90/150\n",
            "335/335 [==============================] - 1s 2ms/step - loss: 0.3493 - accuracy: 0.8837 - val_loss: 0.3492 - val_accuracy: 0.8837\n",
            "Epoch 91/150\n",
            "335/335 [==============================] - 1s 2ms/step - loss: 0.3491 - accuracy: 0.8837 - val_loss: 0.3491 - val_accuracy: 0.8837\n",
            "Epoch 92/150\n",
            "335/335 [==============================] - 1s 2ms/step - loss: 0.3491 - accuracy: 0.8837 - val_loss: 0.3490 - val_accuracy: 0.8837\n",
            "Epoch 93/150\n",
            "335/335 [==============================] - 1s 2ms/step - loss: 0.3491 - accuracy: 0.8837 - val_loss: 0.3490 - val_accuracy: 0.8837\n",
            "Epoch 94/150\n",
            "335/335 [==============================] - 1s 2ms/step - loss: 0.3488 - accuracy: 0.8837 - val_loss: 0.3489 - val_accuracy: 0.8837\n",
            "Epoch 95/150\n",
            "335/335 [==============================] - 1s 2ms/step - loss: 0.3487 - accuracy: 0.8837 - val_loss: 0.3488 - val_accuracy: 0.8837\n",
            "Epoch 96/150\n",
            "335/335 [==============================] - 1s 2ms/step - loss: 0.3490 - accuracy: 0.8837 - val_loss: 0.3488 - val_accuracy: 0.8837\n",
            "Epoch 97/150\n",
            "335/335 [==============================] - 1s 2ms/step - loss: 0.3486 - accuracy: 0.8837 - val_loss: 0.3488 - val_accuracy: 0.8837\n",
            "Epoch 98/150\n",
            "335/335 [==============================] - 1s 2ms/step - loss: 0.3486 - accuracy: 0.8837 - val_loss: 0.3486 - val_accuracy: 0.8837\n",
            "Epoch 99/150\n",
            "335/335 [==============================] - 1s 2ms/step - loss: 0.3488 - accuracy: 0.8837 - val_loss: 0.3486 - val_accuracy: 0.8837\n",
            "Epoch 100/150\n",
            "335/335 [==============================] - 1s 2ms/step - loss: 0.3490 - accuracy: 0.8837 - val_loss: 0.3484 - val_accuracy: 0.8837\n",
            "Epoch 101/150\n",
            "335/335 [==============================] - 1s 2ms/step - loss: 0.3483 - accuracy: 0.8837 - val_loss: 0.3483 - val_accuracy: 0.8837\n",
            "Epoch 102/150\n",
            "335/335 [==============================] - 1s 2ms/step - loss: 0.3484 - accuracy: 0.8837 - val_loss: 0.3482 - val_accuracy: 0.8837\n",
            "Epoch 103/150\n",
            "335/335 [==============================] - 1s 2ms/step - loss: 0.3483 - accuracy: 0.8837 - val_loss: 0.3482 - val_accuracy: 0.8837\n",
            "Epoch 104/150\n",
            "335/335 [==============================] - 1s 2ms/step - loss: 0.3482 - accuracy: 0.8837 - val_loss: 0.3481 - val_accuracy: 0.8837\n",
            "Epoch 105/150\n",
            "335/335 [==============================] - 1s 2ms/step - loss: 0.3481 - accuracy: 0.8837 - val_loss: 0.3480 - val_accuracy: 0.8837\n",
            "Epoch 106/150\n",
            "335/335 [==============================] - 1s 2ms/step - loss: 0.3484 - accuracy: 0.8837 - val_loss: 0.3483 - val_accuracy: 0.8837\n",
            "Epoch 107/150\n",
            "335/335 [==============================] - 1s 2ms/step - loss: 0.3482 - accuracy: 0.8837 - val_loss: 0.3480 - val_accuracy: 0.8837\n",
            "Epoch 108/150\n",
            "335/335 [==============================] - 1s 2ms/step - loss: 0.3484 - accuracy: 0.8837 - val_loss: 0.3484 - val_accuracy: 0.8837\n",
            "Epoch 109/150\n",
            "335/335 [==============================] - 1s 2ms/step - loss: 0.3481 - accuracy: 0.8837 - val_loss: 0.3478 - val_accuracy: 0.8837\n",
            "Epoch 110/150\n",
            "335/335 [==============================] - 1s 2ms/step - loss: 0.3478 - accuracy: 0.8837 - val_loss: 0.3477 - val_accuracy: 0.8837\n",
            "Epoch 111/150\n",
            "335/335 [==============================] - 1s 2ms/step - loss: 0.3478 - accuracy: 0.8837 - val_loss: 0.3478 - val_accuracy: 0.8837\n",
            "Epoch 112/150\n",
            "335/335 [==============================] - 1s 2ms/step - loss: 0.3478 - accuracy: 0.8837 - val_loss: 0.3476 - val_accuracy: 0.8838\n",
            "Epoch 113/150\n",
            "335/335 [==============================] - 1s 2ms/step - loss: 0.3477 - accuracy: 0.8837 - val_loss: 0.3477 - val_accuracy: 0.8838\n",
            "Epoch 114/150\n",
            "335/335 [==============================] - 1s 2ms/step - loss: 0.3476 - accuracy: 0.8837 - val_loss: 0.3475 - val_accuracy: 0.8838\n",
            "Epoch 115/150\n",
            "335/335 [==============================] - 1s 2ms/step - loss: 0.3474 - accuracy: 0.8837 - val_loss: 0.3474 - val_accuracy: 0.8838\n",
            "Epoch 116/150\n",
            "335/335 [==============================] - 1s 2ms/step - loss: 0.3476 - accuracy: 0.8837 - val_loss: 0.3474 - val_accuracy: 0.8838\n",
            "Epoch 117/150\n",
            "335/335 [==============================] - 1s 2ms/step - loss: 0.3475 - accuracy: 0.8837 - val_loss: 0.3473 - val_accuracy: 0.8839\n",
            "Epoch 118/150\n",
            "335/335 [==============================] - 1s 2ms/step - loss: 0.3475 - accuracy: 0.8837 - val_loss: 0.3473 - val_accuracy: 0.8839\n",
            "Epoch 119/150\n",
            "335/335 [==============================] - 1s 2ms/step - loss: 0.3474 - accuracy: 0.8836 - val_loss: 0.3473 - val_accuracy: 0.8839\n",
            "Epoch 120/150\n",
            "335/335 [==============================] - 1s 2ms/step - loss: 0.3475 - accuracy: 0.8837 - val_loss: 0.3473 - val_accuracy: 0.8839\n",
            "Epoch 121/150\n",
            "335/335 [==============================] - 1s 2ms/step - loss: 0.3473 - accuracy: 0.8837 - val_loss: 0.3472 - val_accuracy: 0.8839\n",
            "Epoch 122/150\n",
            "335/335 [==============================] - 1s 2ms/step - loss: 0.3470 - accuracy: 0.8837 - val_loss: 0.3472 - val_accuracy: 0.8839\n",
            "Epoch 123/150\n",
            "335/335 [==============================] - 1s 2ms/step - loss: 0.3472 - accuracy: 0.8836 - val_loss: 0.3471 - val_accuracy: 0.8840\n",
            "Epoch 124/150\n",
            "335/335 [==============================] - 1s 2ms/step - loss: 0.3471 - accuracy: 0.8836 - val_loss: 0.3472 - val_accuracy: 0.8841\n",
            "Epoch 125/150\n",
            "335/335 [==============================] - 1s 2ms/step - loss: 0.3473 - accuracy: 0.8837 - val_loss: 0.3471 - val_accuracy: 0.8843\n",
            "Epoch 126/150\n",
            "335/335 [==============================] - 1s 2ms/step - loss: 0.3472 - accuracy: 0.8836 - val_loss: 0.3471 - val_accuracy: 0.8840\n",
            "Epoch 127/150\n",
            "335/335 [==============================] - 1s 2ms/step - loss: 0.3472 - accuracy: 0.8837 - val_loss: 0.3471 - val_accuracy: 0.8843\n",
            "Epoch 128/150\n",
            "335/335 [==============================] - 1s 2ms/step - loss: 0.3475 - accuracy: 0.8837 - val_loss: 0.3473 - val_accuracy: 0.8844\n",
            "Epoch 129/150\n",
            "335/335 [==============================] - 1s 2ms/step - loss: 0.3471 - accuracy: 0.8837 - val_loss: 0.3470 - val_accuracy: 0.8843\n",
            "Epoch 130/150\n",
            "335/335 [==============================] - 1s 2ms/step - loss: 0.3468 - accuracy: 0.8837 - val_loss: 0.3478 - val_accuracy: 0.8840\n",
            "Epoch 131/150\n",
            "335/335 [==============================] - 1s 2ms/step - loss: 0.3470 - accuracy: 0.8837 - val_loss: 0.3469 - val_accuracy: 0.8843\n",
            "Epoch 132/150\n",
            "335/335 [==============================] - 1s 2ms/step - loss: 0.3469 - accuracy: 0.8837 - val_loss: 0.3469 - val_accuracy: 0.8843\n",
            "Epoch 133/150\n",
            "335/335 [==============================] - 1s 2ms/step - loss: 0.3469 - accuracy: 0.8837 - val_loss: 0.3469 - val_accuracy: 0.8843\n",
            "Epoch 134/150\n",
            "335/335 [==============================] - 1s 2ms/step - loss: 0.3469 - accuracy: 0.8837 - val_loss: 0.3475 - val_accuracy: 0.8842\n",
            "Epoch 135/150\n",
            "335/335 [==============================] - 1s 2ms/step - loss: 0.3470 - accuracy: 0.8837 - val_loss: 0.3468 - val_accuracy: 0.8844\n",
            "Epoch 136/150\n",
            "335/335 [==============================] - 1s 2ms/step - loss: 0.3467 - accuracy: 0.8837 - val_loss: 0.3468 - val_accuracy: 0.8844\n",
            "Epoch 137/150\n",
            "335/335 [==============================] - 1s 2ms/step - loss: 0.3471 - accuracy: 0.8837 - val_loss: 0.3468 - val_accuracy: 0.8844\n",
            "Epoch 138/150\n",
            "335/335 [==============================] - 1s 2ms/step - loss: 0.3468 - accuracy: 0.8837 - val_loss: 0.3469 - val_accuracy: 0.8843\n",
            "Epoch 139/150\n",
            "335/335 [==============================] - 1s 2ms/step - loss: 0.3468 - accuracy: 0.8837 - val_loss: 0.3469 - val_accuracy: 0.8843\n",
            "Epoch 140/150\n",
            "335/335 [==============================] - 1s 2ms/step - loss: 0.3470 - accuracy: 0.8837 - val_loss: 0.3468 - val_accuracy: 0.8843\n",
            "Epoch 141/150\n",
            "335/335 [==============================] - 1s 2ms/step - loss: 0.3468 - accuracy: 0.8837 - val_loss: 0.3468 - val_accuracy: 0.8842\n",
            "Epoch 142/150\n",
            "335/335 [==============================] - 1s 2ms/step - loss: 0.3466 - accuracy: 0.8836 - val_loss: 0.3467 - val_accuracy: 0.8843\n",
            "Epoch 143/150\n",
            "335/335 [==============================] - 1s 2ms/step - loss: 0.3469 - accuracy: 0.8836 - val_loss: 0.3467 - val_accuracy: 0.8844\n",
            "Epoch 144/150\n",
            "335/335 [==============================] - 1s 2ms/step - loss: 0.3467 - accuracy: 0.8837 - val_loss: 0.3468 - val_accuracy: 0.8842\n",
            "Epoch 145/150\n",
            "335/335 [==============================] - 1s 2ms/step - loss: 0.3467 - accuracy: 0.8836 - val_loss: 0.3467 - val_accuracy: 0.8844\n",
            "Epoch 146/150\n",
            "335/335 [==============================] - 1s 2ms/step - loss: 0.3467 - accuracy: 0.8836 - val_loss: 0.3467 - val_accuracy: 0.8844\n",
            "Epoch 147/150\n",
            "335/335 [==============================] - 1s 2ms/step - loss: 0.3467 - accuracy: 0.8836 - val_loss: 0.3467 - val_accuracy: 0.8844\n",
            "Epoch 148/150\n",
            "335/335 [==============================] - 1s 2ms/step - loss: 0.3468 - accuracy: 0.8836 - val_loss: 0.3466 - val_accuracy: 0.8844\n",
            "Epoch 149/150\n",
            "335/335 [==============================] - 1s 2ms/step - loss: 0.3466 - accuracy: 0.8836 - val_loss: 0.3468 - val_accuracy: 0.8844\n",
            "Epoch 150/150\n",
            "335/335 [==============================] - 1s 2ms/step - loss: 0.3466 - accuracy: 0.8836 - val_loss: 0.3468 - val_accuracy: 0.8844\n"
          ],
          "name": "stdout"
        }
      ]
    },
    {
      "cell_type": "markdown",
      "metadata": {
        "id": "gCmhuh_slTnY",
        "colab_type": "text"
      },
      "source": [
        "### Plotting the learning curve"
      ]
    },
    {
      "cell_type": "code",
      "metadata": {
        "id": "8d_v7fEslVfI",
        "colab_type": "code",
        "colab": {
          "base_uri": "https://localhost:8080/",
          "height": 347
        },
        "outputId": "0a921d6e-a2d2-4d73-bc69-218d1cfe6004"
      },
      "source": [
        "import matplotlib.pyplot as plt\n",
        "%matplotlib inline \n",
        "\n",
        "# Set matplotlib sizes\n",
        "plt.rc('font', size=20)\n",
        "plt.rc('axes', titlesize=20)\n",
        "plt.rc('axes', labelsize=20)\n",
        "plt.rc('xtick', labelsize=20)\n",
        "plt.rc('ytick', labelsize=20)\n",
        "plt.rc('legend', fontsize=20)\n",
        "plt.rc('figure', titlesize=20)\n",
        "\n",
        "# Create a figure\n",
        "pd.DataFrame(history.history).plot(figsize=(8, 5))\n",
        "\n",
        "# Save and show the figure\n",
        "plt.tight_layout()\n",
        "plt.savefig(abspath + 'learning_curve.pdf')\n",
        "plt.show()"
      ],
      "execution_count": 76,
      "outputs": [
        {
          "output_type": "display_data",
          "data": {
            "image/png": "[encoded data removed]",
            "text/plain": [
              "<Figure size 576x360 with 1 Axes>"
            ]
          },
          "metadata": {
            "tags": [],
            "needs_background": "light"
          }
        }
      ]
    },
    {
      "cell_type": "markdown",
      "metadata": {
        "id": "kxLPjTD3li3L",
        "colab_type": "text"
      },
      "source": [
        "### Testing"
      ]
    },
    {
      "cell_type": "markdown",
      "metadata": {
        "id": "qNwdQp0plmVn",
        "colab_type": "text"
      },
      "source": [
        "#### Load the saved best model"
      ]
    },
    {
      "cell_type": "code",
      "metadata": {
        "id": "SgxtdvgAllvT",
        "colab_type": "code",
        "colab": {}
      },
      "source": [
        "# Load the model\n",
        "model = keras.models.load_model(abspath + \"model/model.h5\")"
      ],
      "execution_count": 0,
      "outputs": []
    },
    {
      "cell_type": "markdown",
      "metadata": {
        "id": "QZxnZrhmltfr",
        "colab_type": "text"
      },
      "source": [
        "#### Evaluating the model"
      ]
    },
    {
      "cell_type": "code",
      "metadata": {
        "id": "cTp5la_ElvON",
        "colab_type": "code",
        "colab": {}
      },
      "source": [
        "# Evaluate the model on the test set\n",
        "loss, accuracy = model.evaluate(X_test, df_test[target].astype(int).to_numpy(), verbose=0)"
      ],
      "execution_count": 0,
      "outputs": []
    },
    {
      "cell_type": "code",
      "metadata": {
        "id": "TpCIwGkYpUIJ",
        "colab_type": "code",
        "colab": {
          "base_uri": "https://localhost:8080/",
          "height": 34
        },
        "outputId": "43e77793-9300-4001-f076-948b4d029900"
      },
      "source": [
        "# Print the accuracy\n",
        "print('test_accuracy:', accuracy)"
      ],
      "execution_count": 107,
      "outputs": [
        {
          "output_type": "stream",
          "text": [
            "test_accuracy: 0.8837491273880005\n"
          ],
          "name": "stdout"
        }
      ]
    },
    {
      "cell_type": "markdown",
      "metadata": {
        "id": "i33GbE37pXAa",
        "colab_type": "text"
      },
      "source": [
        "## Compare the models and select the best model"
      ]
    },
    {
      "cell_type": "code",
      "metadata": {
        "id": "w78GzFp2pdBm",
        "colab_type": "code",
        "colab": {
          "base_uri": "https://localhost:8080/",
          "height": 427
        },
        "outputId": "056481e9-d691-47bd-d62d-b605d6ac3149"
      },
      "source": [
        "# Create 2 lists for x and y axis\n",
        "models = ['Hist-Gradient Boost', 'Deep NN', 'XGBoost', 'Random Forest', 'Decision Tree', 'Logistic Regression']\n",
        "scores = [round(best_score_param_estimator_gs[0][0],5), round(accuracy,5), round(best_score_param_estimator_gs[1][0],5), \n",
        "          round(best_score_param_estimator_gs[2][0],5), round(best_score_param_estimator_gs[3][0],5), round(best_score_param_estimator_gs[4][0],5)]\n",
        "\n",
        "# Plot the bar chart for models' scores\n",
        "fig, ax = plt.subplots(figsize=(8, 6))\n",
        "plt.barh(models, scores, align='center', alpha=0.5)\n",
        "plt.xlabel('Score')\n",
        "plt.title('Scores from Different Models')\n",
        "#ax.spines['top'].set_visible(False)\n",
        "ax.spines['right'].set_visible(False)\n",
        "# Show values on the bar chart\n",
        "for index, value in enumerate(scores):\n",
        "    plt.text(value, index, str(value))\n",
        "plt.show()"
      ],
      "execution_count": 108,
      "outputs": [
        {
          "output_type": "display_data",
          "data": {
            "image/png": "[encoded data removed]",
            "text/plain": [
              "<Figure size 576x432 with 1 Axes>"
            ]
          },
          "metadata": {
            "tags": [],
            "needs_background": "light"
          }
        }
      ]
    },
    {
      "cell_type": "markdown",
      "metadata": {
        "id": "gQ2LEufsxAXg",
        "colab_type": "text"
      },
      "source": [
        "We performed Logistic Regression, Decision Tree, Random Forest, XGBoost, Histogram-based Gradient Boost, and Deep Neural Network on prediction of diabetic patient readmission. Among the 6 models, Histogram-based Gradient Boost is the best model with the highest score, 0.884."
      ]
    },
    {
      "cell_type": "code",
      "metadata": {
        "id": "ZL4y91nGtLuk",
        "colab_type": "code",
        "colab": {}
      },
      "source": [
        ""
      ],
      "execution_count": 0,
      "outputs": []
    }
  ]
}